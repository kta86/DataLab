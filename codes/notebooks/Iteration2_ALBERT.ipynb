{
 "cells": [
  {
   "cell_type": "markdown",
   "metadata": {
    "id": "tn6WE2NftL4S"
   },
   "source": [
    "# **Iteration 2- ALBERT** \n",
    "## MSc Project\n",
    "## Surya L Ramesh (0206793)"
   ]
  },
  {
   "cell_type": "markdown",
   "metadata": {
    "id": "Z2jVLX7ZtFjH"
   },
   "source": [
    "## **Load libraries**"
   ]
  },
  {
   "cell_type": "code",
   "execution_count": 14,
   "metadata": {
    "colab": {
     "base_uri": "https://localhost:8080/"
    },
    "executionInfo": {
     "elapsed": 8894,
     "status": "ok",
     "timestamp": 1628710308007,
     "user": {
      "displayName": "Surya R",
      "photoUrl": "https://lh3.googleusercontent.com/a-/AOh14Gjck1QrAr3OBVHDiFDEXm8F2D-3OgColYxFHK0CZXM=s64",
      "userId": "03485497232926795699"
     },
     "user_tz": -60
    },
    "id": "BKiyCjAkE_Dz",
    "outputId": "76c279d4-bf26-4bbf-fc7e-91702eee8d67"
   },
   "outputs": [
    {
     "name": "stdout",
     "output_type": "stream",
     "text": [
      "Requirement already satisfied: transformers in c:\\users\\katja\\anaconda3\\envs\\legalpythia-v2-legal-pythia-v2.1\\lib\\site-packages (4.21.1)\n",
      "Requirement already satisfied: tokenizers!=0.11.3,<0.13,>=0.11.1 in c:\\users\\katja\\anaconda3\\envs\\legalpythia-v2-legal-pythia-v2.1\\lib\\site-packages (from transformers) (0.12.1)\n",
      "Requirement already satisfied: pyyaml>=5.1 in c:\\users\\katja\\anaconda3\\envs\\legalpythia-v2-legal-pythia-v2.1\\lib\\site-packages (from transformers) (6.0)\n",
      "Requirement already satisfied: requests in c:\\users\\katja\\anaconda3\\envs\\legalpythia-v2-legal-pythia-v2.1\\lib\\site-packages (from transformers) (2.21.0)\n",
      "Requirement already satisfied: tqdm>=4.27 in c:\\users\\katja\\anaconda3\\envs\\legalpythia-v2-legal-pythia-v2.1\\lib\\site-packages (from transformers) (4.64.0)\n",
      "Requirement already satisfied: numpy>=1.17 in c:\\users\\katja\\anaconda3\\envs\\legalpythia-v2-legal-pythia-v2.1\\lib\\site-packages (from transformers) (1.23.1)\n",
      "Requirement already satisfied: regex!=2019.12.17 in c:\\users\\katja\\anaconda3\\envs\\legalpythia-v2-legal-pythia-v2.1\\lib\\site-packages (from transformers) (2022.7.9)\n",
      "Requirement already satisfied: filelock in c:\\users\\katja\\anaconda3\\envs\\legalpythia-v2-legal-pythia-v2.1\\lib\\site-packages (from transformers) (3.8.0)\n",
      "Requirement already satisfied: packaging>=20.0 in c:\\users\\katja\\anaconda3\\envs\\legalpythia-v2-legal-pythia-v2.1\\lib\\site-packages (from transformers) (21.3)\n",
      "Requirement already satisfied: huggingface-hub<1.0,>=0.1.0 in c:\\users\\katja\\anaconda3\\envs\\legalpythia-v2-legal-pythia-v2.1\\lib\\site-packages (from transformers) (0.8.1)\n",
      "Requirement already satisfied: typing-extensions>=3.7.4.3 in c:\\users\\katja\\anaconda3\\envs\\legalpythia-v2-legal-pythia-v2.1\\lib\\site-packages (from huggingface-hub<1.0,>=0.1.0->transformers) (4.3.0)\n",
      "Requirement already satisfied: pyparsing!=3.0.5,>=2.0.2 in c:\\users\\katja\\anaconda3\\envs\\legalpythia-v2-legal-pythia-v2.1\\lib\\site-packages (from packaging>=20.0->transformers) (3.0.4)\n",
      "Requirement already satisfied: colorama in c:\\users\\katja\\anaconda3\\envs\\legalpythia-v2-legal-pythia-v2.1\\lib\\site-packages (from tqdm>=4.27->transformers) (0.4.5)\n",
      "Requirement already satisfied: idna<2.9,>=2.5 in c:\\users\\katja\\anaconda3\\envs\\legalpythia-v2-legal-pythia-v2.1\\lib\\site-packages (from requests->transformers) (2.8)\n",
      "Requirement already satisfied: chardet<3.1.0,>=3.0.2 in c:\\users\\katja\\anaconda3\\envs\\legalpythia-v2-legal-pythia-v2.1\\lib\\site-packages (from requests->transformers) (3.0.4)\n",
      "Requirement already satisfied: certifi>=2017.4.17 in c:\\users\\katja\\anaconda3\\envs\\legalpythia-v2-legal-pythia-v2.1\\lib\\site-packages (from requests->transformers) (2022.6.15)\n",
      "Requirement already satisfied: urllib3<1.25,>=1.21.1 in c:\\users\\katja\\anaconda3\\envs\\legalpythia-v2-legal-pythia-v2.1\\lib\\site-packages (from requests->transformers) (1.24.3)\n",
      "Requirement already satisfied: sentencepiece in c:\\users\\katja\\anaconda3\\envs\\legalpythia-v2-legal-pythia-v2.1\\lib\\site-packages (0.1.97)\n"
     ]
    }
   ],
   "source": [
    "\n",
    "!pip install transformers\n",
    "!pip install sentencepiece"
   ]
  },
  {
   "cell_type": "code",
   "execution_count": 15,
   "metadata": {
    "executionInfo": {
     "elapsed": 5895,
     "status": "ok",
     "timestamp": 1628710313891,
     "user": {
      "displayName": "Surya R",
      "photoUrl": "https://lh3.googleusercontent.com/a-/AOh14Gjck1QrAr3OBVHDiFDEXm8F2D-3OgColYxFHK0CZXM=s64",
      "userId": "03485497232926795699"
     },
     "user_tz": -60
    },
    "id": "LaOXsbkdDXbn"
   },
   "outputs": [],
   "source": [
    "import pandas as pd\n",
    "import re\n",
    "import torch\n",
    "# import torch_xla\n",
    "# import torch_xla.core.xla_model as xm\n",
    "from torch.utils.data import Dataset, TensorDataset, DataLoader, SequentialSampler, RandomSampler\n",
    "from torch.nn.utils.rnn import pad_sequence\n",
    "# from keras.preprocessing.sequence import pad_sequences\n",
    "import pickle\n",
    "import os\n",
    "from transformers import AlbertTokenizer\n",
    "import numpy as np\n",
    "\n",
    "import os\n",
    "import pickle\n",
    "import fnmatch\n",
    "from termcolor import colored\n",
    "import pandas as pd\n",
    "import numpy as np\n",
    "import re\n",
    "import matplotlib.pyplot as plt\n",
    "import copy\n",
    "import torch.optim as optim\n",
    "import torch\n",
    "import torch.nn as nn\n",
    "import random\n",
    "\n",
    "import spacy\n",
    "import shutil  # for high-level operations on files"
   ]
  },
  {
   "cell_type": "markdown",
   "metadata": {
    "id": "W-pMvW1DnMZG"
   },
   "source": [
    "## **Check GPU and memory availability** \n",
    "   - code is from Google Colab official examples: https://colab.research.google.com/notebooks/pro.ipynb"
   ]
  },
  {
   "cell_type": "code",
   "execution_count": 16,
   "metadata": {
    "colab": {
     "base_uri": "https://localhost:8080/"
    },
    "executionInfo": {
     "elapsed": 28,
     "status": "ok",
     "timestamp": 1628710313891,
     "user": {
      "displayName": "Surya R",
      "photoUrl": "https://lh3.googleusercontent.com/a-/AOh14Gjck1QrAr3OBVHDiFDEXm8F2D-3OgColYxFHK0CZXM=s64",
      "userId": "03485497232926795699"
     },
     "user_tz": -60
    },
    "id": "uc2yAfOF012n",
    "outputId": "4d62b790-38bd-473c-8f0c-b37f39bf4507"
   },
   "outputs": [
    {
     "name": "stdout",
     "output_type": "stream",
     "text": [
      "Mon Aug 29 14:41:05 2022       \n",
      "+-----------------------------------------------------------------------------+\n",
      "| NVIDIA-SMI 512.78       Driver Version: 512.78       CUDA Version: 11.6     |\n",
      "|-------------------------------+----------------------+----------------------+\n",
      "| GPU  Name            TCC/WDDM | Bus-Id        Disp.A | Volatile Uncorr. ECC |\n",
      "| Fan  Temp  Perf  Pwr:Usage/Cap|         Memory-Usage | GPU-Util  Compute M. |\n",
      "|                               |                      |               MIG M. |\n",
      "|===============================+======================+======================|\n",
      "|   0  NVIDIA GeForce ... WDDM  | 00000000:01:00.0  On |                  N/A |\n",
      "| N/A   35C    P8     5W /  N/A |   1040MiB /  8192MiB |      2%      Default |\n",
      "|                               |                      |                  N/A |\n",
      "+-------------------------------+----------------------+----------------------+\n",
      "                                                                               \n",
      "+-----------------------------------------------------------------------------+\n",
      "| Processes:                                                                  |\n",
      "|  GPU   GI   CI        PID   Type   Process name                  GPU Memory |\n",
      "|        ID   ID                                                   Usage      |\n",
      "|=============================================================================|\n",
      "|    0   N/A  N/A      2184    C+G   ...ystemEventUtilityHost.exe    N/A      |\n",
      "|    0   N/A  N/A      3456    C+G   ...n1h2txyewy\\SearchHost.exe    N/A      |\n",
      "|    0   N/A  N/A      3920    C+G   ...t\\Teams\\current\\Teams.exe    N/A      |\n",
      "|    0   N/A  N/A      7652    C+G   C:\\Windows\\explorer.exe         N/A      |\n",
      "|    0   N/A  N/A      8456    C+G   ...8bbwe\\Notepad\\Notepad.exe    N/A      |\n",
      "|    0   N/A  N/A      8652    C+G   ...6ke6\\OMENAudioControl.exe    N/A      |\n",
      "|    0   N/A  N/A     10136    C+G   ...293.70\\msedgewebview2.exe    N/A      |\n",
      "|    0   N/A  N/A     12292    C+G   ...artMenuExperienceHost.exe    N/A      |\n",
      "|    0   N/A  N/A     12992    C+G   ...kzcwy\\mcafee-security.exe    N/A      |\n",
      "|    0   N/A  N/A     13436    C+G   ...ekyb3d8bbwe\\YourPhone.exe    N/A      |\n",
      "|    0   N/A  N/A     15408    C+G   ...mmandCenterBackground.exe    N/A      |\n",
      "|    0   N/A  N/A     15612    C+G   ...ightStudio-background.exe    N/A      |\n",
      "|    0   N/A  N/A     15736    C+G   ...2txyewy\\TextInputHost.exe    N/A      |\n",
      "|    0   N/A  N/A     16724    C+G   ...t\\Teams\\current\\Teams.exe    N/A      |\n",
      "|    0   N/A  N/A     20032    C+G   ...ge\\Application\\msedge.exe    N/A      |\n",
      "|    0   N/A  N/A     20728    C+G   ...\\app-1.0.9006\\Discord.exe    N/A      |\n",
      "|    0   N/A  N/A     22308    C+G   ...8bbwe\\Notepad\\Notepad.exe    N/A      |\n",
      "|    0   N/A  N/A     22412    C+G   ...me\\Application\\chrome.exe    N/A      |\n",
      "|    0   N/A  N/A     22572    C+G   ...lPanel\\SystemSettings.exe    N/A      |\n",
      "|    0   N/A  N/A     27916    C+G   ...1\\jbr\\bin\\jcef_helper.exe    N/A      |\n",
      "|    0   N/A  N/A     28176    C+G   ...bbwe\\Microsoft.Photos.exe    N/A      |\n",
      "|    0   N/A  N/A     30168    C+G   ...y\\ShellExperienceHost.exe    N/A      |\n",
      "|    0   N/A  N/A     30188    C+G   ...jag6ke6\\HP.JumpStarts.exe    N/A      |\n",
      "|    0   N/A  N/A     31096    C+G   ...txyewy\\MiniSearchHost.exe    N/A      |\n",
      "|    0   N/A  N/A     31456    C+G   ...root\\Office16\\WINWORD.EXE    N/A      |\n",
      "|    0   N/A  N/A     33548    C+G   ...cw5n1h2txyewy\\LockApp.exe    N/A      |\n",
      "|    0   N/A  N/A     33600    C+G   ...ekyb3d8bbwe\\onenoteim.exe    N/A      |\n",
      "|    0   N/A  N/A     34372    C+G   ...root\\Office16\\OUTLOOK.EXE    N/A      |\n",
      "|    0   N/A  N/A     39040    C+G   ...293.63\\msedgewebview2.exe    N/A      |\n",
      "+-----------------------------------------------------------------------------+\n"
     ]
    }
   ],
   "source": [
    "# check GPU\n",
    "gpu_info = !nvidia-smi\n",
    "gpu_info = '\\n'.join(gpu_info)\n",
    "if gpu_info.find('failed') >= 0:\n",
    "  print('Select the Runtime > \"Change runtime type\" menu to enable a GPU accelerator, ')\n",
    "  print('and then re-execute this cell.')\n",
    "else:\n",
    "  print(gpu_info)"
   ]
  },
  {
   "cell_type": "code",
   "execution_count": 17,
   "metadata": {
    "colab": {
     "base_uri": "https://localhost:8080/"
    },
    "executionInfo": {
     "elapsed": 10,
     "status": "ok",
     "timestamp": 1628710313891,
     "user": {
      "displayName": "Surya R",
      "photoUrl": "https://lh3.googleusercontent.com/a-/AOh14Gjck1QrAr3OBVHDiFDEXm8F2D-3OgColYxFHK0CZXM=s64",
      "userId": "03485497232926795699"
     },
     "user_tz": -60
    },
    "id": "vlCRY19FZhq1",
    "outputId": "5bde9e1f-9f5c-4c5a-db01-617aecec9c44"
   },
   "outputs": [
    {
     "name": "stdout",
     "output_type": "stream",
     "text": [
      "Your runtime has 17.0 gigabytes of available RAM\n",
      "\n",
      "To enable a high-RAM runtime, select the Runtime > \"Change runtime type\"\n",
      "menu, and then select High-RAM in the Runtime shape dropdown. Then, \n",
      "re-execute this cell.\n"
     ]
    }
   ],
   "source": [
    "# check Memory \n",
    "\n",
    "from psutil import virtual_memory\n",
    "ram_gb = virtual_memory().total / 1e9\n",
    "print('Your runtime has {:.1f} gigabytes of available RAM\\n'.format(ram_gb))\n",
    "\n",
    "if ram_gb < 20:\n",
    "  print('To enable a high-RAM runtime, select the Runtime > \"Change runtime type\"')\n",
    "  print('menu, and then select High-RAM in the Runtime shape dropdown. Then, ')\n",
    "  print('re-execute this cell.')\n",
    "else:\n",
    "  print('You are using a high-RAM runtime!')"
   ]
  },
  {
   "cell_type": "code",
   "execution_count": 18,
   "metadata": {
    "colab": {
     "base_uri": "https://localhost:8080/"
    },
    "executionInfo": {
     "elapsed": 8,
     "status": "ok",
     "timestamp": 1628710313892,
     "user": {
      "displayName": "Surya R",
      "photoUrl": "https://lh3.googleusercontent.com/a-/AOh14Gjck1QrAr3OBVHDiFDEXm8F2D-3OgColYxFHK0CZXM=s64",
      "userId": "03485497232926795699"
     },
     "user_tz": -60
    },
    "id": "77FTH6A9DXbn",
    "outputId": "3290fd3a-03e8-4304-e5af-b194525f147b"
   },
   "outputs": [
    {
     "name": "stdout",
     "output_type": "stream",
     "text": [
      "cpu\n"
     ]
    }
   ],
   "source": [
    "device = torch.device(\"cuda:0\" if torch.cuda.is_available() else \"cpu\")\n",
    "print(device)\n",
    "device_type = \"cuda:0\" if torch.cuda.is_available() else \"cpu\""
   ]
  },
  {
   "cell_type": "code",
   "execution_count": null,
   "metadata": {
    "executionInfo": {
     "elapsed": 5,
     "status": "ok",
     "timestamp": 1628710313892,
     "user": {
      "displayName": "Surya R",
      "photoUrl": "https://lh3.googleusercontent.com/a-/AOh14Gjck1QrAr3OBVHDiFDEXm8F2D-3OgColYxFHK0CZXM=s64",
      "userId": "03485497232926795699"
     },
     "user_tz": -60
    },
    "id": "l_D7S_y-RyaK"
   },
   "outputs": [],
   "source": []
  },
  {
   "cell_type": "markdown",
   "metadata": {
    "id": "IRgj-phNnfbH"
   },
   "source": [
    "## **Mount  google drive and access datasets**"
   ]
  },
  {
   "cell_type": "code",
   "execution_count": 19,
   "metadata": {
    "colab": {
     "base_uri": "https://localhost:8080/"
    },
    "executionInfo": {
     "elapsed": 28311,
     "status": "ok",
     "timestamp": 1628710342199,
     "user": {
      "displayName": "Surya R",
      "photoUrl": "https://lh3.googleusercontent.com/a-/AOh14Gjck1QrAr3OBVHDiFDEXm8F2D-3OgColYxFHK0CZXM=s64",
      "userId": "03485497232926795699"
     },
     "user_tz": -60
    },
    "id": "nvWU3oXz99Oh",
    "outputId": "865ca9d1-6596-43b1-dd6b-082d779e63b5"
   },
   "outputs": [
    {
     "ename": "ModuleNotFoundError",
     "evalue": "No module named 'google.colab'",
     "output_type": "error",
     "traceback": [
      "\u001b[1;31m---------------------------------------------------------------------------\u001b[0m",
      "\u001b[1;31mModuleNotFoundError\u001b[0m                       Traceback (most recent call last)",
      "Input \u001b[1;32mIn [19]\u001b[0m, in \u001b[0;36m<cell line: 1>\u001b[1;34m()\u001b[0m\n\u001b[1;32m----> 1\u001b[0m \u001b[38;5;28;01mfrom\u001b[39;00m \u001b[38;5;21;01mgoogle\u001b[39;00m\u001b[38;5;21;01m.\u001b[39;00m\u001b[38;5;21;01mcolab\u001b[39;00m \u001b[38;5;28;01mimport\u001b[39;00m drive\n\u001b[0;32m      2\u001b[0m drive\u001b[38;5;241m.\u001b[39mmount(\u001b[38;5;124m'\u001b[39m\u001b[38;5;124m/content/drive/\u001b[39m\u001b[38;5;124m'\u001b[39m)\n",
      "\u001b[1;31mModuleNotFoundError\u001b[0m: No module named 'google.colab'"
     ]
    }
   ],
   "source": [
    "from google.colab import drive\n",
    "drive.mount('/content/drive/')"
   ]
  },
  {
   "cell_type": "code",
   "execution_count": null,
   "metadata": {
    "executionInfo": {
     "elapsed": 1059,
     "status": "ok",
     "timestamp": 1628710343248,
     "user": {
      "displayName": "Surya R",
      "photoUrl": "https://lh3.googleusercontent.com/a-/AOh14Gjck1QrAr3OBVHDiFDEXm8F2D-3OgColYxFHK0CZXM=s64",
      "userId": "03485497232926795699"
     },
     "user_tz": -60
    },
    "id": "C200b8aCDXbo"
   },
   "outputs": [],
   "source": [
    "# Use Relative path \n",
    "#path = 'SNLI_Data_Csv'\n",
    "path = \"/content/drive/MyDrive/CleanedData_notEncoded\"\n",
    "modelPath = \"/content/drive/MyDrive/CleanedData_notEncoded/model_19_07\"\n",
    "dirList = os.listdir(path)"
   ]
  },
  {
   "cell_type": "code",
   "execution_count": null,
   "metadata": {
    "colab": {
     "base_uri": "https://localhost:8080/"
    },
    "executionInfo": {
     "elapsed": 5,
     "status": "ok",
     "timestamp": 1628710343248,
     "user": {
      "displayName": "Surya R",
      "photoUrl": "https://lh3.googleusercontent.com/a-/AOh14Gjck1QrAr3OBVHDiFDEXm8F2D-3OgColYxFHK0CZXM=s64",
      "userId": "03485497232926795699"
     },
     "user_tz": -60
    },
    "id": "2YPhhnAo-NHO",
    "outputId": "c84945e3-5c6d-45aa-e5f4-cf9a4f009e3c"
   },
   "outputs": [],
   "source": [
    "\n",
    "dirList"
   ]
  },
  {
   "cell_type": "markdown",
   "metadata": {
    "id": "rLeoMfJYnE7o"
   },
   "source": [
    "## **Load and view the previously cleaned dataset** \n",
    "-  after cleaning , only wanted columns are kept , remove'-' rows, from gold_label, remove rows with na , rename columns,"
   ]
  },
  {
   "cell_type": "code",
   "execution_count": 20,
   "metadata": {
    "colab": {
     "base_uri": "https://localhost:8080/"
    },
    "executionInfo": {
     "elapsed": 5454,
     "status": "ok",
     "timestamp": 1628710348699,
     "user": {
      "displayName": "Surya R",
      "photoUrl": "https://lh3.googleusercontent.com/a-/AOh14Gjck1QrAr3OBVHDiFDEXm8F2D-3OgColYxFHK0CZXM=s64",
      "userId": "03485497232926795699"
     },
     "user_tz": -60
    },
    "id": "A6_5u_M0DXbp",
    "outputId": "127c935b-228a-488a-b479-622a05fe5023"
   },
   "outputs": [
    {
     "ename": "NameError",
     "evalue": "name 'dirList' is not defined",
     "output_type": "error",
     "traceback": [
      "\u001b[1;31m---------------------------------------------------------------------------\u001b[0m",
      "\u001b[1;31mNameError\u001b[0m                                 Traceback (most recent call last)",
      "Input \u001b[1;32mIn [20]\u001b[0m, in \u001b[0;36m<cell line: 1>\u001b[1;34m()\u001b[0m\n\u001b[1;32m----> 1\u001b[0m \u001b[38;5;28;01mfor\u001b[39;00m \u001b[38;5;28mdir\u001b[39m \u001b[38;5;129;01min\u001b[39;00m \u001b[43mdirList\u001b[49m:\n\u001b[0;32m      2\u001b[0m   sub_path \u001b[38;5;241m=\u001b[39m os\u001b[38;5;241m.\u001b[39mpath\u001b[38;5;241m.\u001b[39mjoin(path,\u001b[38;5;28mdir\u001b[39m) \n\u001b[0;32m      3\u001b[0m   \u001b[38;5;66;03m#print(sub_path)\u001b[39;00m\n",
      "\u001b[1;31mNameError\u001b[0m: name 'dirList' is not defined"
     ]
    }
   ],
   "source": [
    "for dir in dirList:\n",
    "  sub_path = os.path.join(path,dir) \n",
    "  #print(sub_path)\n",
    "  if fnmatch.fnmatch(sub_path,'*df_train.csv*'):\n",
    "    print(colored('\\n In Filename and path: %s' % (sub_path),'blue')) \n",
    "    train_tidy = pd.read_csv(sub_path,nrows =350000)  # changed to 10K for experimentation \n",
    "    \n",
    "    \n",
    "  if fnmatch.fnmatch(sub_path,'*df_val*'):  \n",
    "    print(colored('\\n In Filename and path: %s' % (sub_path),'blue')) \n",
    "    val_tidy = pd.read_csv(sub_path,nrows =10000) \n",
    "\n",
    "  if fnmatch.fnmatch(sub_path,'*df_test.csv*'):  \n",
    "    print(colored('\\n In Filename and path: %s' % (sub_path),'blue')) \n",
    "    test_tidy = pd.read_csv(sub_path,nrows =10000) \n",
    "\n",
    "  if fnmatch.fnmatch(sub_path,'*df_testlegal.csv*'):  \n",
    "    print(colored('\\n In Filename and path: %s' % (sub_path),'blue')) \n",
    "    testlegal_tidy = pd.read_csv(sub_path,nrows =20) \n",
    "\n",
    "\n"
   ]
  },
  {
   "cell_type": "code",
   "execution_count": null,
   "metadata": {
    "colab": {
     "base_uri": "https://localhost:8080/",
     "height": 205
    },
    "executionInfo": {
     "elapsed": 13,
     "status": "ok",
     "timestamp": 1628710348701,
     "user": {
      "displayName": "Surya R",
      "photoUrl": "https://lh3.googleusercontent.com/a-/AOh14Gjck1QrAr3OBVHDiFDEXm8F2D-3OgColYxFHK0CZXM=s64",
      "userId": "03485497232926795699"
     },
     "user_tz": -60
    },
    "id": "6ZU-XgsMWL4d",
    "outputId": "5dd627cc-14b6-4757-9c9f-51d22d460f4a"
   },
   "outputs": [],
   "source": [
    "test_tidy.head(5)"
   ]
  },
  {
   "cell_type": "code",
   "execution_count": null,
   "metadata": {
    "colab": {
     "base_uri": "https://localhost:8080/",
     "height": 205
    },
    "executionInfo": {
     "elapsed": 19,
     "status": "ok",
     "timestamp": 1628710349170,
     "user": {
      "displayName": "Surya R",
      "photoUrl": "https://lh3.googleusercontent.com/a-/AOh14Gjck1QrAr3OBVHDiFDEXm8F2D-3OgColYxFHK0CZXM=s64",
      "userId": "03485497232926795699"
     },
     "user_tz": -60
    },
    "id": "K9_BxBdCDXbq",
    "outputId": "bb691b5c-3764-49eb-ad27-cd42e133cae3"
   },
   "outputs": [],
   "source": [
    "train_tidy.head(5)"
   ]
  },
  {
   "cell_type": "code",
   "execution_count": null,
   "metadata": {
    "colab": {
     "base_uri": "https://localhost:8080/",
     "height": 205
    },
    "executionInfo": {
     "elapsed": 18,
     "status": "ok",
     "timestamp": 1628710349171,
     "user": {
      "displayName": "Surya R",
      "photoUrl": "https://lh3.googleusercontent.com/a-/AOh14Gjck1QrAr3OBVHDiFDEXm8F2D-3OgColYxFHK0CZXM=s64",
      "userId": "03485497232926795699"
     },
     "user_tz": -60
    },
    "id": "d_SYUXD3odKa",
    "outputId": "325c10b8-ea2b-4555-cb90-8b5f8afc65f1"
   },
   "outputs": [],
   "source": [
    "val_tidy.head(5)"
   ]
  },
  {
   "cell_type": "markdown",
   "metadata": {
    "id": "PgjTRWGboMaj"
   },
   "source": [
    "## **Define class for SNLIDataAlbert**"
   ]
  },
  {
   "cell_type": "markdown",
   "metadata": {
    "id": "9LhimYtEtQsc"
   },
   "source": [
    "The class definition and training part of the code for ALBERT has been adapted from https://github.com/dh1105/Sentence-Entailment/blob/main/Sentence_Entailment_BERT.ipynb\n"
   ]
  },
  {
   "cell_type": "code",
   "execution_count": 21,
   "metadata": {
    "executionInfo": {
     "elapsed": 17,
     "status": "ok",
     "timestamp": 1628710349171,
     "user": {
      "displayName": "Surya R",
      "photoUrl": "https://lh3.googleusercontent.com/a-/AOh14Gjck1QrAr3OBVHDiFDEXm8F2D-3OgColYxFHK0CZXM=s64",
      "userId": "03485497232926795699"
     },
     "user_tz": -60
    },
    "id": "SZjXcJ-7DXbr"
   },
   "outputs": [],
   "source": [
    "''' initialising , data Loader (batches) ,encoding ,  Add [CLS] and [SEP] tokens, join the two sentences for the train and val datasets'''\n",
    "\n",
    "class SNLIDataAlbert(Dataset):\n",
    "\n",
    "  def __init__(self, train_df, val_df):\n",
    "    self.label_dict = {'entailment': 0, 'contradiction': 1, 'neutral': 2}\n",
    "\n",
    "    self.train_df = train_df\n",
    "    self.val_df = val_df\n",
    "\n",
    "    self.base_path = '/content/'\n",
    "\n",
    "    # second version of ALBERT is used\n",
    "    \n",
    "    self.tokenizer = AlbertTokenizer.from_pretrained('albert-base-v2', do_lower_case=True)\n",
    "    self.train_data = None\n",
    "    self.val_data = None\n",
    "    self.init_data()\n",
    "\n",
    "  def init_data(self):\n",
    "    \n",
    "    self.train_data = self.load_data(self.train_df)\n",
    "    self.val_data = self.load_data(self.val_df)\n",
    "\n",
    "  def load_data(self, df):\n",
    "    MAX_LEN = 512   \n",
    "    token_ids = []\n",
    "    mask_ids = []\n",
    "    seg_ids = []\n",
    "    y = []\n",
    "\n",
    "    premise_list = df['premise'].to_list()\n",
    "    hypothesis_list = df['hypothesis'].to_list()\n",
    "    label_list = df['target'].to_list()\n",
    "\n",
    "    for (premise, hypothesis, label) in zip(premise_list, hypothesis_list, label_list):\n",
    "      premise_id = self.tokenizer.encode(premise, add_special_tokens = False)\n",
    "      hypothesis_id = self.tokenizer.encode(hypothesis, add_special_tokens = False)\n",
    "      pair_token_ids = [self.tokenizer.cls_token_id] + premise_id + [self.tokenizer.sep_token_id] + hypothesis_id + [self.tokenizer.sep_token_id]\n",
    "      premise_len = len(premise_id)\n",
    "      hypothesis_len = len(hypothesis_id)\n",
    "\n",
    "      segment_ids = torch.tensor([0] * (premise_len + 2) + [1] * (hypothesis_len + 1))  # sentence 0 and sentence 1\n",
    "      attention_mask_ids = torch.tensor([1] * (premise_len + hypothesis_len + 3))  # mask padded values\n",
    "\n",
    "      token_ids.append(torch.tensor(pair_token_ids))\n",
    "      seg_ids.append(segment_ids)\n",
    "      mask_ids.append(attention_mask_ids)\n",
    "      y.append(self.label_dict[label])\n",
    "    \n",
    "    token_ids = pad_sequence(token_ids, batch_first=True)\n",
    "    mask_ids = pad_sequence(mask_ids, batch_first=True)\n",
    "    seg_ids = pad_sequence(seg_ids, batch_first=True)\n",
    "    y = torch.tensor(y)\n",
    "    dataset = TensorDataset(token_ids, mask_ids, seg_ids, y)\n",
    "    print(len(dataset))\n",
    "    return dataset\n",
    "\n",
    "  def get_data_loaders(self, batch_size=32, shuffle=True):\n",
    "    train_loader = DataLoader(\n",
    "      self.train_data,\n",
    "      shuffle=shuffle,\n",
    "      batch_size=batch_size\n",
    "    )\n",
    "\n",
    "    val_loader = DataLoader(\n",
    "      self.val_data,\n",
    "      shuffle=shuffle,\n",
    "      batch_size=batch_size\n",
    "    )\n",
    "    return train_loader, val_loader"
   ]
  },
  {
   "cell_type": "markdown",
   "metadata": {
    "id": "78rLjnc_3v9_"
   },
   "source": [
    "### Ensure data is of type string "
   ]
  },
  {
   "cell_type": "code",
   "execution_count": 22,
   "metadata": {
    "executionInfo": {
     "elapsed": 18,
     "status": "ok",
     "timestamp": 1628710349172,
     "user": {
      "displayName": "Surya R",
      "photoUrl": "https://lh3.googleusercontent.com/a-/AOh14Gjck1QrAr3OBVHDiFDEXm8F2D-3OgColYxFHK0CZXM=s64",
      "userId": "03485497232926795699"
     },
     "user_tz": -60
    },
    "id": "dvPby270B28T"
   },
   "outputs": [
    {
     "ename": "NameError",
     "evalue": "name 'train_tidy' is not defined",
     "output_type": "error",
     "traceback": [
      "\u001b[1;31m---------------------------------------------------------------------------\u001b[0m",
      "\u001b[1;31mNameError\u001b[0m                                 Traceback (most recent call last)",
      "Input \u001b[1;32mIn [22]\u001b[0m, in \u001b[0;36m<cell line: 1>\u001b[1;34m()\u001b[0m\n\u001b[1;32m----> 1\u001b[0m train_tidy[\u001b[38;5;124m'\u001b[39m\u001b[38;5;124mpremise\u001b[39m\u001b[38;5;124m'\u001b[39m] \u001b[38;5;241m=\u001b[39m \u001b[43mtrain_tidy\u001b[49m[\u001b[38;5;124m'\u001b[39m\u001b[38;5;124mpremise\u001b[39m\u001b[38;5;124m'\u001b[39m]\u001b[38;5;241m.\u001b[39mastype(\u001b[38;5;28mstr\u001b[39m)\n\u001b[0;32m      2\u001b[0m train_tidy[\u001b[38;5;124m'\u001b[39m\u001b[38;5;124mhypothesis\u001b[39m\u001b[38;5;124m'\u001b[39m] \u001b[38;5;241m=\u001b[39m train_tidy[\u001b[38;5;124m'\u001b[39m\u001b[38;5;124mhypothesis\u001b[39m\u001b[38;5;124m'\u001b[39m]\u001b[38;5;241m.\u001b[39mastype(\u001b[38;5;28mstr\u001b[39m)\n",
      "\u001b[1;31mNameError\u001b[0m: name 'train_tidy' is not defined"
     ]
    }
   ],
   "source": [
    "train_tidy['premise'] = train_tidy['premise'].astype(str)\n",
    "train_tidy['hypothesis'] = train_tidy['hypothesis'].astype(str)"
   ]
  },
  {
   "cell_type": "code",
   "execution_count": null,
   "metadata": {
    "executionInfo": {
     "elapsed": 17,
     "status": "ok",
     "timestamp": 1628710349172,
     "user": {
      "displayName": "Surya R",
      "photoUrl": "https://lh3.googleusercontent.com/a-/AOh14Gjck1QrAr3OBVHDiFDEXm8F2D-3OgColYxFHK0CZXM=s64",
      "userId": "03485497232926795699"
     },
     "user_tz": -60
    },
    "id": "5sWbT1ZdB7Gw"
   },
   "outputs": [],
   "source": [
    "val_tidy['premise'] = val_tidy['premise'].astype(str)\n",
    "val_tidy['hypothesis'] = val_tidy['hypothesis'].astype(str)"
   ]
  },
  {
   "cell_type": "code",
   "execution_count": null,
   "metadata": {
    "executionInfo": {
     "elapsed": 17,
     "status": "ok",
     "timestamp": 1628710349172,
     "user": {
      "displayName": "Surya R",
      "photoUrl": "https://lh3.googleusercontent.com/a-/AOh14Gjck1QrAr3OBVHDiFDEXm8F2D-3OgColYxFHK0CZXM=s64",
      "userId": "03485497232926795699"
     },
     "user_tz": -60
    },
    "id": "v8qGN6BOXGS0"
   },
   "outputs": [],
   "source": [
    "test_tidy['premise'] = test_tidy['premise'].astype(str)\n",
    "test_tidy['hypothesis'] = test_tidy['hypothesis'].astype(str)"
   ]
  },
  {
   "cell_type": "code",
   "execution_count": null,
   "metadata": {
    "colab": {
     "base_uri": "https://localhost:8080/"
    },
    "executionInfo": {
     "elapsed": 18,
     "status": "ok",
     "timestamp": 1628710349173,
     "user": {
      "displayName": "Surya R",
      "photoUrl": "https://lh3.googleusercontent.com/a-/AOh14Gjck1QrAr3OBVHDiFDEXm8F2D-3OgColYxFHK0CZXM=s64",
      "userId": "03485497232926795699"
     },
     "user_tz": -60
    },
    "id": "oCZ2J7uUpG5S",
    "outputId": "dd070b87-65ba-4e25-fb89-9d4256aa4f2e"
   },
   "outputs": [],
   "source": [
    "test_tidy['premise']"
   ]
  },
  {
   "cell_type": "code",
   "execution_count": null,
   "metadata": {
    "executionInfo": {
     "elapsed": 11,
     "status": "ok",
     "timestamp": 1628710349173,
     "user": {
      "displayName": "Surya R",
      "photoUrl": "https://lh3.googleusercontent.com/a-/AOh14Gjck1QrAr3OBVHDiFDEXm8F2D-3OgColYxFHK0CZXM=s64",
      "userId": "03485497232926795699"
     },
     "user_tz": -60
    },
    "id": "x-p3kwsTB-HU"
   },
   "outputs": [],
   "source": [
    "\n"
   ]
  },
  {
   "cell_type": "code",
   "execution_count": null,
   "metadata": {
    "colab": {
     "base_uri": "https://localhost:8080/"
    },
    "executionInfo": {
     "elapsed": 11,
     "status": "ok",
     "timestamp": 1628710349173,
     "user": {
      "displayName": "Surya R",
      "photoUrl": "https://lh3.googleusercontent.com/a-/AOh14Gjck1QrAr3OBVHDiFDEXm8F2D-3OgColYxFHK0CZXM=s64",
      "userId": "03485497232926795699"
     },
     "user_tz": -60
    },
    "id": "kxhqyqrtppJF",
    "outputId": "51571768-93a0-4c59-e9e2-7114a9041c26"
   },
   "outputs": [],
   "source": [
    "test_tidy['premise']"
   ]
  },
  {
   "cell_type": "markdown",
   "metadata": {
    "id": "izU9B1WcXcLN"
   },
   "source": [
    "## **Train on trainset and validate using validation set** "
   ]
  },
  {
   "cell_type": "code",
   "execution_count": null,
   "metadata": {
    "colab": {
     "base_uri": "https://localhost:8080/",
     "height": 204,
     "referenced_widgets": [
      "6a50a8fc7ec34ce8815644f74f8015bb",
      "d3c298bd292e4542a3f2ad5c07d84766",
      "0312cc7342b744a0920ac1b92f525ad6",
      "fc693ccb08564e5d8192b0da90b3a0e7",
      "b1d6a85ddf7448dbbb3dd0ad420a7561",
      "9af38aa46482400a90b49b0751e5aef4",
      "157e92cd3f7c47408406cbe0ac560344",
      "9f549410cd074bd9ac1fd7c7eb5c661c",
      "8573695438e14b7d8d7ed4494f427874",
      "94ce76a40b6948df8810498da02c1e36",
      "769fd8ffc4a945a9b62f31bb3530d50f",
      "8a7d54b60da44728b47795a753fd39a8",
      "8a7f0b4bc8584fac8735335ee6ac1d62",
      "24ee384536634bd2ba5cfb887d6a5ccc",
      "954ee486e1de4fd99856eff32d00153d",
      "93c0f6d8e8a94090a432e25ff4656ece",
      "dc96543f88c94aa3b3b2008e2bae01aa",
      "dc2e8f8837724865ba30e67b0cc2635e",
      "a11da732768f4152b4b8d1305eecfe47",
      "5e63e71789c349cfa410d2a8236be74a",
      "df4aa09e700f4f489cea0fc76b0e26a1",
      "440acc50d1934b60b94827d93a38233a",
      "56c1eb407593444cb74aed574d95c691",
      "d0ae4350eb824cb9b6823e50241634df"
     ]
    },
    "executionInfo": {
     "elapsed": 143761,
     "status": "ok",
     "timestamp": 1628710492926,
     "user": {
      "displayName": "Surya R",
      "photoUrl": "https://lh3.googleusercontent.com/a-/AOh14Gjck1QrAr3OBVHDiFDEXm8F2D-3OgColYxFHK0CZXM=s64",
      "userId": "03485497232926795699"
     },
     "user_tz": -60
    },
    "id": "cc0Ky0ERDXbs",
    "outputId": "e7ec8703-00d0-48de-cf29-293d07e6a829"
   },
   "outputs": [],
   "source": [
    "\n",
    "snli_dataset = SNLIDataAlbert(train_tidy, val_tidy)"
   ]
  },
  {
   "cell_type": "code",
   "execution_count": null,
   "metadata": {
    "executionInfo": {
     "elapsed": 13,
     "status": "ok",
     "timestamp": 1628710492927,
     "user": {
      "displayName": "Surya R",
      "photoUrl": "https://lh3.googleusercontent.com/a-/AOh14Gjck1QrAr3OBVHDiFDEXm8F2D-3OgColYxFHK0CZXM=s64",
      "userId": "03485497232926795699"
     },
     "user_tz": -60
    },
    "id": "UMcUuQv3DXbs"
   },
   "outputs": [],
   "source": [
    "train_loader, val_loader = snli_dataset.get_data_loaders(batch_size=16)"
   ]
  },
  {
   "cell_type": "markdown",
   "metadata": {
    "id": "c2ofX3mrq8kg"
   },
   "source": [
    "## **Define class for SNLIDataAlbertPredictor**"
   ]
  },
  {
   "cell_type": "code",
   "execution_count": null,
   "metadata": {
    "executionInfo": {
     "elapsed": 6,
     "status": "ok",
     "timestamp": 1628710492927,
     "user": {
      "displayName": "Surya R",
      "photoUrl": "https://lh3.googleusercontent.com/a-/AOh14Gjck1QrAr3OBVHDiFDEXm8F2D-3OgColYxFHK0CZXM=s64",
      "userId": "03485497232926795699"
     },
     "user_tz": -60
    },
    "id": "73m6Yvg5kiWd"
   },
   "outputs": [],
   "source": [
    "''' This class is for the Test set (prediction) to Initialize , data Loader (batches) ,\n",
    "encoding ,  Add [CLS] and [SEP] tokens, join the two sentences '''\n",
    "\n",
    "\n",
    "class SNLIDataAlbertPredictor(Dataset):\n",
    "\n",
    "  def __init__(self,input_df):\n",
    "    self.label_dict = {'entailment': 0, 'contradiction': 1, 'neutral': 2}\n",
    "\n",
    "    self.input_df = input_df\n",
    "\n",
    "    self.base_path = '/content/'\n",
    "    # second version of ALBERT is used as earlier\n",
    "    self.tokenizer = AlbertTokenizer.from_pretrained('albert-base-v2', do_lower_case=True)\n",
    "    self.input_data = None\n",
    "   # self.val_data = None\n",
    "    self.init_data()\n",
    "\n",
    "  def init_data(self):\n",
    "    \n",
    "    self.input_data = self.load_data(self.input_df)\n",
    "\n",
    "  def load_data(self, df):\n",
    "    MAX_LEN = 512   \n",
    "    token_ids = []\n",
    "    mask_ids = []\n",
    "    seg_ids = []\n",
    "    y = []\n",
    "\n",
    "    premise_list = df['premise'].to_list()\n",
    "    hypothesis_list = df['hypothesis'].to_list()\n",
    "    label_list = df['target'].to_list()\n",
    "\n",
    "    for (premise, hypothesis,label) in zip(premise_list, hypothesis_list,label_list):\n",
    "      premise_id = self.tokenizer.encode(premise, add_special_tokens = False)\n",
    "      hypothesis_id = self.tokenizer.encode(hypothesis, add_special_tokens = False)\n",
    "      pair_token_ids = [self.tokenizer.cls_token_id] + premise_id + [self.tokenizer.sep_token_id] + hypothesis_id + [self.tokenizer.sep_token_id]\n",
    "      premise_len = len(premise_id)\n",
    "      hypothesis_len = len(hypothesis_id)\n",
    "\n",
    "      segment_ids = torch.tensor([0] * (premise_len + 2) + [1] * (hypothesis_len + 1))  # sentence 0 and sentence 1\n",
    "      attention_mask_ids = torch.tensor([1] * (premise_len + hypothesis_len + 3))  # mask padded values\n",
    "\n",
    "      token_ids.append(torch.tensor(pair_token_ids))\n",
    "      seg_ids.append(segment_ids)\n",
    "      mask_ids.append(attention_mask_ids)\n",
    "      y.append(self.label_dict[label])\n",
    "    \n",
    "    token_ids = pad_sequence(token_ids, batch_first=True)\n",
    "    mask_ids = pad_sequence(mask_ids, batch_first=True)\n",
    "    seg_ids = pad_sequence(seg_ids, batch_first=True)\n",
    "    y = torch.tensor(y)\n",
    "    dataset = TensorDataset(token_ids, mask_ids, seg_ids,y)\n",
    "    print(len(dataset))\n",
    "    return dataset\n",
    "\n",
    "  def get_data_loaders(self, batch_size=32, shuffle=True):\n",
    "    input_loader = DataLoader(\n",
    "      self.input_data,\n",
    "      shuffle=shuffle,\n",
    "      batch_size=batch_size\n",
    "    )\n",
    "    return input_loader"
   ]
  },
  {
   "cell_type": "code",
   "execution_count": null,
   "metadata": {
    "colab": {
     "base_uri": "https://localhost:8080/",
     "height": 887,
     "referenced_widgets": [
      "637ea42ba2484deb8ee84fc5a16744de",
      "583b3083379b4436985e49d688bbc42c",
      "cb3f5f6a0d3e468ab43ee6bdb03dcf69",
      "6de649d8d9b642fc914f4f054f3a5957",
      "6594c59ea2f5499aa73cd6cf5ad5624b",
      "c86bc8eba1b349b396b1b47c33eebc1a",
      "a3d9a174c8ab46aebed9604bc1b11d74",
      "6bbc17ba259c4bd98cc821eae09ae806"
     ]
    },
    "executionInfo": {
     "elapsed": 15148,
     "status": "ok",
     "timestamp": 1628710508070,
     "user": {
      "displayName": "Surya R",
      "photoUrl": "https://lh3.googleusercontent.com/a-/AOh14Gjck1QrAr3OBVHDiFDEXm8F2D-3OgColYxFHK0CZXM=s64",
      "userId": "03485497232926795699"
     },
     "user_tz": -60
    },
    "id": "Q_iuEPoxtwvz",
    "outputId": "c64e1b7b-5cad-4282-a663-c4419fe3286f"
   },
   "outputs": [],
   "source": [
    "# Adam optimizer and pretrained AlbertSequenceClassification\n",
    "\n",
    "from transformers import AlbertForSequenceClassification, AdamW\n",
    "\n",
    "model = AlbertForSequenceClassification.from_pretrained(\"albert-base-v2\", num_labels=3)\n",
    "model.to(device)"
   ]
  },
  {
   "cell_type": "code",
   "execution_count": null,
   "metadata": {
    "executionInfo": {
     "elapsed": 25,
     "status": "ok",
     "timestamp": 1628710508071,
     "user": {
      "displayName": "Surya R",
      "photoUrl": "https://lh3.googleusercontent.com/a-/AOh14Gjck1QrAr3OBVHDiFDEXm8F2D-3OgColYxFHK0CZXM=s64",
      "userId": "03485497232926795699"
     },
     "user_tz": -60
    },
    "id": "_-XR9qNcuR_v"
   },
   "outputs": [],
   "source": [
    "# Prepare optimizer and schedule (linear warmup and decay)\n",
    "# code from huggingface example - https://github.com/huggingface/transformers/blob/5bfcd0485ece086ebcbed2d008813037968a9e58/examples/run_glue.py#L102\n",
    "\n",
    "param_optimizer = list(model.named_parameters())\n",
    "no_decay = ['bias', 'gamma', 'beta']\n",
    "optimizer_grouped_parameters = [\n",
    "    {'params': [p for n, p in param_optimizer if not any(nd in n for nd in no_decay)],\n",
    "     'weight_decay_rate': 0.01},\n",
    "    {'params': [p for n, p in param_optimizer if any(nd in n for nd in no_decay)],\n",
    "     'weight_decay_rate': 0.0}\n",
    "]"
   ]
  },
  {
   "cell_type": "code",
   "execution_count": null,
   "metadata": {
    "executionInfo": {
     "elapsed": 25,
     "status": "ok",
     "timestamp": 1628710508072,
     "user": {
      "displayName": "Surya R",
      "photoUrl": "https://lh3.googleusercontent.com/a-/AOh14Gjck1QrAr3OBVHDiFDEXm8F2D-3OgColYxFHK0CZXM=s64",
      "userId": "03485497232926795699"
     },
     "user_tz": -60
    },
    "id": "LutVR3M5uUAU"
   },
   "outputs": [],
   "source": [
    "# This variable contains all of the hyperparemeter information our training loop needs\n",
    "optimizer = AdamW(optimizer_grouped_parameters, lr=2e-5, correct_bias=False)"
   ]
  },
  {
   "cell_type": "code",
   "execution_count": null,
   "metadata": {
    "colab": {
     "base_uri": "https://localhost:8080/"
    },
    "executionInfo": {
     "elapsed": 25,
     "status": "ok",
     "timestamp": 1628710508072,
     "user": {
      "displayName": "Surya R",
      "photoUrl": "https://lh3.googleusercontent.com/a-/AOh14Gjck1QrAr3OBVHDiFDEXm8F2D-3OgColYxFHK0CZXM=s64",
      "userId": "03485497232926795699"
     },
     "user_tz": -60
    },
    "id": "90DT3W1gDXbu",
    "outputId": "d4425733-f272-4de5-c6fb-c361acbccbff"
   },
   "outputs": [],
   "source": [
    "def count_parameters(model):\n",
    "    return sum(p.numel() for p in model.parameters() if p.requires_grad)\n",
    "\n",
    "print(f'The model has {count_parameters(model):,} trainable parameters')"
   ]
  },
  {
   "cell_type": "code",
   "execution_count": null,
   "metadata": {
    "executionInfo": {
     "elapsed": 24,
     "status": "ok",
     "timestamp": 1628710508073,
     "user": {
      "displayName": "Surya R",
      "photoUrl": "https://lh3.googleusercontent.com/a-/AOh14Gjck1QrAr3OBVHDiFDEXm8F2D-3OgColYxFHK0CZXM=s64",
      "userId": "03485497232926795699"
     },
     "user_tz": -60
    },
    "id": "SbfbJ23S-M9y"
   },
   "outputs": [],
   "source": []
  },
  {
   "cell_type": "code",
   "execution_count": null,
   "metadata": {
    "executionInfo": {
     "elapsed": 23,
     "status": "ok",
     "timestamp": 1628710508073,
     "user": {
      "displayName": "Surya R",
      "photoUrl": "https://lh3.googleusercontent.com/a-/AOh14Gjck1QrAr3OBVHDiFDEXm8F2D-3OgColYxFHK0CZXM=s64",
      "userId": "03485497232926795699"
     },
     "user_tz": -60
    },
    "id": "FyXiyi3BKE-9"
   },
   "outputs": [],
   "source": [
    "# save model \n",
    "\n",
    "def save_checkpoint(state, is_best, epoch ):\n",
    "   path_to_model=modelPath + '/model_epoch{}.pt'.format( epoch+1)\n",
    "   torch.save(state, path_to_model)\n",
    "   print(\"The model has been saved in {}\".format(path_to_model))\n",
    "   if is_best:\n",
    "        shutil.copyfile(path_to_model, 'model_best.pth.tar')"
   ]
  },
  {
   "cell_type": "code",
   "execution_count": null,
   "metadata": {
    "executionInfo": {
     "elapsed": 24,
     "status": "ok",
     "timestamp": 1628710508074,
     "user": {
      "displayName": "Surya R",
      "photoUrl": "https://lh3.googleusercontent.com/a-/AOh14Gjck1QrAr3OBVHDiFDEXm8F2D-3OgColYxFHK0CZXM=s64",
      "userId": "03485497232926795699"
     },
     "user_tz": -60
    },
    "id": "k-eGhjaPDXbu"
   },
   "outputs": [],
   "source": [
    "import tensorflow as tf\n",
    "def multi_acc(y_pred, y_test):\n",
    "  acc = (torch.log_softmax(y_pred, dim=1).argmax(dim=1) == y_test).sum().float() / float(y_test.size(0))\n",
    "  return acc"
   ]
  },
  {
   "cell_type": "code",
   "execution_count": null,
   "metadata": {
    "executionInfo": {
     "elapsed": 24,
     "status": "ok",
     "timestamp": 1628710508074,
     "user": {
      "displayName": "Surya R",
      "photoUrl": "https://lh3.googleusercontent.com/a-/AOh14Gjck1QrAr3OBVHDiFDEXm8F2D-3OgColYxFHK0CZXM=s64",
      "userId": "03485497232926795699"
     },
     "user_tz": -60
    },
    "id": "lidvh8H-DXbu"
   },
   "outputs": [],
   "source": [
    "import time\n",
    "\n",
    "EPOCHS = 10 # maximum no.of epochs to run \n",
    "\n",
    "def train(model, train_loader, val_loader, optimizer,epoch_to_resume):  \n",
    "  total_step = len(train_loader)\n",
    "  best_acc = 0\n",
    "  is_best = False\n",
    "\n",
    "  # check to resume from a previously saved epoch checkpoint\n",
    "\n",
    "  if (epoch_to_resume> 0 ):\n",
    "        path_to_model= modelPath +'/model_epoch{}.pt'.format( epoch_to_resume)\n",
    "        if os.path.isfile(path_to_model):\n",
    "            print(\"=> loading checkpoint '{}'\".format(path_to_model))\n",
    "            checkpoint = torch.load(path_to_model)\n",
    "            savd_epoch = checkpoint['epoch']\n",
    "            best_acc = checkpoint['best_acc']\n",
    "            model.load_state_dict(checkpoint['state_dict'])\n",
    "            optimizer.load_state_dict(checkpoint['optimizer'])\n",
    "            print(\"=> loaded checkpoint '{}' (epoch {})\"\n",
    "                  .format(path_to_model, checkpoint['epoch']))\n",
    "        else:\n",
    "            print(\"=> no checkpoint found at '{}'\".format(path_to_model))\n",
    "\n",
    "  # training and validation for each epoch\n",
    "\n",
    "  for epoch in range(epoch_to_resume, EPOCHS):\n",
    "    start = time.time()\n",
    "    model.train()\n",
    "    total_train_loss = 0\n",
    "    total_train_acc  = 0\n",
    "\n",
    "    # for each batch \n",
    "    for batch_idx, (pair_token_ids, mask_ids, seg_ids, y) in enumerate(train_loader):\n",
    "      optimizer.zero_grad()\n",
    "      pair_token_ids = pair_token_ids.to(device)\n",
    "      mask_ids = mask_ids.to(device)\n",
    "      seg_ids = seg_ids.to(device)\n",
    "      labels = y.to(device)\n",
    "      \n",
    "      result = model(pair_token_ids, \n",
    "                             token_type_ids=seg_ids, \n",
    "                             attention_mask=mask_ids, \n",
    "                             labels=labels)\n",
    "      \n",
    "      loss = result.loss\n",
    "      prediction = result.logits\n",
    "\n",
    "      # check if there are nan in prediction\n",
    "\n",
    "      if(torch.any(prediction.isnan())):\n",
    "        break;\n",
    "\n",
    "      # call accuracy function \n",
    "      acc = multi_acc(prediction, labels)\n",
    "   \n",
    "      optimizer.step()\n",
    "      \n",
    "      total_train_loss += loss.item()\n",
    "      total_train_acc  += acc.item()\n",
    "\n",
    "    # get average train accuracy and loss across all batches \n",
    "    train_acc  = total_train_acc/len(train_loader)\n",
    "    train_loss = total_train_loss/len(train_loader)\n",
    "    model.eval()#Surya find out\n",
    "    total_val_acc  = 0\n",
    "    total_val_loss = 0\n",
    "    with torch.no_grad():\n",
    "      for batch_idx, (pair_token_ids, mask_ids, seg_ids, y) in enumerate(val_loader):\n",
    "        optimizer.zero_grad()\n",
    "        pair_token_ids = pair_token_ids.to(device)\n",
    "        mask_ids = mask_ids.to(device)\n",
    "        seg_ids = seg_ids.to(device)\n",
    "        labels = y.to(device)\n",
    "\n",
    "        \n",
    "        result = model(pair_token_ids, \n",
    "                             token_type_ids=seg_ids, \n",
    "                             attention_mask=mask_ids, \n",
    "                             labels=labels)\n",
    "        loss = result.loss\n",
    "        prediction = result.logits\n",
    "        if(torch.any(prediction.isnan())):\n",
    "          break;\n",
    "        \n",
    "        acc = multi_acc(prediction, labels)\n",
    "\n",
    "        total_val_loss += loss.item()\n",
    "        total_val_acc  += acc.item()\n",
    "\n",
    "    val_acc  = total_val_acc/len(val_loader)\n",
    "    val_loss = total_val_loss/len(val_loader)\n",
    "    if(best_acc< val_acc):\n",
    "      best_acc = val_acc \n",
    "      is_best = True\n",
    "    else:\n",
    "      is_best = False\n",
    "    end = time.time()\n",
    "    hours, rem = divmod(end-start, 3600)\n",
    "    minutes, seconds = divmod(rem, 60)\n",
    "\n",
    "    print(f'Epoch {epoch+1}: train_loss: {train_loss:.4f} train_acc: {train_acc:.4f} | val_loss: {val_loss:.4f} val_acc: {val_acc:.4f}')\n",
    "    print(\"{:0>2}:{:0>2}:{:05.2f}\".format(int(hours),int(minutes),seconds))\n",
    "    \n",
    "    \n",
    "\n",
    "    # Saving the model\n",
    "    save_checkpoint({\n",
    "            'epoch': epoch + 1,\n",
    "            'best_acc': best_acc,\n",
    "            'state_dict': model.state_dict(),\n",
    "            'optimizer' : optimizer.state_dict(),\n",
    "        }, is_best,epoch)\n",
    "   "
   ]
  },
  {
   "cell_type": "code",
   "execution_count": null,
   "metadata": {
    "colab": {
     "base_uri": "https://localhost:8080/",
     "height": 35
    },
    "executionInfo": {
     "elapsed": 24,
     "status": "ok",
     "timestamp": 1628710508075,
     "user": {
      "displayName": "Surya R",
      "photoUrl": "https://lh3.googleusercontent.com/a-/AOh14Gjck1QrAr3OBVHDiFDEXm8F2D-3OgColYxFHK0CZXM=s64",
      "userId": "03485497232926795699"
     },
     "user_tz": -60
    },
    "id": "FGytjbRXDXbu",
    "outputId": "3aac6345-eab2-4743-c694-8360ce1eb1f7"
   },
   "outputs": [],
   "source": [
    "# commented out once epoch is chosen \n",
    "'''- this section is for training the model on trainset and validating on validation set-commented out'''\n",
    "\n",
    "#%%time\n",
    "#epoch_to_resume = 6\n",
    "#train(model, train_loader, val_loader, optimizer,epoch_to_resume)"
   ]
  },
  {
   "cell_type": "code",
   "execution_count": null,
   "metadata": {
    "colab": {
     "base_uri": "https://localhost:8080/"
    },
    "executionInfo": {
     "elapsed": 22,
     "status": "ok",
     "timestamp": 1628710508075,
     "user": {
      "displayName": "Surya R",
      "photoUrl": "https://lh3.googleusercontent.com/a-/AOh14Gjck1QrAr3OBVHDiFDEXm8F2D-3OgColYxFHK0CZXM=s64",
      "userId": "03485497232926795699"
     },
     "user_tz": -60
    },
    "id": "wQoeURl1DXbv",
    "outputId": "99191873-8d89-4848-a4b2-7f86f541258d"
   },
   "outputs": [],
   "source": [
    "print('Done')"
   ]
  },
  {
   "cell_type": "code",
   "execution_count": null,
   "metadata": {
    "executionInfo": {
     "elapsed": 19,
     "status": "ok",
     "timestamp": 1628710508076,
     "user": {
      "displayName": "Surya R",
      "photoUrl": "https://lh3.googleusercontent.com/a-/AOh14Gjck1QrAr3OBVHDiFDEXm8F2D-3OgColYxFHK0CZXM=s64",
      "userId": "03485497232926795699"
     },
     "user_tz": -60
    },
    "id": "lG9qFjiKhc1H"
   },
   "outputs": [],
   "source": []
  },
  {
   "cell_type": "code",
   "execution_count": null,
   "metadata": {
    "executionInfo": {
     "elapsed": 19,
     "status": "ok",
     "timestamp": 1628710508076,
     "user": {
      "displayName": "Surya R",
      "photoUrl": "https://lh3.googleusercontent.com/a-/AOh14Gjck1QrAr3OBVHDiFDEXm8F2D-3OgColYxFHK0CZXM=s64",
      "userId": "03485497232926795699"
     },
     "user_tz": -60
    },
    "id": "7QApCsaX4Daf"
   },
   "outputs": [],
   "source": [
    "import time\n",
    "\n",
    "EPOCHS = 6 # maximum no.of epochs to run \n",
    "\n",
    "def test(model, test_loader, optimizer,epoch_to_use):  \n",
    "  # check to resume from a previously saved epoch checkpoint\n",
    "  if (epoch_to_use > 0 ):\n",
    "        path_to_model= modelPath +'/model_epoch{}.pt'.format( epoch_to_resume)\n",
    "        if os.path.isfile(path_to_model):\n",
    "            print(\"=> loading checkpoint '{}'\".format(path_to_model))\n",
    "            checkpoint = torch.load(path_to_model)\n",
    "            savd_epoch = checkpoint['epoch']\n",
    "            best_acc = checkpoint['best_acc']\n",
    "            model.load_state_dict(checkpoint['state_dict'])\n",
    "            optimizer.load_state_dict(checkpoint['optimizer'])\n",
    "            print(\"=> loaded checkpoint '{}' (epoch {})\"\n",
    "                  .format(path_to_model, checkpoint['epoch']))\n",
    "        else:\n",
    "            print(\"=> no checkpoint found at '{}'\".format(path_to_model))\n",
    "            return; \n",
    "  y_pred_all = np.array([])\n",
    "  y_test_all = np.array([])\n",
    "  start = time.time() \n",
    "  total_test_loss = 0\n",
    "  total_test_acc  = 0\n",
    "\n",
    "  for batch_idx, (pair_token_ids, mask_ids, seg_ids, y) in enumerate(test_loader):\n",
    "      optimizer.zero_grad()\n",
    "      pair_token_ids = pair_token_ids.to(device)\n",
    "      mask_ids = mask_ids.to(device)\n",
    "      seg_ids = seg_ids.to(device)\n",
    "      labels = y.to(device)\n",
    "      \n",
    "      result = model(pair_token_ids, \n",
    "                            token_type_ids=seg_ids, \n",
    "                            attention_mask=mask_ids, \n",
    "                            labels=labels)\n",
    "      loss = result.loss\n",
    "      prediction = result.logits\n",
    "      if(torch.any(prediction.isnan())):\n",
    "        break;\n",
    "      \n",
    "      acc = multi_acc(prediction, labels)\n",
    "      #Add all predictions to y_pred_arr and all lables to y_test_arr\n",
    "      y_pred = torch.log_softmax(prediction, dim=1).argmax(dim=1)\n",
    "      y_pred_arr =  y_pred.to(\"cpu\").numpy().squeeze() \n",
    "      y_test_arr = labels.to(\"cpu\").numpy().squeeze()\n",
    "      y_pred_all = np.append(y_pred_all,y_pred_arr, axis=0)\n",
    "      y_test_all = np.append(y_test_all,y_test_arr, axis=0)      \n",
    "      total_test_loss += loss.item()\n",
    "      total_test_acc  += acc.item()\n",
    "\n",
    "      test_acc  = total_test_acc/len(test_loader)\n",
    "      test_loss = total_test_loss/len(test_loader)\n",
    "      end = time.time()\n",
    "      hours, rem = divmod(end-start, 3600)\n",
    "      minutes, seconds = divmod(rem, 60)\n",
    "\n",
    "  print(f'With Epoch {epoch_to_use}: test_loss: {test_loss:.4f} test_acc: {test_acc:.4f}')\n",
    "  print(\"{:0>2}:{:0>2}:{:05.2f}\".format(int(hours),int(minutes),seconds))\n",
    "  return y_pred_all,y_test_all \n",
    "\n"
   ]
  },
  {
   "cell_type": "code",
   "execution_count": null,
   "metadata": {
    "colab": {
     "base_uri": "https://localhost:8080/"
    },
    "executionInfo": {
     "elapsed": 9267,
     "status": "ok",
     "timestamp": 1628710517324,
     "user": {
      "displayName": "Surya R",
      "photoUrl": "https://lh3.googleusercontent.com/a-/AOh14Gjck1QrAr3OBVHDiFDEXm8F2D-3OgColYxFHK0CZXM=s64",
      "userId": "03485497232926795699"
     },
     "user_tz": -60
    },
    "id": "lLsG5beB7rP9",
    "outputId": "8d2af44f-c7bb-444a-f3ec-28a2b9bfac1a"
   },
   "outputs": [],
   "source": [
    "#Create object of SNLIAlberPredictor\n",
    "#GEt test dataloader\n",
    "snli_testset = SNLIDataAlbertPredictor(test_tidy)\n",
    "test_loader = snli_testset.get_data_loaders(batch_size=16)"
   ]
  },
  {
   "cell_type": "code",
   "execution_count": null,
   "metadata": {
    "colab": {
     "base_uri": "https://localhost:8080/",
     "height": 422
    },
    "executionInfo": {
     "elapsed": 19,
     "status": "ok",
     "timestamp": 1628710517325,
     "user": {
      "displayName": "Surya R",
      "photoUrl": "https://lh3.googleusercontent.com/a-/AOh14Gjck1QrAr3OBVHDiFDEXm8F2D-3OgColYxFHK0CZXM=s64",
      "userId": "03485497232926795699"
     },
     "user_tz": -60
    },
    "id": "yyt9BT3cikHB",
    "outputId": "621be794-e743-4581-d5af-396fa3d80bfc"
   },
   "outputs": [],
   "source": [
    "test_tidy"
   ]
  },
  {
   "cell_type": "code",
   "execution_count": null,
   "metadata": {
    "colab": {
     "base_uri": "https://localhost:8080/"
    },
    "executionInfo": {
     "elapsed": 31210,
     "status": "ok",
     "timestamp": 1628710548519,
     "user": {
      "displayName": "Surya R",
      "photoUrl": "https://lh3.googleusercontent.com/a-/AOh14Gjck1QrAr3OBVHDiFDEXm8F2D-3OgColYxFHK0CZXM=s64",
      "userId": "03485497232926795699"
     },
     "user_tz": -60
    },
    "id": "Zk0A4t5a7eey",
    "outputId": "68ac9a4e-9d2f-4819-c205-be758e11cee9"
   },
   "outputs": [],
   "source": [
    "#epoch_to_use = 6\n",
    "epoch_to_resume = 6\n",
    "y_pred_all,y_test_all = test(model, test_loader, optimizer,epoch_to_resume)"
   ]
  },
  {
   "cell_type": "markdown",
   "metadata": {
    "id": "_TAzwFt_HTbI"
   },
   "source": [
    "## **Predict on Testset and Visualize**"
   ]
  },
  {
   "cell_type": "code",
   "execution_count": 24,
   "metadata": {
    "executionInfo": {
     "elapsed": 663,
     "status": "ok",
     "timestamp": 1628710549178,
     "user": {
      "displayName": "Surya R",
      "photoUrl": "https://lh3.googleusercontent.com/a-/AOh14Gjck1QrAr3OBVHDiFDEXm8F2D-3OgColYxFHK0CZXM=s64",
      "userId": "03485497232926795699"
     },
     "user_tz": -60
    },
    "id": "bFi3FvUNw8Xa"
   },
   "outputs": [],
   "source": [
    "# Libraries for this section \n",
    "\n",
    "import seaborn as sns\n",
    "import matplotlib.pyplot as plt\n",
    "import pandas as pd\n",
    "from sklearn.metrics import classification_report\n",
    "from sklearn.metrics import accuracy_score, classification_report, confusion_matrix\n",
    "import itertools"
   ]
  },
  {
   "cell_type": "code",
   "execution_count": null,
   "metadata": {
    "executionInfo": {
     "elapsed": 10,
     "status": "ok",
     "timestamp": 1628710549178,
     "user": {
      "displayName": "Surya R",
      "photoUrl": "https://lh3.googleusercontent.com/a-/AOh14Gjck1QrAr3OBVHDiFDEXm8F2D-3OgColYxFHK0CZXM=s64",
      "userId": "03485497232926795699"
     },
     "user_tz": -60
    },
    "id": "DT2NJIfJwyAV"
   },
   "outputs": [],
   "source": [
    "''' function for custom confusion matrix in colour  '''\n",
    "\n",
    "def plot_confusion_matrix_custom(cm, classes, title='Confusion matrix - ALBERT', cmap=plt.cm.Blues):\n",
    "  \n",
    "    plt.figure()\n",
    "    plt.imshow(cm, interpolation='nearest', cmap=cmap)\n",
    "    plt.title(title)\n",
    "    plt.colorbar()\n",
    "    tick_marks = np.arange(len(classes))\n",
    "    plt.xticks(tick_marks, classes, rotation=45)\n",
    "    plt.yticks(tick_marks, classes, rotation=45)\n",
    "\n",
    "    fmt =  'd'\n",
    "    thresh = cm.max() / 2.\n",
    "    for i, j in itertools.product(range(cm.shape[0]), range(cm.shape[1])):\n",
    "        plt.text(j, i, format(cm[i, j], fmt), horizontalalignment=\"center\", color=\"white\" if cm[i, j] > thresh else \"black\")\n",
    "\n",
    "    \n",
    "    plt.ylabel('True label')\n",
    "    plt.xlabel('Predicted label')\n",
    "    plt.grid(False) \n",
    "   \n",
    "    plt.show()"
   ]
  },
  {
   "cell_type": "code",
   "execution_count": null,
   "metadata": {
    "executionInfo": {
     "elapsed": 11,
     "status": "ok",
     "timestamp": 1628710549179,
     "user": {
      "displayName": "Surya R",
      "photoUrl": "https://lh3.googleusercontent.com/a-/AOh14Gjck1QrAr3OBVHDiFDEXm8F2D-3OgColYxFHK0CZXM=s64",
      "userId": "03485497232926795699"
     },
     "user_tz": -60
    },
    "id": "w6K6aPWG3ZFP"
   },
   "outputs": [],
   "source": [
    "''' function written to print classification report and display custom confusion matrix'''\n",
    "\n",
    "\n",
    "\n",
    "def visualize_confusion_matrix(y_pred_argmax, y_true):\n",
    "\n",
    "    classes = ['entailment','contradiction','neutral']\n",
    "    cm = confusion_matrix(y_true, y_pred_argmax)\n",
    "    con_mat_df = pd.DataFrame(cm)\n",
    "    \n",
    "    print(classification_report(y_pred_argmax, y_true,target_names=classes))\n",
    "\n",
    "    plot_confusion_matrix_custom(cm,classes)\n"
   ]
  },
  {
   "cell_type": "code",
   "execution_count": null,
   "metadata": {
    "colab": {
     "base_uri": "https://localhost:8080/"
    },
    "executionInfo": {
     "elapsed": 10,
     "status": "ok",
     "timestamp": 1628710549179,
     "user": {
      "displayName": "Surya R",
      "photoUrl": "https://lh3.googleusercontent.com/a-/AOh14Gjck1QrAr3OBVHDiFDEXm8F2D-3OgColYxFHK0CZXM=s64",
      "userId": "03485497232926795699"
     },
     "user_tz": -60
    },
    "id": "HKosiCoShTKt",
    "outputId": "fabb9ba0-e39c-4f26-90ca-50754c0965b0"
   },
   "outputs": [],
   "source": [
    "print(y_pred_all)\n",
    "print(y_test_all)"
   ]
  },
  {
   "cell_type": "code",
   "execution_count": null,
   "metadata": {
    "colab": {
     "base_uri": "https://localhost:8080/",
     "height": 521
    },
    "executionInfo": {
     "elapsed": 9,
     "status": "ok",
     "timestamp": 1628710549180,
     "user": {
      "displayName": "Surya R",
      "photoUrl": "https://lh3.googleusercontent.com/a-/AOh14Gjck1QrAr3OBVHDiFDEXm8F2D-3OgColYxFHK0CZXM=s64",
      "userId": "03485497232926795699"
     },
     "user_tz": -60
    },
    "id": "u6GFguC-fKC3",
    "outputId": "25082723-b3b5-4f3a-a507-5fc232e97518"
   },
   "outputs": [],
   "source": [
    "#classification report and Confusion matrix \n",
    "visualize_confusion_matrix(y_pred_all,y_test_all)"
   ]
  },
  {
   "cell_type": "markdown",
   "metadata": {
    "id": "SbmgkZebtUrB"
   },
   "source": [
    "## ---------------------------------------------- **End of code for ALBERT** ------------------------------------------------------------------------"
   ]
  },
  {
   "cell_type": "markdown",
   "metadata": {
    "id": "7xSEIbKrYA1r"
   },
   "source": [
    "## **This section is for checking individual sentence-pair inputs from user**"
   ]
  },
  {
   "cell_type": "code",
   "execution_count": null,
   "metadata": {
    "executionInfo": {
     "elapsed": 580,
     "status": "ok",
     "timestamp": 1628710549754,
     "user": {
      "displayName": "Surya R",
      "photoUrl": "https://lh3.googleusercontent.com/a-/AOh14Gjck1QrAr3OBVHDiFDEXm8F2D-3OgColYxFHK0CZXM=s64",
      "userId": "03485497232926795699"
     },
     "user_tz": -60
    },
    "id": "CrTdSrDQ3ceG"
   },
   "outputs": [],
   "source": [
    "def check_similarity(sentence1, sentence2):\n",
    "           \n",
    "       data_input = {'premise':[sentence1], 'hypothesis':[sentence2]}\n",
    "       df_input = pd.DataFrame(data_input, columns = ['premise','hypothesis'])\n",
    "       \n",
    "       input_dataset = SNLIDataAlbertPredictor(df_input)\n",
    "       input_loader = input_dataset.get_data_loaders(batch_size=1)\n",
    "       \n",
    "       (pair_token_ids, mask_ids, seg_ids) = next(iter(input_loader))\n",
    "       pair_token_ids = pair_token_ids.to(device)\n",
    "       mask_ids = mask_ids.to(device)\n",
    "       seg_ids = seg_ids.to(device)\n",
    "       result = model(pair_token_ids, \n",
    "                                     token_type_ids=seg_ids, \n",
    "                                     attention_mask=mask_ids)\n",
    "       prediction = result.logits #Predition in tensor Form\n",
    "       softmax =torch.log_softmax(prediction, dim=1)\n",
    "       pred =softmax.argmax(dim=1)\n",
    "       #target_map = {0: 'contradiction',1:'entailment',2:'neutral'}# error \n",
    "       target_map = {0: 'entailment',1:'contradiction',2:'neutral'}\n",
    "       #target_map = {0:'entailment': 0, 'contradiction': 1, 'neutral': 2}\n",
    "       \n",
    "       if device_type == \"cpu\":\n",
    "          outcome = target_map[pred.data.cpu().numpy()[0]]\n",
    "       else:\n",
    "           outcome = target_map[pred[0]]  \n",
    "       return  outcome # modified to get value from tensor"
   ]
  },
  {
   "cell_type": "code",
   "execution_count": null,
   "metadata": {
    "colab": {
     "base_uri": "https://localhost:8080/",
     "height": 81
    },
    "executionInfo": {
     "elapsed": 11,
     "status": "ok",
     "timestamp": 1628710549756,
     "user": {
      "displayName": "Surya R",
      "photoUrl": "https://lh3.googleusercontent.com/a-/AOh14Gjck1QrAr3OBVHDiFDEXm8F2D-3OgColYxFHK0CZXM=s64",
      "userId": "03485497232926795699"
     },
     "user_tz": -60
    },
    "id": "zTfo7jkrCzaU",
    "outputId": "61436b60-d06c-4e4d-a2b6-92a9ad89128e"
   },
   "outputs": [],
   "source": [
    "sentence1 ='This church choir sings to the masses as they sing joyous songs from the book at a church.'\n",
    "sentence2 ='A choir singing at a baseball game.'\n",
    "data_input = {'premise':[sentence1], 'hypothesis':[sentence2],'target':['entailment']}  #### \n",
    "df_input = pd.DataFrame(data_input, columns = ['premise','hypothesis','target'])\n",
    "\n",
    "df_input.head()"
   ]
  },
  {
   "cell_type": "code",
   "execution_count": null,
   "metadata": {
    "colab": {
     "base_uri": "https://localhost:8080/"
    },
    "executionInfo": {
     "elapsed": 5371,
     "status": "ok",
     "timestamp": 1628710555119,
     "user": {
      "displayName": "Surya R",
      "photoUrl": "https://lh3.googleusercontent.com/a-/AOh14Gjck1QrAr3OBVHDiFDEXm8F2D-3OgColYxFHK0CZXM=s64",
      "userId": "03485497232926795699"
     },
     "user_tz": -60
    },
    "id": "GgcmUBBzCkwe",
    "outputId": "4c2cb5e0-222f-4b94-f68d-8111f4ee7ac7"
   },
   "outputs": [],
   "source": [
    "input_dataset = SNLIDataAlbertPredictor(df_input)\n",
    "input_loader = input_dataset.get_data_loaders(batch_size=1)\n",
    "#label_dict = {'entailment': 0, 'contradiction': 1, 'neutral': 2}"
   ]
  },
  {
   "cell_type": "markdown",
   "metadata": {
    "id": "MUbCpETSUKi3"
   },
   "source": [
    "## Testing with Legal based sentences provided by company"
   ]
  },
  {
   "cell_type": "code",
   "execution_count": null,
   "metadata": {
    "executionInfo": {
     "elapsed": 31,
     "status": "ok",
     "timestamp": 1628710555120,
     "user": {
      "displayName": "Surya R",
      "photoUrl": "https://lh3.googleusercontent.com/a-/AOh14Gjck1QrAr3OBVHDiFDEXm8F2D-3OgColYxFHK0CZXM=s64",
      "userId": "03485497232926795699"
     },
     "user_tz": -60
    },
    "id": "1WukEBwpaZJy"
   },
   "outputs": [],
   "source": [
    "# function to load data and tidy it \n",
    "# pass the dataframe, kepp only unwanted columns, remove'-' rows, from gold_label, remove rows with na , rename columns,lower case, replace all given special characters\n",
    "# diplay head()\n",
    "\n",
    "def data_load_tidy(dataframe): # remove isTest- not needed???\n",
    "    \n",
    "    dataframe = dataframe[['sentence1','sentence2','gold_label']]\n",
    "    \n",
    "    dataframe = dataframe[dataframe['gold_label'] != '-' ]\n",
    "    dataframe= dataframe.dropna(axis=0, inplace=False) # fixed additional nan in test and val with inplace=False \n",
    "    data_tidy = dataframe.rename(columns= {'sentence1':'premise', 'sentence2':'hypothesis', 'gold_label':'target'}, inplace=False)\n",
    "    #data_tidy['premise'] = data_tidy['premise'].astype(str)\n",
    "  \n",
    "    data_tidy['premise'] = data_tidy.premise.str.lower().str.replace('[^a-zA-Z ]' , '')  \n",
    "    data_tidy['hypothesis'] = data_tidy.hypothesis.str.lower().str.replace('[^a-zA-Z ]' , '')    # lower, replace all  given special characters\n",
    "  \n",
    "    print(colored('\\n  data is tidied ....','green')) \n",
    "    return data_tidy\n",
    "\n",
    "    "
   ]
  },
  {
   "cell_type": "code",
   "execution_count": null,
   "metadata": {
    "colab": {
     "base_uri": "https://localhost:8080/"
    },
    "executionInfo": {
     "elapsed": 31,
     "status": "ok",
     "timestamp": 1628710555121,
     "user": {
      "displayName": "Surya R",
      "photoUrl": "https://lh3.googleusercontent.com/a-/AOh14Gjck1QrAr3OBVHDiFDEXm8F2D-3OgColYxFHK0CZXM=s64",
      "userId": "03485497232926795699"
     },
     "user_tz": -60
    },
    "id": "FmWinTqsURui",
    "outputId": "01f1de94-22d9-4a03-952c-fdfc21a4b690"
   },
   "outputs": [],
   "source": [
    "for dir in dirList:\n",
    "  sub_path = os.path.join(path,dir) \n",
    " \n",
    "  if fnmatch.fnmatch(sub_path,'*df_testlegal.csv*'):  \n",
    "    print(colored('\\n In Filename and path: %s' % (sub_path),'blue')) \n",
    "    df_legaltest = pd.read_csv(sub_path,nrows =20) \n",
    "    legaltest_tidy = data_load_tidy(df_legaltest)"
   ]
  },
  {
   "cell_type": "code",
   "execution_count": null,
   "metadata": {
    "colab": {
     "base_uri": "https://localhost:8080/",
     "height": 205
    },
    "executionInfo": {
     "elapsed": 32,
     "status": "ok",
     "timestamp": 1628710555126,
     "user": {
      "displayName": "Surya R",
      "photoUrl": "https://lh3.googleusercontent.com/a-/AOh14Gjck1QrAr3OBVHDiFDEXm8F2D-3OgColYxFHK0CZXM=s64",
      "userId": "03485497232926795699"
     },
     "user_tz": -60
    },
    "id": "USbSQqvqcnI3",
    "outputId": "9b9bd9d6-4ef2-4df2-a443-0a5f7dcafb06"
   },
   "outputs": [],
   "source": [
    "df_legaltest.head(5)"
   ]
  },
  {
   "cell_type": "code",
   "execution_count": null,
   "metadata": {
    "colab": {
     "base_uri": "https://localhost:8080/",
     "height": 143
    },
    "executionInfo": {
     "elapsed": 31,
     "status": "ok",
     "timestamp": 1628710555126,
     "user": {
      "displayName": "Surya R",
      "photoUrl": "https://lh3.googleusercontent.com/a-/AOh14Gjck1QrAr3OBVHDiFDEXm8F2D-3OgColYxFHK0CZXM=s64",
      "userId": "03485497232926795699"
     },
     "user_tz": -60
    },
    "id": "qd4dlQzEY8Xp",
    "outputId": "c9a888d3-d8c2-4996-d9e9-20f20bdac1fe"
   },
   "outputs": [],
   "source": [
    "legaltest_tidy.head(3)"
   ]
  },
  {
   "cell_type": "code",
   "execution_count": null,
   "metadata": {
    "executionInfo": {
     "elapsed": 32,
     "status": "ok",
     "timestamp": 1628710555127,
     "user": {
      "displayName": "Surya R",
      "photoUrl": "https://lh3.googleusercontent.com/a-/AOh14Gjck1QrAr3OBVHDiFDEXm8F2D-3OgColYxFHK0CZXM=s64",
      "userId": "03485497232926795699"
     },
     "user_tz": -60
    },
    "id": "_BBiBXWxZSpW"
   },
   "outputs": [],
   "source": []
  },
  {
   "cell_type": "code",
   "execution_count": null,
   "metadata": {
    "colab": {
     "base_uri": "https://localhost:8080/"
    },
    "executionInfo": {
     "elapsed": 31,
     "status": "ok",
     "timestamp": 1628710555127,
     "user": {
      "displayName": "Surya R",
      "photoUrl": "https://lh3.googleusercontent.com/a-/AOh14Gjck1QrAr3OBVHDiFDEXm8F2D-3OgColYxFHK0CZXM=s64",
      "userId": "03485497232926795699"
     },
     "user_tz": -60
    },
    "id": "xlCPqvkydz1u",
    "outputId": "9c6067fd-47d1-4dbe-98d9-0f09c6f2df20"
   },
   "outputs": [],
   "source": [
    "legaltest_tidy.shape[0]"
   ]
  },
  {
   "cell_type": "code",
   "execution_count": null,
   "metadata": {
    "executionInfo": {
     "elapsed": 27,
     "status": "ok",
     "timestamp": 1628710555128,
     "user": {
      "displayName": "Surya R",
      "photoUrl": "https://lh3.googleusercontent.com/a-/AOh14Gjck1QrAr3OBVHDiFDEXm8F2D-3OgColYxFHK0CZXM=s64",
      "userId": "03485497232926795699"
     },
     "user_tz": -60
    },
    "id": "wEucsRspeztf"
   },
   "outputs": [],
   "source": [
    "#legalset = legaltest_tidy[['premise','hypothesis','target']]"
   ]
  },
  {
   "cell_type": "code",
   "execution_count": null,
   "metadata": {
    "colab": {
     "base_uri": "https://localhost:8080/"
    },
    "executionInfo": {
     "elapsed": 4927,
     "status": "ok",
     "timestamp": 1628710560028,
     "user": {
      "displayName": "Surya R",
      "photoUrl": "https://lh3.googleusercontent.com/a-/AOh14Gjck1QrAr3OBVHDiFDEXm8F2D-3OgColYxFHK0CZXM=s64",
      "userId": "03485497232926795699"
     },
     "user_tz": -60
    },
    "id": "bO6bMf06eBna",
    "outputId": "b9ee1602-11c2-4f22-c1ea-1358fb3346f1"
   },
   "outputs": [],
   "source": [
    "#Create object of SNLIAlberPredictor\n",
    "#get legaltest set\n",
    "snli_legaltestset = SNLIDataAlbertPredictor(legaltest_tidy)\n",
    "legaltest_loader = snli_legaltestset.get_data_loaders(batch_size=16)"
   ]
  },
  {
   "cell_type": "code",
   "execution_count": null,
   "metadata": {
    "colab": {
     "base_uri": "https://localhost:8080/"
    },
    "executionInfo": {
     "elapsed": 935,
     "status": "ok",
     "timestamp": 1628710605048,
     "user": {
      "displayName": "Surya R",
      "photoUrl": "https://lh3.googleusercontent.com/a-/AOh14Gjck1QrAr3OBVHDiFDEXm8F2D-3OgColYxFHK0CZXM=s64",
      "userId": "03485497232926795699"
     },
     "user_tz": -60
    },
    "id": "XAkUxEYn4Men",
    "outputId": "ae9f9a06-1e07-4e7d-a857-896f0ba41003"
   },
   "outputs": [],
   "source": [
    "# for ALBERT - testing on small Legalset\n",
    "epoch_to_resume = 6\n",
    "y_pred_legalall,y_test_legalall = test(model, legaltest_loader, optimizer,epoch_to_resume)"
   ]
  },
  {
   "cell_type": "code",
   "execution_count": null,
   "metadata": {
    "id": "_VuZifXpnGjC"
   },
   "outputs": [],
   "source": []
  },
  {
   "cell_type": "markdown",
   "metadata": {
    "id": "LnaDYlPheCh3"
   },
   "source": [
    "## Download colab notebook as HTML"
   ]
  },
  {
   "cell_type": "code",
   "execution_count": null,
   "metadata": {
    "colab": {
     "base_uri": "https://localhost:8080/"
    },
    "executionInfo": {
     "elapsed": 1970,
     "status": "ok",
     "timestamp": 1628711546996,
     "user": {
      "displayName": "Surya R",
      "photoUrl": "https://lh3.googleusercontent.com/a-/AOh14Gjck1QrAr3OBVHDiFDEXm8F2D-3OgColYxFHK0CZXM=s64",
      "userId": "03485497232926795699"
     },
     "user_tz": -60
    },
    "id": "fq2PMrJjmTdU",
    "outputId": "0a963177-cb70-4b1b-eac6-5a4259aabf27"
   },
   "outputs": [],
   "source": [
    "## download as html\n",
    "%%shell\n",
    "jupyter nbconvert --to html /content/Iteration2_ALBERT.ipynb\n",
    "\n"
   ]
  },
  {
   "cell_type": "code",
   "execution_count": null,
   "metadata": {
    "executionInfo": {
     "elapsed": 15,
     "status": "aborted",
     "timestamp": 1628707382702,
     "user": {
      "displayName": "Surya R",
      "photoUrl": "https://lh3.googleusercontent.com/a-/AOh14Gjck1QrAr3OBVHDiFDEXm8F2D-3OgColYxFHK0CZXM=s64",
      "userId": "03485497232926795699"
     },
     "user_tz": -60
    },
    "id": "KiydJqj-mTjD"
   },
   "outputs": [],
   "source": []
  }
 ],
 "metadata": {
  "accelerator": "GPU",
  "colab": {
   "collapsed_sections": [],
   "machine_shape": "hm",
   "name": "Iteration2_ALBERT.ipynb",
   "provenance": []
  },
  "kernelspec": {
   "display_name": "Python 3 (ipykernel)",
   "language": "python",
   "name": "python3"
  },
  "language_info": {
   "codemirror_mode": {
    "name": "ipython",
    "version": 3
   },
   "file_extension": ".py",
   "mimetype": "text/x-python",
   "name": "python",
   "nbconvert_exporter": "python",
   "pygments_lexer": "ipython3",
   "version": "3.10.4"
  },
  "widgets": {
   "application/vnd.jupyter.widget-state+json": {
    "0312cc7342b744a0920ac1b92f525ad6": {
     "model_module": "@jupyter-widgets/controls",
     "model_module_version": "1.5.0",
     "model_name": "FloatProgressModel",
     "state": {
      "_dom_classes": [],
      "_model_module": "@jupyter-widgets/controls",
      "_model_module_version": "1.5.0",
      "_model_name": "FloatProgressModel",
      "_view_count": null,
      "_view_module": "@jupyter-widgets/controls",
      "_view_module_version": "1.5.0",
      "_view_name": "ProgressView",
      "bar_style": "success",
      "description": "Downloading: 100%",
      "description_tooltip": null,
      "layout": "IPY_MODEL_9af38aa46482400a90b49b0751e5aef4",
      "max": 760289,
      "min": 0,
      "orientation": "horizontal",
      "style": "IPY_MODEL_b1d6a85ddf7448dbbb3dd0ad420a7561",
      "value": 760289
     }
    },
    "157e92cd3f7c47408406cbe0ac560344": {
     "model_module": "@jupyter-widgets/controls",
     "model_module_version": "1.5.0",
     "model_name": "DescriptionStyleModel",
     "state": {
      "_model_module": "@jupyter-widgets/controls",
      "_model_module_version": "1.5.0",
      "_model_name": "DescriptionStyleModel",
      "_view_count": null,
      "_view_module": "@jupyter-widgets/base",
      "_view_module_version": "1.2.0",
      "_view_name": "StyleView",
      "description_width": ""
     }
    },
    "24ee384536634bd2ba5cfb887d6a5ccc": {
     "model_module": "@jupyter-widgets/base",
     "model_module_version": "1.2.0",
     "model_name": "LayoutModel",
     "state": {
      "_model_module": "@jupyter-widgets/base",
      "_model_module_version": "1.2.0",
      "_model_name": "LayoutModel",
      "_view_count": null,
      "_view_module": "@jupyter-widgets/base",
      "_view_module_version": "1.2.0",
      "_view_name": "LayoutView",
      "align_content": null,
      "align_items": null,
      "align_self": null,
      "border": null,
      "bottom": null,
      "display": null,
      "flex": null,
      "flex_flow": null,
      "grid_area": null,
      "grid_auto_columns": null,
      "grid_auto_flow": null,
      "grid_auto_rows": null,
      "grid_column": null,
      "grid_gap": null,
      "grid_row": null,
      "grid_template_areas": null,
      "grid_template_columns": null,
      "grid_template_rows": null,
      "height": null,
      "justify_content": null,
      "justify_items": null,
      "left": null,
      "margin": null,
      "max_height": null,
      "max_width": null,
      "min_height": null,
      "min_width": null,
      "object_fit": null,
      "object_position": null,
      "order": null,
      "overflow": null,
      "overflow_x": null,
      "overflow_y": null,
      "padding": null,
      "right": null,
      "top": null,
      "visibility": null,
      "width": null
     }
    },
    "440acc50d1934b60b94827d93a38233a": {
     "model_module": "@jupyter-widgets/base",
     "model_module_version": "1.2.0",
     "model_name": "LayoutModel",
     "state": {
      "_model_module": "@jupyter-widgets/base",
      "_model_module_version": "1.2.0",
      "_model_name": "LayoutModel",
      "_view_count": null,
      "_view_module": "@jupyter-widgets/base",
      "_view_module_version": "1.2.0",
      "_view_name": "LayoutView",
      "align_content": null,
      "align_items": null,
      "align_self": null,
      "border": null,
      "bottom": null,
      "display": null,
      "flex": null,
      "flex_flow": null,
      "grid_area": null,
      "grid_auto_columns": null,
      "grid_auto_flow": null,
      "grid_auto_rows": null,
      "grid_column": null,
      "grid_gap": null,
      "grid_row": null,
      "grid_template_areas": null,
      "grid_template_columns": null,
      "grid_template_rows": null,
      "height": null,
      "justify_content": null,
      "justify_items": null,
      "left": null,
      "margin": null,
      "max_height": null,
      "max_width": null,
      "min_height": null,
      "min_width": null,
      "object_fit": null,
      "object_position": null,
      "order": null,
      "overflow": null,
      "overflow_x": null,
      "overflow_y": null,
      "padding": null,
      "right": null,
      "top": null,
      "visibility": null,
      "width": null
     }
    },
    "56c1eb407593444cb74aed574d95c691": {
     "model_module": "@jupyter-widgets/controls",
     "model_module_version": "1.5.0",
     "model_name": "DescriptionStyleModel",
     "state": {
      "_model_module": "@jupyter-widgets/controls",
      "_model_module_version": "1.5.0",
      "_model_name": "DescriptionStyleModel",
      "_view_count": null,
      "_view_module": "@jupyter-widgets/base",
      "_view_module_version": "1.2.0",
      "_view_name": "StyleView",
      "description_width": ""
     }
    },
    "583b3083379b4436985e49d688bbc42c": {
     "model_module": "@jupyter-widgets/base",
     "model_module_version": "1.2.0",
     "model_name": "LayoutModel",
     "state": {
      "_model_module": "@jupyter-widgets/base",
      "_model_module_version": "1.2.0",
      "_model_name": "LayoutModel",
      "_view_count": null,
      "_view_module": "@jupyter-widgets/base",
      "_view_module_version": "1.2.0",
      "_view_name": "LayoutView",
      "align_content": null,
      "align_items": null,
      "align_self": null,
      "border": null,
      "bottom": null,
      "display": null,
      "flex": null,
      "flex_flow": null,
      "grid_area": null,
      "grid_auto_columns": null,
      "grid_auto_flow": null,
      "grid_auto_rows": null,
      "grid_column": null,
      "grid_gap": null,
      "grid_row": null,
      "grid_template_areas": null,
      "grid_template_columns": null,
      "grid_template_rows": null,
      "height": null,
      "justify_content": null,
      "justify_items": null,
      "left": null,
      "margin": null,
      "max_height": null,
      "max_width": null,
      "min_height": null,
      "min_width": null,
      "object_fit": null,
      "object_position": null,
      "order": null,
      "overflow": null,
      "overflow_x": null,
      "overflow_y": null,
      "padding": null,
      "right": null,
      "top": null,
      "visibility": null,
      "width": null
     }
    },
    "5e63e71789c349cfa410d2a8236be74a": {
     "model_module": "@jupyter-widgets/controls",
     "model_module_version": "1.5.0",
     "model_name": "HTMLModel",
     "state": {
      "_dom_classes": [],
      "_model_module": "@jupyter-widgets/controls",
      "_model_module_version": "1.5.0",
      "_model_name": "HTMLModel",
      "_view_count": null,
      "_view_module": "@jupyter-widgets/controls",
      "_view_module_version": "1.5.0",
      "_view_name": "HTMLView",
      "description": "",
      "description_tooltip": null,
      "layout": "IPY_MODEL_d0ae4350eb824cb9b6823e50241634df",
      "placeholder": "​",
      "style": "IPY_MODEL_56c1eb407593444cb74aed574d95c691",
      "value": " 684/684 [00:00&lt;00:00, 19.2kB/s]"
     }
    },
    "637ea42ba2484deb8ee84fc5a16744de": {
     "model_module": "@jupyter-widgets/controls",
     "model_module_version": "1.5.0",
     "model_name": "HBoxModel",
     "state": {
      "_dom_classes": [],
      "_model_module": "@jupyter-widgets/controls",
      "_model_module_version": "1.5.0",
      "_model_name": "HBoxModel",
      "_view_count": null,
      "_view_module": "@jupyter-widgets/controls",
      "_view_module_version": "1.5.0",
      "_view_name": "HBoxView",
      "box_style": "",
      "children": [
       "IPY_MODEL_cb3f5f6a0d3e468ab43ee6bdb03dcf69",
       "IPY_MODEL_6de649d8d9b642fc914f4f054f3a5957"
      ],
      "layout": "IPY_MODEL_583b3083379b4436985e49d688bbc42c"
     }
    },
    "6594c59ea2f5499aa73cd6cf5ad5624b": {
     "model_module": "@jupyter-widgets/controls",
     "model_module_version": "1.5.0",
     "model_name": "ProgressStyleModel",
     "state": {
      "_model_module": "@jupyter-widgets/controls",
      "_model_module_version": "1.5.0",
      "_model_name": "ProgressStyleModel",
      "_view_count": null,
      "_view_module": "@jupyter-widgets/base",
      "_view_module_version": "1.2.0",
      "_view_name": "StyleView",
      "bar_color": null,
      "description_width": "initial"
     }
    },
    "6a50a8fc7ec34ce8815644f74f8015bb": {
     "model_module": "@jupyter-widgets/controls",
     "model_module_version": "1.5.0",
     "model_name": "HBoxModel",
     "state": {
      "_dom_classes": [],
      "_model_module": "@jupyter-widgets/controls",
      "_model_module_version": "1.5.0",
      "_model_name": "HBoxModel",
      "_view_count": null,
      "_view_module": "@jupyter-widgets/controls",
      "_view_module_version": "1.5.0",
      "_view_name": "HBoxView",
      "box_style": "",
      "children": [
       "IPY_MODEL_0312cc7342b744a0920ac1b92f525ad6",
       "IPY_MODEL_fc693ccb08564e5d8192b0da90b3a0e7"
      ],
      "layout": "IPY_MODEL_d3c298bd292e4542a3f2ad5c07d84766"
     }
    },
    "6bbc17ba259c4bd98cc821eae09ae806": {
     "model_module": "@jupyter-widgets/base",
     "model_module_version": "1.2.0",
     "model_name": "LayoutModel",
     "state": {
      "_model_module": "@jupyter-widgets/base",
      "_model_module_version": "1.2.0",
      "_model_name": "LayoutModel",
      "_view_count": null,
      "_view_module": "@jupyter-widgets/base",
      "_view_module_version": "1.2.0",
      "_view_name": "LayoutView",
      "align_content": null,
      "align_items": null,
      "align_self": null,
      "border": null,
      "bottom": null,
      "display": null,
      "flex": null,
      "flex_flow": null,
      "grid_area": null,
      "grid_auto_columns": null,
      "grid_auto_flow": null,
      "grid_auto_rows": null,
      "grid_column": null,
      "grid_gap": null,
      "grid_row": null,
      "grid_template_areas": null,
      "grid_template_columns": null,
      "grid_template_rows": null,
      "height": null,
      "justify_content": null,
      "justify_items": null,
      "left": null,
      "margin": null,
      "max_height": null,
      "max_width": null,
      "min_height": null,
      "min_width": null,
      "object_fit": null,
      "object_position": null,
      "order": null,
      "overflow": null,
      "overflow_x": null,
      "overflow_y": null,
      "padding": null,
      "right": null,
      "top": null,
      "visibility": null,
      "width": null
     }
    },
    "6de649d8d9b642fc914f4f054f3a5957": {
     "model_module": "@jupyter-widgets/controls",
     "model_module_version": "1.5.0",
     "model_name": "HTMLModel",
     "state": {
      "_dom_classes": [],
      "_model_module": "@jupyter-widgets/controls",
      "_model_module_version": "1.5.0",
      "_model_name": "HTMLModel",
      "_view_count": null,
      "_view_module": "@jupyter-widgets/controls",
      "_view_module_version": "1.5.0",
      "_view_name": "HTMLView",
      "description": "",
      "description_tooltip": null,
      "layout": "IPY_MODEL_6bbc17ba259c4bd98cc821eae09ae806",
      "placeholder": "​",
      "style": "IPY_MODEL_a3d9a174c8ab46aebed9604bc1b11d74",
      "value": " 47.4M/47.4M [00:05&lt;00:00, 8.40MB/s]"
     }
    },
    "769fd8ffc4a945a9b62f31bb3530d50f": {
     "model_module": "@jupyter-widgets/controls",
     "model_module_version": "1.5.0",
     "model_name": "FloatProgressModel",
     "state": {
      "_dom_classes": [],
      "_model_module": "@jupyter-widgets/controls",
      "_model_module_version": "1.5.0",
      "_model_name": "FloatProgressModel",
      "_view_count": null,
      "_view_module": "@jupyter-widgets/controls",
      "_view_module_version": "1.5.0",
      "_view_name": "ProgressView",
      "bar_style": "success",
      "description": "Downloading: 100%",
      "description_tooltip": null,
      "layout": "IPY_MODEL_24ee384536634bd2ba5cfb887d6a5ccc",
      "max": 1312669,
      "min": 0,
      "orientation": "horizontal",
      "style": "IPY_MODEL_8a7f0b4bc8584fac8735335ee6ac1d62",
      "value": 1312669
     }
    },
    "8573695438e14b7d8d7ed4494f427874": {
     "model_module": "@jupyter-widgets/controls",
     "model_module_version": "1.5.0",
     "model_name": "HBoxModel",
     "state": {
      "_dom_classes": [],
      "_model_module": "@jupyter-widgets/controls",
      "_model_module_version": "1.5.0",
      "_model_name": "HBoxModel",
      "_view_count": null,
      "_view_module": "@jupyter-widgets/controls",
      "_view_module_version": "1.5.0",
      "_view_name": "HBoxView",
      "box_style": "",
      "children": [
       "IPY_MODEL_769fd8ffc4a945a9b62f31bb3530d50f",
       "IPY_MODEL_8a7d54b60da44728b47795a753fd39a8"
      ],
      "layout": "IPY_MODEL_94ce76a40b6948df8810498da02c1e36"
     }
    },
    "8a7d54b60da44728b47795a753fd39a8": {
     "model_module": "@jupyter-widgets/controls",
     "model_module_version": "1.5.0",
     "model_name": "HTMLModel",
     "state": {
      "_dom_classes": [],
      "_model_module": "@jupyter-widgets/controls",
      "_model_module_version": "1.5.0",
      "_model_name": "HTMLModel",
      "_view_count": null,
      "_view_module": "@jupyter-widgets/controls",
      "_view_module_version": "1.5.0",
      "_view_name": "HTMLView",
      "description": "",
      "description_tooltip": null,
      "layout": "IPY_MODEL_93c0f6d8e8a94090a432e25ff4656ece",
      "placeholder": "​",
      "style": "IPY_MODEL_954ee486e1de4fd99856eff32d00153d",
      "value": " 1.31M/1.31M [00:00&lt;00:00, 1.84MB/s]"
     }
    },
    "8a7f0b4bc8584fac8735335ee6ac1d62": {
     "model_module": "@jupyter-widgets/controls",
     "model_module_version": "1.5.0",
     "model_name": "ProgressStyleModel",
     "state": {
      "_model_module": "@jupyter-widgets/controls",
      "_model_module_version": "1.5.0",
      "_model_name": "ProgressStyleModel",
      "_view_count": null,
      "_view_module": "@jupyter-widgets/base",
      "_view_module_version": "1.2.0",
      "_view_name": "StyleView",
      "bar_color": null,
      "description_width": "initial"
     }
    },
    "93c0f6d8e8a94090a432e25ff4656ece": {
     "model_module": "@jupyter-widgets/base",
     "model_module_version": "1.2.0",
     "model_name": "LayoutModel",
     "state": {
      "_model_module": "@jupyter-widgets/base",
      "_model_module_version": "1.2.0",
      "_model_name": "LayoutModel",
      "_view_count": null,
      "_view_module": "@jupyter-widgets/base",
      "_view_module_version": "1.2.0",
      "_view_name": "LayoutView",
      "align_content": null,
      "align_items": null,
      "align_self": null,
      "border": null,
      "bottom": null,
      "display": null,
      "flex": null,
      "flex_flow": null,
      "grid_area": null,
      "grid_auto_columns": null,
      "grid_auto_flow": null,
      "grid_auto_rows": null,
      "grid_column": null,
      "grid_gap": null,
      "grid_row": null,
      "grid_template_areas": null,
      "grid_template_columns": null,
      "grid_template_rows": null,
      "height": null,
      "justify_content": null,
      "justify_items": null,
      "left": null,
      "margin": null,
      "max_height": null,
      "max_width": null,
      "min_height": null,
      "min_width": null,
      "object_fit": null,
      "object_position": null,
      "order": null,
      "overflow": null,
      "overflow_x": null,
      "overflow_y": null,
      "padding": null,
      "right": null,
      "top": null,
      "visibility": null,
      "width": null
     }
    },
    "94ce76a40b6948df8810498da02c1e36": {
     "model_module": "@jupyter-widgets/base",
     "model_module_version": "1.2.0",
     "model_name": "LayoutModel",
     "state": {
      "_model_module": "@jupyter-widgets/base",
      "_model_module_version": "1.2.0",
      "_model_name": "LayoutModel",
      "_view_count": null,
      "_view_module": "@jupyter-widgets/base",
      "_view_module_version": "1.2.0",
      "_view_name": "LayoutView",
      "align_content": null,
      "align_items": null,
      "align_self": null,
      "border": null,
      "bottom": null,
      "display": null,
      "flex": null,
      "flex_flow": null,
      "grid_area": null,
      "grid_auto_columns": null,
      "grid_auto_flow": null,
      "grid_auto_rows": null,
      "grid_column": null,
      "grid_gap": null,
      "grid_row": null,
      "grid_template_areas": null,
      "grid_template_columns": null,
      "grid_template_rows": null,
      "height": null,
      "justify_content": null,
      "justify_items": null,
      "left": null,
      "margin": null,
      "max_height": null,
      "max_width": null,
      "min_height": null,
      "min_width": null,
      "object_fit": null,
      "object_position": null,
      "order": null,
      "overflow": null,
      "overflow_x": null,
      "overflow_y": null,
      "padding": null,
      "right": null,
      "top": null,
      "visibility": null,
      "width": null
     }
    },
    "954ee486e1de4fd99856eff32d00153d": {
     "model_module": "@jupyter-widgets/controls",
     "model_module_version": "1.5.0",
     "model_name": "DescriptionStyleModel",
     "state": {
      "_model_module": "@jupyter-widgets/controls",
      "_model_module_version": "1.5.0",
      "_model_name": "DescriptionStyleModel",
      "_view_count": null,
      "_view_module": "@jupyter-widgets/base",
      "_view_module_version": "1.2.0",
      "_view_name": "StyleView",
      "description_width": ""
     }
    },
    "9af38aa46482400a90b49b0751e5aef4": {
     "model_module": "@jupyter-widgets/base",
     "model_module_version": "1.2.0",
     "model_name": "LayoutModel",
     "state": {
      "_model_module": "@jupyter-widgets/base",
      "_model_module_version": "1.2.0",
      "_model_name": "LayoutModel",
      "_view_count": null,
      "_view_module": "@jupyter-widgets/base",
      "_view_module_version": "1.2.0",
      "_view_name": "LayoutView",
      "align_content": null,
      "align_items": null,
      "align_self": null,
      "border": null,
      "bottom": null,
      "display": null,
      "flex": null,
      "flex_flow": null,
      "grid_area": null,
      "grid_auto_columns": null,
      "grid_auto_flow": null,
      "grid_auto_rows": null,
      "grid_column": null,
      "grid_gap": null,
      "grid_row": null,
      "grid_template_areas": null,
      "grid_template_columns": null,
      "grid_template_rows": null,
      "height": null,
      "justify_content": null,
      "justify_items": null,
      "left": null,
      "margin": null,
      "max_height": null,
      "max_width": null,
      "min_height": null,
      "min_width": null,
      "object_fit": null,
      "object_position": null,
      "order": null,
      "overflow": null,
      "overflow_x": null,
      "overflow_y": null,
      "padding": null,
      "right": null,
      "top": null,
      "visibility": null,
      "width": null
     }
    },
    "9f549410cd074bd9ac1fd7c7eb5c661c": {
     "model_module": "@jupyter-widgets/base",
     "model_module_version": "1.2.0",
     "model_name": "LayoutModel",
     "state": {
      "_model_module": "@jupyter-widgets/base",
      "_model_module_version": "1.2.0",
      "_model_name": "LayoutModel",
      "_view_count": null,
      "_view_module": "@jupyter-widgets/base",
      "_view_module_version": "1.2.0",
      "_view_name": "LayoutView",
      "align_content": null,
      "align_items": null,
      "align_self": null,
      "border": null,
      "bottom": null,
      "display": null,
      "flex": null,
      "flex_flow": null,
      "grid_area": null,
      "grid_auto_columns": null,
      "grid_auto_flow": null,
      "grid_auto_rows": null,
      "grid_column": null,
      "grid_gap": null,
      "grid_row": null,
      "grid_template_areas": null,
      "grid_template_columns": null,
      "grid_template_rows": null,
      "height": null,
      "justify_content": null,
      "justify_items": null,
      "left": null,
      "margin": null,
      "max_height": null,
      "max_width": null,
      "min_height": null,
      "min_width": null,
      "object_fit": null,
      "object_position": null,
      "order": null,
      "overflow": null,
      "overflow_x": null,
      "overflow_y": null,
      "padding": null,
      "right": null,
      "top": null,
      "visibility": null,
      "width": null
     }
    },
    "a11da732768f4152b4b8d1305eecfe47": {
     "model_module": "@jupyter-widgets/controls",
     "model_module_version": "1.5.0",
     "model_name": "FloatProgressModel",
     "state": {
      "_dom_classes": [],
      "_model_module": "@jupyter-widgets/controls",
      "_model_module_version": "1.5.0",
      "_model_name": "FloatProgressModel",
      "_view_count": null,
      "_view_module": "@jupyter-widgets/controls",
      "_view_module_version": "1.5.0",
      "_view_name": "ProgressView",
      "bar_style": "success",
      "description": "Downloading: 100%",
      "description_tooltip": null,
      "layout": "IPY_MODEL_440acc50d1934b60b94827d93a38233a",
      "max": 684,
      "min": 0,
      "orientation": "horizontal",
      "style": "IPY_MODEL_df4aa09e700f4f489cea0fc76b0e26a1",
      "value": 684
     }
    },
    "a3d9a174c8ab46aebed9604bc1b11d74": {
     "model_module": "@jupyter-widgets/controls",
     "model_module_version": "1.5.0",
     "model_name": "DescriptionStyleModel",
     "state": {
      "_model_module": "@jupyter-widgets/controls",
      "_model_module_version": "1.5.0",
      "_model_name": "DescriptionStyleModel",
      "_view_count": null,
      "_view_module": "@jupyter-widgets/base",
      "_view_module_version": "1.2.0",
      "_view_name": "StyleView",
      "description_width": ""
     }
    },
    "b1d6a85ddf7448dbbb3dd0ad420a7561": {
     "model_module": "@jupyter-widgets/controls",
     "model_module_version": "1.5.0",
     "model_name": "ProgressStyleModel",
     "state": {
      "_model_module": "@jupyter-widgets/controls",
      "_model_module_version": "1.5.0",
      "_model_name": "ProgressStyleModel",
      "_view_count": null,
      "_view_module": "@jupyter-widgets/base",
      "_view_module_version": "1.2.0",
      "_view_name": "StyleView",
      "bar_color": null,
      "description_width": "initial"
     }
    },
    "c86bc8eba1b349b396b1b47c33eebc1a": {
     "model_module": "@jupyter-widgets/base",
     "model_module_version": "1.2.0",
     "model_name": "LayoutModel",
     "state": {
      "_model_module": "@jupyter-widgets/base",
      "_model_module_version": "1.2.0",
      "_model_name": "LayoutModel",
      "_view_count": null,
      "_view_module": "@jupyter-widgets/base",
      "_view_module_version": "1.2.0",
      "_view_name": "LayoutView",
      "align_content": null,
      "align_items": null,
      "align_self": null,
      "border": null,
      "bottom": null,
      "display": null,
      "flex": null,
      "flex_flow": null,
      "grid_area": null,
      "grid_auto_columns": null,
      "grid_auto_flow": null,
      "grid_auto_rows": null,
      "grid_column": null,
      "grid_gap": null,
      "grid_row": null,
      "grid_template_areas": null,
      "grid_template_columns": null,
      "grid_template_rows": null,
      "height": null,
      "justify_content": null,
      "justify_items": null,
      "left": null,
      "margin": null,
      "max_height": null,
      "max_width": null,
      "min_height": null,
      "min_width": null,
      "object_fit": null,
      "object_position": null,
      "order": null,
      "overflow": null,
      "overflow_x": null,
      "overflow_y": null,
      "padding": null,
      "right": null,
      "top": null,
      "visibility": null,
      "width": null
     }
    },
    "cb3f5f6a0d3e468ab43ee6bdb03dcf69": {
     "model_module": "@jupyter-widgets/controls",
     "model_module_version": "1.5.0",
     "model_name": "FloatProgressModel",
     "state": {
      "_dom_classes": [],
      "_model_module": "@jupyter-widgets/controls",
      "_model_module_version": "1.5.0",
      "_model_name": "FloatProgressModel",
      "_view_count": null,
      "_view_module": "@jupyter-widgets/controls",
      "_view_module_version": "1.5.0",
      "_view_name": "ProgressView",
      "bar_style": "success",
      "description": "Downloading: 100%",
      "description_tooltip": null,
      "layout": "IPY_MODEL_c86bc8eba1b349b396b1b47c33eebc1a",
      "max": 47376696,
      "min": 0,
      "orientation": "horizontal",
      "style": "IPY_MODEL_6594c59ea2f5499aa73cd6cf5ad5624b",
      "value": 47376696
     }
    },
    "d0ae4350eb824cb9b6823e50241634df": {
     "model_module": "@jupyter-widgets/base",
     "model_module_version": "1.2.0",
     "model_name": "LayoutModel",
     "state": {
      "_model_module": "@jupyter-widgets/base",
      "_model_module_version": "1.2.0",
      "_model_name": "LayoutModel",
      "_view_count": null,
      "_view_module": "@jupyter-widgets/base",
      "_view_module_version": "1.2.0",
      "_view_name": "LayoutView",
      "align_content": null,
      "align_items": null,
      "align_self": null,
      "border": null,
      "bottom": null,
      "display": null,
      "flex": null,
      "flex_flow": null,
      "grid_area": null,
      "grid_auto_columns": null,
      "grid_auto_flow": null,
      "grid_auto_rows": null,
      "grid_column": null,
      "grid_gap": null,
      "grid_row": null,
      "grid_template_areas": null,
      "grid_template_columns": null,
      "grid_template_rows": null,
      "height": null,
      "justify_content": null,
      "justify_items": null,
      "left": null,
      "margin": null,
      "max_height": null,
      "max_width": null,
      "min_height": null,
      "min_width": null,
      "object_fit": null,
      "object_position": null,
      "order": null,
      "overflow": null,
      "overflow_x": null,
      "overflow_y": null,
      "padding": null,
      "right": null,
      "top": null,
      "visibility": null,
      "width": null
     }
    },
    "d3c298bd292e4542a3f2ad5c07d84766": {
     "model_module": "@jupyter-widgets/base",
     "model_module_version": "1.2.0",
     "model_name": "LayoutModel",
     "state": {
      "_model_module": "@jupyter-widgets/base",
      "_model_module_version": "1.2.0",
      "_model_name": "LayoutModel",
      "_view_count": null,
      "_view_module": "@jupyter-widgets/base",
      "_view_module_version": "1.2.0",
      "_view_name": "LayoutView",
      "align_content": null,
      "align_items": null,
      "align_self": null,
      "border": null,
      "bottom": null,
      "display": null,
      "flex": null,
      "flex_flow": null,
      "grid_area": null,
      "grid_auto_columns": null,
      "grid_auto_flow": null,
      "grid_auto_rows": null,
      "grid_column": null,
      "grid_gap": null,
      "grid_row": null,
      "grid_template_areas": null,
      "grid_template_columns": null,
      "grid_template_rows": null,
      "height": null,
      "justify_content": null,
      "justify_items": null,
      "left": null,
      "margin": null,
      "max_height": null,
      "max_width": null,
      "min_height": null,
      "min_width": null,
      "object_fit": null,
      "object_position": null,
      "order": null,
      "overflow": null,
      "overflow_x": null,
      "overflow_y": null,
      "padding": null,
      "right": null,
      "top": null,
      "visibility": null,
      "width": null
     }
    },
    "dc2e8f8837724865ba30e67b0cc2635e": {
     "model_module": "@jupyter-widgets/base",
     "model_module_version": "1.2.0",
     "model_name": "LayoutModel",
     "state": {
      "_model_module": "@jupyter-widgets/base",
      "_model_module_version": "1.2.0",
      "_model_name": "LayoutModel",
      "_view_count": null,
      "_view_module": "@jupyter-widgets/base",
      "_view_module_version": "1.2.0",
      "_view_name": "LayoutView",
      "align_content": null,
      "align_items": null,
      "align_self": null,
      "border": null,
      "bottom": null,
      "display": null,
      "flex": null,
      "flex_flow": null,
      "grid_area": null,
      "grid_auto_columns": null,
      "grid_auto_flow": null,
      "grid_auto_rows": null,
      "grid_column": null,
      "grid_gap": null,
      "grid_row": null,
      "grid_template_areas": null,
      "grid_template_columns": null,
      "grid_template_rows": null,
      "height": null,
      "justify_content": null,
      "justify_items": null,
      "left": null,
      "margin": null,
      "max_height": null,
      "max_width": null,
      "min_height": null,
      "min_width": null,
      "object_fit": null,
      "object_position": null,
      "order": null,
      "overflow": null,
      "overflow_x": null,
      "overflow_y": null,
      "padding": null,
      "right": null,
      "top": null,
      "visibility": null,
      "width": null
     }
    },
    "dc96543f88c94aa3b3b2008e2bae01aa": {
     "model_module": "@jupyter-widgets/controls",
     "model_module_version": "1.5.0",
     "model_name": "HBoxModel",
     "state": {
      "_dom_classes": [],
      "_model_module": "@jupyter-widgets/controls",
      "_model_module_version": "1.5.0",
      "_model_name": "HBoxModel",
      "_view_count": null,
      "_view_module": "@jupyter-widgets/controls",
      "_view_module_version": "1.5.0",
      "_view_name": "HBoxView",
      "box_style": "",
      "children": [
       "IPY_MODEL_a11da732768f4152b4b8d1305eecfe47",
       "IPY_MODEL_5e63e71789c349cfa410d2a8236be74a"
      ],
      "layout": "IPY_MODEL_dc2e8f8837724865ba30e67b0cc2635e"
     }
    },
    "df4aa09e700f4f489cea0fc76b0e26a1": {
     "model_module": "@jupyter-widgets/controls",
     "model_module_version": "1.5.0",
     "model_name": "ProgressStyleModel",
     "state": {
      "_model_module": "@jupyter-widgets/controls",
      "_model_module_version": "1.5.0",
      "_model_name": "ProgressStyleModel",
      "_view_count": null,
      "_view_module": "@jupyter-widgets/base",
      "_view_module_version": "1.2.0",
      "_view_name": "StyleView",
      "bar_color": null,
      "description_width": "initial"
     }
    },
    "fc693ccb08564e5d8192b0da90b3a0e7": {
     "model_module": "@jupyter-widgets/controls",
     "model_module_version": "1.5.0",
     "model_name": "HTMLModel",
     "state": {
      "_dom_classes": [],
      "_model_module": "@jupyter-widgets/controls",
      "_model_module_version": "1.5.0",
      "_model_name": "HTMLModel",
      "_view_count": null,
      "_view_module": "@jupyter-widgets/controls",
      "_view_module_version": "1.5.0",
      "_view_name": "HTMLView",
      "description": "",
      "description_tooltip": null,
      "layout": "IPY_MODEL_9f549410cd074bd9ac1fd7c7eb5c661c",
      "placeholder": "​",
      "style": "IPY_MODEL_157e92cd3f7c47408406cbe0ac560344",
      "value": " 760k/760k [00:05&lt;00:00, 150kB/s]"
     }
    }
   }
  }
 },
 "nbformat": 4,
 "nbformat_minor": 1
}
