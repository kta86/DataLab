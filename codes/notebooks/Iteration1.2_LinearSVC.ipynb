{
 "cells": [
  {
   "cell_type": "markdown",
   "metadata": {},
   "source": [
    "# MSc Project ( 1.2 )\n",
    "\n",
    "- Surya L Ramesh (0206793)\n",
    "\n",
    " \n",
    "\n",
    "##  Iteration 1 - LinearSVC\n"
   ]
  },
  {
   "cell_type": "code",
   "execution_count": null,
   "metadata": {},
   "outputs": [],
   "source": [
    "''' \n",
    "- Loads,Cleans the SNLI Datset. \n",
    "- Pipeline created for pre-processing. \n",
    "- LinearSVC trained on training set. \n",
    "- Hyperparameter tuning done using Validation Set \n",
    "- Tuned model is saved\n",
    "- Prediction is done on select sentences '''"
   ]
  },
  {
   "cell_type": "markdown",
   "metadata": {},
   "source": [
    "### Import Libraries "
   ]
  },
  {
   "cell_type": "code",
   "execution_count": 77,
   "metadata": {
    "id": "6ZD3DYnM1aDi"
   },
   "outputs": [],
   "source": [
    "import pandas as pd\n",
    "import numpy as np\n",
    "\n",
    "import re\n",
    "\n",
    "from sklearn.pipeline import Pipeline\n",
    "from sklearn.svm import LinearSVC\n",
    "\n",
    "from sklearn.feature_extraction.text import TfidfVectorizer, CountVectorizer, TfidfTransformer\n",
    "from sklearn.neighbors import KNeighborsClassifier\n",
    "from sklearn.model_selection import GridSearchCV\n",
    "from sklearn.metrics import accuracy_score, confusion_matrix, roc_auc_score\n",
    "import nltk\n",
    "from nltk.stem import WordNetLemmatizer\n",
    "from nltk import word_tokenize\n",
    "from nltk.corpus import stopwords\n",
    "import string\n",
    "\n",
    "\n",
    "import joblib\n",
    "import os\n",
    "import fnmatch \n",
    "from termcolor import colored\n",
    "from sklearn.base import BaseEstimator, TransformerMixin\n",
    "from sklearn.pipeline import FeatureUnion\n",
    "from sklearn.feature_extraction import DictVectorizer\n",
    "import warnings\n",
    "import time \n",
    "\n",
    "from sklearn.preprocessing import LabelEncoder\n",
    "from sklearn.model_selection import train_test_split\n",
    "\n",
    "import itertools\n",
    "import seaborn as sns\n",
    "import matplotlib.pyplot as plt\n",
    "import pandas as pd\n",
    "from sklearn.metrics import classification_report\n",
    "from sklearn.metrics import accuracy_score, classification_report, confusion_matrix\n",
    "import pickle\n"
   ]
  },
  {
   "cell_type": "markdown",
   "metadata": {
    "id": "mJ3yh_gaYBsB"
   },
   "source": [
    "### Functions \n",
    "\n",
    "The code for the metadata extraction and pipieline is adapted from https://medium.com/@armandj.olivares/a-basic-nlp-tutorial-for-news-multiclass-categorization-82afa6d46aa5"
   ]
  },
  {
   "cell_type": "code",
   "execution_count": 2,
   "metadata": {
    "id": "-TsdojaL1jLF"
   },
   "outputs": [],
   "source": [
    "''' function to load data and tidy it - pass the dataframe, keep only wanted columns, \n",
    "remove'-' rows from gold_label, remove rows with na , rename columns'''\n",
    "\n",
    "def data_load_tidy(dataframe,isTest): \n",
    "    \n",
    "    dataframe = dataframe[['sentence1','sentence2','gold_label']]    \n",
    "    dataframe = dataframe[dataframe['gold_label'] != '-' ]\n",
    "    dataframe1= dataframe.dropna(axis=0, inplace=False) \n",
    "    data_tidy = dataframe1.rename(columns= {'sentence1':'premise', 'sentence2':'hypothesis','gold_label':'target'}, inplace=False)\n",
    "    \n",
    "    print(colored('\\n  data is tidied ....','green')) \n",
    "    return data_tidy\n",
    "\n",
    "# isTest is not needed anymore- can be removed- kept for experimentation"
   ]
  },
  {
   "cell_type": "code",
   "execution_count": 35,
   "metadata": {
    "colab": {
     "base_uri": "https://localhost:8080/"
    },
    "id": "YkM6oGgG4La3",
    "outputId": "11fcd970-54f5-4d7c-d03c-5a21469dbaf4"
   },
   "outputs": [],
   "source": [
    "''' function to get length of text for metadata'''\n",
    "def len_text(text):\n",
    "  if len(text.split())>0:\n",
    "         return len(set(clean_txt(text).split()))/ len(text.split())\n",
    "  else:\n",
    "         return 0"
   ]
  },
  {
   "cell_type": "code",
   "execution_count": 36,
   "metadata": {},
   "outputs": [],
   "source": [
    "''' function to  clean text using regex, lower the case  and lemmatize words'''\n",
    "def clean_txt(text):\n",
    "  clean_text = []\n",
    "  clean_text2 = []\n",
    "  text = re.sub(\"'\", \"\",text)\n",
    "  text=re.sub(\"(\\\\d|\\\\W)+\",\" \",text)\n",
    "  clean_text = [ wn.lemmatize(word, pos=\"v\") for word in word_tokenize(text.lower()) ]\n",
    "  clean_text2 = [word for word in clean_text ]\n",
    "  \n",
    "  return \" \".join(clean_text2)"
   ]
  },
  {
   "cell_type": "code",
   "execution_count": 37,
   "metadata": {},
   "outputs": [],
   "source": [
    "warnings.filterwarnings('ignore')"
   ]
  },
  {
   "cell_type": "code",
   "execution_count": 38,
   "metadata": {},
   "outputs": [],
   "source": [
    "def plot_confusion_matrix_custom(cm, classes, title='Confusion matrix - Linear SVC', cmap=plt.cm.Blues):\n",
    " \n",
    "    plt.figure()\n",
    "    plt.imshow(cm, interpolation='nearest', cmap=cmap)\n",
    "    plt.title(title)\n",
    "    plt.colorbar()\n",
    "    tick_marks = np.arange(len(classes))\n",
    "    plt.xticks(tick_marks, classes, rotation=45)\n",
    "    plt.yticks(tick_marks, classes, rotation=45)\n",
    "\n",
    "    fmt =  'd'\n",
    "    thresh = cm.max() / 2.\n",
    "    for i, j in itertools.product(range(cm.shape[0]), range(cm.shape[1])):\n",
    "        plt.text(j, i, format(cm[i, j], fmt), horizontalalignment=\"center\", color=\"white\" if cm[i, j] > thresh else \"black\")\n",
    "\n",
    "    \n",
    "    plt.ylabel('True label')\n",
    "    plt.xlabel('Predicted label')\n",
    "    plt.grid(False) \n",
    "   \n",
    "    plt.show()"
   ]
  },
  {
   "cell_type": "code",
   "execution_count": 39,
   "metadata": {},
   "outputs": [],
   "source": [
    "\n",
    "\n",
    "''' function written to view confusion matrix in colour  and print classification report'''\n",
    "\n",
    "def visualize_confusion_matrix(y_pred_argmax, y_true):\n",
    "\n",
    "    classes = ['entailment','contradiction','neutral']\n",
    "    cm = confusion_matrix(y_true, y_pred_argmax)\n",
    "    con_mat_df = pd.DataFrame(cm)\n",
    "    \n",
    "    print(classification_report(y_pred_argmax, y_true,target_names=classes))\n",
    "\n",
    "    plot_confusion_matrix_custom(cm,classes)\n"
   ]
  },
  {
   "cell_type": "code",
   "execution_count": 52,
   "metadata": {
    "id": "1OiYTyQJLwzg"
   },
   "outputs": [],
   "source": [
    "class ItemSelector(BaseEstimator, TransformerMixin):\n",
    "    def __init__(self, key):\n",
    "        self.key = key\n",
    "\n",
    "    def fit(self, x, y=None):\n",
    "        return self\n",
    "\n",
    "    def transform(self, data_dict):\n",
    "        return data_dict[self.key]\n",
    "\n",
    "\n",
    "class Textmetadata(BaseEstimator, TransformerMixin):\n",
    "    \"\"\"Extract features from each document for DictVectorizer\"\"\"\n",
    "\n",
    "    def fit(self, x, y=None):\n",
    "        return self\n",
    "\n",
    "    def transform(self, data):\n",
    "        return [{ 'len': row['len']} for _, row in data.iterrows()]"
   ]
  },
  {
   "cell_type": "code",
   "execution_count": 53,
   "metadata": {
    "id": "EmSzm022Lw2t"
   },
   "outputs": [],
   "source": [
    "pipeline = Pipeline([\n",
    "    ('union', FeatureUnion(\n",
    "        transformer_list=[\n",
    "\n",
    "            # Pipeline for pulling features from the text\n",
    "            ('premise', Pipeline([\n",
    "                ('selector', ItemSelector(key='premise')),\n",
    "                ('tfidf', TfidfVectorizer( min_df =3, max_df=0.2, max_features=None, \n",
    "                    strip_accents='unicode', analyzer='word',token_pattern=r'\\w{1,}',\n",
    "                    ngram_range=(1, 10), use_idf=1,smooth_idf=1,sublinear_tf=1,\n",
    "                    stop_words = None, preprocessor=clean_txt)), #No stopwords are used\n",
    "            ])),\n",
    "            ('hypothesis', Pipeline([\n",
    "                ('selector', ItemSelector(key='hypothesis')),\n",
    "                ('tfidf', TfidfVectorizer( min_df =3, max_df=0.2, max_features=None, \n",
    "                    strip_accents='unicode', analyzer='word',token_pattern=r'\\w{1,}',\n",
    "                    ngram_range=(1, 10), use_idf=1,smooth_idf=1,sublinear_tf=1,\n",
    "                    stop_words = None, preprocessor=clean_txt)), #No stopwords are used\n",
    "            ])),\n",
    "\n",
    "            # Pipeline for pulling metadata features\n",
    "            ('metadata', Pipeline([\n",
    "                ('selector', ItemSelector(key=[ 'len'])),\n",
    "                ('metadata', Textmetadata()),  # returns a list of dicts\n",
    "                ('vect', DictVectorizer()),    # list of dicts -> feature matrix\n",
    "            ])),\n",
    "\n",
    "        ],\n",
    "\n",
    "        # weight components in FeatureUnion\n",
    "        transformer_weights={\n",
    "            'premise': 0.5,\n",
    "            'hypothesis': 0.5,\n",
    "            'metadata': 0.0, # Different Values for Len metadata tried out here\n",
    "        },\n",
    "    ))\n",
    "])"
   ]
  },
  {
   "cell_type": "markdown",
   "metadata": {},
   "source": [
    "### Load Data"
   ]
  },
  {
   "cell_type": "code",
   "execution_count": 40,
   "metadata": {
    "id": "OTELZ-c3Yl1_"
   },
   "outputs": [],
   "source": [
    "\n",
    "#Use Relative path \n",
    "\n",
    "path = 'SNLI_Data_Csv'\n",
    "dirList = os.listdir(path)"
   ]
  },
  {
   "cell_type": "code",
   "execution_count": 41,
   "metadata": {
    "colab": {
     "base_uri": "https://localhost:8080/"
    },
    "id": "FtrXrx4KaIZ8",
    "outputId": "03a1f8b7-7b91-48d9-edf2-eb67e85e17ee"
   },
   "outputs": [
    {
     "name": "stdout",
     "output_type": "stream",
     "text": [
      "\u001b[34m\n",
      " In Filename and path: SNLI_Data_Csv\\snli_1.0_dev.csv\u001b[0m\n",
      "\u001b[32m\n",
      "  data is tidied ....\u001b[0m\n",
      "\u001b[34m\n",
      " In Filename and path: SNLI_Data_Csv\\snli_1.0_test.csv\u001b[0m\n",
      "\u001b[32m\n",
      "  data is tidied ....\u001b[0m\n",
      "\u001b[34m\n",
      " In Filename and path: SNLI_Data_Csv\\snli_1.0_train.csv\u001b[0m\n",
      "\u001b[32m\n",
      "  data is tidied ....\u001b[0m\n"
     ]
    }
   ],
   "source": [
    "for dir in dirList:\n",
    "  sub_path = os.path.join(path,dir) \n",
    "  #print(sub_path)\n",
    "  if fnmatch.fnmatch(sub_path,'*_train*'):\n",
    "    print(colored('\\n In Filename and path: %s' % (sub_path),'blue')) \n",
    "    df_train = pd.read_csv(sub_path,nrows =350000)  # changed to 10K for experimentation \n",
    "    train_tidy = data_load_tidy(df_train,False)\n",
    "    train_tidy[\"target\"].replace({\"entailment\": \"0entailment\", \"contradiction\": \"1contradiction\",\"neutral\": \"2neutral\"}, inplace=True)\n",
    "    \n",
    "  if fnmatch.fnmatch(sub_path,'*_test*'):  \n",
    "    print(colored('\\n In Filename and path: %s' % (sub_path),'blue')) \n",
    "    df_test = pd.read_csv(sub_path,nrows =10000) # changed to 1K for experimentation \n",
    "    test_tidy =  data_load_tidy(df_test,True)\n",
    "    test_tidy[\"target\"].replace({\"entailment\": \"0entailment\", \"contradiction\": \"1contradiction\",\"neutral\": \"2neutral\"}, inplace=True)\n",
    "    \n",
    "  if fnmatch.fnmatch(sub_path,'*_dev*'):  \n",
    "    print(colored('\\n In Filename and path: %s' % (sub_path),'blue')) \n",
    "    df_val = pd.read_csv(sub_path,nrows =10000)  # changed to 1K for experimentation \n",
    "    val_tidy = data_load_tidy(df_val,False)\n",
    "    val_tidy[\"target\"].replace({\"entailment\": \"0entailment\", \"contradiction\": \"1contradiction\",\"neutral\": \"2neutral\"}, inplace=True)"
   ]
  },
  {
   "cell_type": "code",
   "execution_count": 42,
   "metadata": {
    "colab": {
     "base_uri": "https://localhost:8080/"
    },
    "id": "fW2Miphm1oNw",
    "outputId": "ec1cb29a-dab9-463c-bba1-37699991824d"
   },
   "outputs": [
    {
     "data": {
      "text/plain": [
       "349548"
      ]
     },
     "execution_count": 42,
     "metadata": {},
     "output_type": "execute_result"
    }
   ],
   "source": [
    "train_tidy.shape[0]"
   ]
  },
  {
   "cell_type": "code",
   "execution_count": 43,
   "metadata": {
    "colab": {
     "base_uri": "https://localhost:8080/"
    },
    "id": "B5hupxE_1obq",
    "outputId": "b0631cf2-be52-4509-fab8-92dd6c6cda4b"
   },
   "outputs": [
    {
     "data": {
      "text/plain": [
       "9824"
      ]
     },
     "execution_count": 43,
     "metadata": {},
     "output_type": "execute_result"
    }
   ],
   "source": [
    "test_tidy.shape[0]"
   ]
  },
  {
   "cell_type": "code",
   "execution_count": 44,
   "metadata": {
    "colab": {
     "base_uri": "https://localhost:8080/"
    },
    "id": "Z2oxKO8Y1ofa",
    "outputId": "29253471-0780-4a58-cbdf-d01a98e436d1"
   },
   "outputs": [
    {
     "data": {
      "text/plain": [
       "9842"
      ]
     },
     "execution_count": 44,
     "metadata": {},
     "output_type": "execute_result"
    }
   ],
   "source": [
    "val_tidy.shape[0]"
   ]
  },
  {
   "cell_type": "code",
   "execution_count": 45,
   "metadata": {
    "colab": {
     "base_uri": "https://localhost:8080/",
     "height": 204
    },
    "id": "90Ap-A-91ols",
    "outputId": "2928a0d9-487e-47c4-88b7-fee47850693a"
   },
   "outputs": [
    {
     "data": {
      "text/html": [
       "<div>\n",
       "<style scoped>\n",
       "    .dataframe tbody tr th:only-of-type {\n",
       "        vertical-align: middle;\n",
       "    }\n",
       "\n",
       "    .dataframe tbody tr th {\n",
       "        vertical-align: top;\n",
       "    }\n",
       "\n",
       "    .dataframe thead th {\n",
       "        text-align: right;\n",
       "    }\n",
       "</style>\n",
       "<table border=\"1\" class=\"dataframe\">\n",
       "  <thead>\n",
       "    <tr style=\"text-align: right;\">\n",
       "      <th></th>\n",
       "      <th>premise</th>\n",
       "      <th>hypothesis</th>\n",
       "      <th>target</th>\n",
       "    </tr>\n",
       "  </thead>\n",
       "  <tbody>\n",
       "    <tr>\n",
       "      <td>0</td>\n",
       "      <td>A person on a horse jumps over a broken down a...</td>\n",
       "      <td>A person is training his horse for a competition.</td>\n",
       "      <td>2neutral</td>\n",
       "    </tr>\n",
       "    <tr>\n",
       "      <td>1</td>\n",
       "      <td>A person on a horse jumps over a broken down a...</td>\n",
       "      <td>A person is at a diner, ordering an omelette.</td>\n",
       "      <td>1contradiction</td>\n",
       "    </tr>\n",
       "    <tr>\n",
       "      <td>2</td>\n",
       "      <td>A person on a horse jumps over a broken down a...</td>\n",
       "      <td>A person is outdoors, on a horse.</td>\n",
       "      <td>0entailment</td>\n",
       "    </tr>\n",
       "    <tr>\n",
       "      <td>3</td>\n",
       "      <td>Children smiling and waving at camera</td>\n",
       "      <td>They are smiling at their parents</td>\n",
       "      <td>2neutral</td>\n",
       "    </tr>\n",
       "    <tr>\n",
       "      <td>4</td>\n",
       "      <td>Children smiling and waving at camera</td>\n",
       "      <td>There are children present</td>\n",
       "      <td>0entailment</td>\n",
       "    </tr>\n",
       "  </tbody>\n",
       "</table>\n",
       "</div>"
      ],
      "text/plain": [
       "                                             premise  \\\n",
       "0  A person on a horse jumps over a broken down a...   \n",
       "1  A person on a horse jumps over a broken down a...   \n",
       "2  A person on a horse jumps over a broken down a...   \n",
       "3              Children smiling and waving at camera   \n",
       "4              Children smiling and waving at camera   \n",
       "\n",
       "                                          hypothesis          target  \n",
       "0  A person is training his horse for a competition.        2neutral  \n",
       "1      A person is at a diner, ordering an omelette.  1contradiction  \n",
       "2                  A person is outdoors, on a horse.     0entailment  \n",
       "3                  They are smiling at their parents        2neutral  \n",
       "4                         There are children present     0entailment  "
      ]
     },
     "execution_count": 45,
     "metadata": {},
     "output_type": "execute_result"
    }
   ],
   "source": [
    "train_tidy.head()"
   ]
  },
  {
   "cell_type": "code",
   "execution_count": 46,
   "metadata": {
    "colab": {
     "base_uri": "https://localhost:8080/",
     "height": 204
    },
    "id": "JqyYnoEl1oik",
    "outputId": "a3afe14d-35b6-49cc-9cb7-b7e01968d121"
   },
   "outputs": [
    {
     "data": {
      "text/html": [
       "<div>\n",
       "<style scoped>\n",
       "    .dataframe tbody tr th:only-of-type {\n",
       "        vertical-align: middle;\n",
       "    }\n",
       "\n",
       "    .dataframe tbody tr th {\n",
       "        vertical-align: top;\n",
       "    }\n",
       "\n",
       "    .dataframe thead th {\n",
       "        text-align: right;\n",
       "    }\n",
       "</style>\n",
       "<table border=\"1\" class=\"dataframe\">\n",
       "  <thead>\n",
       "    <tr style=\"text-align: right;\">\n",
       "      <th></th>\n",
       "      <th>premise</th>\n",
       "      <th>hypothesis</th>\n",
       "      <th>target</th>\n",
       "    </tr>\n",
       "  </thead>\n",
       "  <tbody>\n",
       "    <tr>\n",
       "      <td>0</td>\n",
       "      <td>This church choir sings to the masses as they ...</td>\n",
       "      <td>The church has cracks in the ceiling.</td>\n",
       "      <td>2neutral</td>\n",
       "    </tr>\n",
       "    <tr>\n",
       "      <td>1</td>\n",
       "      <td>This church choir sings to the masses as they ...</td>\n",
       "      <td>The church is filled with song.</td>\n",
       "      <td>0entailment</td>\n",
       "    </tr>\n",
       "    <tr>\n",
       "      <td>2</td>\n",
       "      <td>This church choir sings to the masses as they ...</td>\n",
       "      <td>A choir singing at a baseball game.</td>\n",
       "      <td>1contradiction</td>\n",
       "    </tr>\n",
       "    <tr>\n",
       "      <td>3</td>\n",
       "      <td>A woman with a green headscarf, blue shirt and...</td>\n",
       "      <td>The woman is young.</td>\n",
       "      <td>2neutral</td>\n",
       "    </tr>\n",
       "    <tr>\n",
       "      <td>4</td>\n",
       "      <td>A woman with a green headscarf, blue shirt and...</td>\n",
       "      <td>The woman is very happy.</td>\n",
       "      <td>0entailment</td>\n",
       "    </tr>\n",
       "  </tbody>\n",
       "</table>\n",
       "</div>"
      ],
      "text/plain": [
       "                                             premise  \\\n",
       "0  This church choir sings to the masses as they ...   \n",
       "1  This church choir sings to the masses as they ...   \n",
       "2  This church choir sings to the masses as they ...   \n",
       "3  A woman with a green headscarf, blue shirt and...   \n",
       "4  A woman with a green headscarf, blue shirt and...   \n",
       "\n",
       "                              hypothesis          target  \n",
       "0  The church has cracks in the ceiling.        2neutral  \n",
       "1        The church is filled with song.     0entailment  \n",
       "2    A choir singing at a baseball game.  1contradiction  \n",
       "3                    The woman is young.        2neutral  \n",
       "4               The woman is very happy.     0entailment  "
      ]
     },
     "execution_count": 46,
     "metadata": {},
     "output_type": "execute_result"
    }
   ],
   "source": [
    "\n",
    "test_tidy.head()\n"
   ]
  },
  {
   "cell_type": "code",
   "execution_count": 47,
   "metadata": {
    "colab": {
     "base_uri": "https://localhost:8080/",
     "height": 204
    },
    "id": "T1LPvvag1oo0",
    "outputId": "4c2ad1f9-4af6-456e-b06c-cbe877f57624"
   },
   "outputs": [
    {
     "data": {
      "text/html": [
       "<div>\n",
       "<style scoped>\n",
       "    .dataframe tbody tr th:only-of-type {\n",
       "        vertical-align: middle;\n",
       "    }\n",
       "\n",
       "    .dataframe tbody tr th {\n",
       "        vertical-align: top;\n",
       "    }\n",
       "\n",
       "    .dataframe thead th {\n",
       "        text-align: right;\n",
       "    }\n",
       "</style>\n",
       "<table border=\"1\" class=\"dataframe\">\n",
       "  <thead>\n",
       "    <tr style=\"text-align: right;\">\n",
       "      <th></th>\n",
       "      <th>premise</th>\n",
       "      <th>hypothesis</th>\n",
       "      <th>target</th>\n",
       "    </tr>\n",
       "  </thead>\n",
       "  <tbody>\n",
       "    <tr>\n",
       "      <td>0</td>\n",
       "      <td>Two women are embracing while holding to go pa...</td>\n",
       "      <td>The sisters are hugging goodbye while holding ...</td>\n",
       "      <td>2neutral</td>\n",
       "    </tr>\n",
       "    <tr>\n",
       "      <td>1</td>\n",
       "      <td>Two women are embracing while holding to go pa...</td>\n",
       "      <td>Two woman are holding packages.</td>\n",
       "      <td>0entailment</td>\n",
       "    </tr>\n",
       "    <tr>\n",
       "      <td>2</td>\n",
       "      <td>Two women are embracing while holding to go pa...</td>\n",
       "      <td>The men are fighting outside a deli.</td>\n",
       "      <td>1contradiction</td>\n",
       "    </tr>\n",
       "    <tr>\n",
       "      <td>3</td>\n",
       "      <td>Two young children in blue jerseys, one with t...</td>\n",
       "      <td>Two kids in numbered jerseys wash their hands.</td>\n",
       "      <td>0entailment</td>\n",
       "    </tr>\n",
       "    <tr>\n",
       "      <td>4</td>\n",
       "      <td>Two young children in blue jerseys, one with t...</td>\n",
       "      <td>Two kids at a ballgame wash their hands.</td>\n",
       "      <td>2neutral</td>\n",
       "    </tr>\n",
       "  </tbody>\n",
       "</table>\n",
       "</div>"
      ],
      "text/plain": [
       "                                             premise  \\\n",
       "0  Two women are embracing while holding to go pa...   \n",
       "1  Two women are embracing while holding to go pa...   \n",
       "2  Two women are embracing while holding to go pa...   \n",
       "3  Two young children in blue jerseys, one with t...   \n",
       "4  Two young children in blue jerseys, one with t...   \n",
       "\n",
       "                                          hypothesis          target  \n",
       "0  The sisters are hugging goodbye while holding ...        2neutral  \n",
       "1                    Two woman are holding packages.     0entailment  \n",
       "2               The men are fighting outside a deli.  1contradiction  \n",
       "3     Two kids in numbered jerseys wash their hands.     0entailment  \n",
       "4           Two kids at a ballgame wash their hands.        2neutral  "
      ]
     },
     "execution_count": 47,
     "metadata": {},
     "output_type": "execute_result"
    }
   ],
   "source": [
    "val_tidy.head()"
   ]
  },
  {
   "cell_type": "code",
   "execution_count": 48,
   "metadata": {
    "id": "reoSHnEH1orq"
   },
   "outputs": [],
   "source": [
    "from nltk.corpus import stopwords\n",
    "\n",
    "stop_words_ = set(stopwords.words('english'))\n",
    "wn = WordNetLemmatizer()\n",
    " "
   ]
  },
  {
   "cell_type": "code",
   "execution_count": null,
   "metadata": {
    "id": "eMSNLp-gLwoI"
   },
   "outputs": [],
   "source": []
  },
  {
   "cell_type": "code",
   "execution_count": 49,
   "metadata": {
    "colab": {
     "base_uri": "https://localhost:8080/",
     "height": 142
    },
    "id": "XaTid-05LwrC",
    "outputId": "0395e4b2-9bbd-450a-bcf8-735684306632"
   },
   "outputs": [
    {
     "data": {
      "text/html": [
       "<div>\n",
       "<style scoped>\n",
       "    .dataframe tbody tr th:only-of-type {\n",
       "        vertical-align: middle;\n",
       "    }\n",
       "\n",
       "    .dataframe tbody tr th {\n",
       "        vertical-align: top;\n",
       "    }\n",
       "\n",
       "    .dataframe thead th {\n",
       "        text-align: right;\n",
       "    }\n",
       "</style>\n",
       "<table border=\"1\" class=\"dataframe\">\n",
       "  <thead>\n",
       "    <tr style=\"text-align: right;\">\n",
       "      <th></th>\n",
       "      <th>premise</th>\n",
       "      <th>hypothesis</th>\n",
       "      <th>target</th>\n",
       "      <th>len</th>\n",
       "    </tr>\n",
       "  </thead>\n",
       "  <tbody>\n",
       "    <tr>\n",
       "      <td>0</td>\n",
       "      <td>A person on a horse jumps over a broken down a...</td>\n",
       "      <td>A person is training his horse for a competition.</td>\n",
       "      <td>2neutral</td>\n",
       "      <td>0.818182</td>\n",
       "    </tr>\n",
       "    <tr>\n",
       "      <td>1</td>\n",
       "      <td>A person on a horse jumps over a broken down a...</td>\n",
       "      <td>A person is at a diner, ordering an omelette.</td>\n",
       "      <td>1contradiction</td>\n",
       "      <td>0.818182</td>\n",
       "    </tr>\n",
       "    <tr>\n",
       "      <td>2</td>\n",
       "      <td>A person on a horse jumps over a broken down a...</td>\n",
       "      <td>A person is outdoors, on a horse.</td>\n",
       "      <td>0entailment</td>\n",
       "      <td>0.818182</td>\n",
       "    </tr>\n",
       "  </tbody>\n",
       "</table>\n",
       "</div>"
      ],
      "text/plain": [
       "                                             premise  \\\n",
       "0  A person on a horse jumps over a broken down a...   \n",
       "1  A person on a horse jumps over a broken down a...   \n",
       "2  A person on a horse jumps over a broken down a...   \n",
       "\n",
       "                                          hypothesis          target       len  \n",
       "0  A person is training his horse for a competition.        2neutral  0.818182  \n",
       "1      A person is at a diner, ordering an omelette.  1contradiction  0.818182  \n",
       "2                  A person is outdoors, on a horse.     0entailment  0.818182  "
      ]
     },
     "execution_count": 49,
     "metadata": {},
     "output_type": "execute_result"
    }
   ],
   "source": [
    "train_tidy['len'] = train_tidy['premise'].apply(len_text)\n",
    "train_tidy.head(3)"
   ]
  },
  {
   "cell_type": "code",
   "execution_count": 50,
   "metadata": {
    "colab": {
     "base_uri": "https://localhost:8080/",
     "height": 111
    },
    "id": "Rt_huBGjtGZJ",
    "outputId": "a96d2121-7ab1-427d-f8dd-0dc05f0bde73"
   },
   "outputs": [
    {
     "data": {
      "text/html": [
       "<div>\n",
       "<style scoped>\n",
       "    .dataframe tbody tr th:only-of-type {\n",
       "        vertical-align: middle;\n",
       "    }\n",
       "\n",
       "    .dataframe tbody tr th {\n",
       "        vertical-align: top;\n",
       "    }\n",
       "\n",
       "    .dataframe thead th {\n",
       "        text-align: right;\n",
       "    }\n",
       "</style>\n",
       "<table border=\"1\" class=\"dataframe\">\n",
       "  <thead>\n",
       "    <tr style=\"text-align: right;\">\n",
       "      <th></th>\n",
       "      <th>premise</th>\n",
       "      <th>hypothesis</th>\n",
       "      <th>target</th>\n",
       "      <th>len</th>\n",
       "    </tr>\n",
       "  </thead>\n",
       "  <tbody>\n",
       "    <tr>\n",
       "      <td>0</td>\n",
       "      <td>This church choir sings to the masses as they ...</td>\n",
       "      <td>The church has cracks in the ceiling.</td>\n",
       "      <td>2neutral</td>\n",
       "      <td>0.833333</td>\n",
       "    </tr>\n",
       "    <tr>\n",
       "      <td>1</td>\n",
       "      <td>This church choir sings to the masses as they ...</td>\n",
       "      <td>The church is filled with song.</td>\n",
       "      <td>0entailment</td>\n",
       "      <td>0.833333</td>\n",
       "    </tr>\n",
       "  </tbody>\n",
       "</table>\n",
       "</div>"
      ],
      "text/plain": [
       "                                             premise  \\\n",
       "0  This church choir sings to the masses as they ...   \n",
       "1  This church choir sings to the masses as they ...   \n",
       "\n",
       "                              hypothesis       target       len  \n",
       "0  The church has cracks in the ceiling.     2neutral  0.833333  \n",
       "1        The church is filled with song.  0entailment  0.833333  "
      ]
     },
     "execution_count": 50,
     "metadata": {},
     "output_type": "execute_result"
    }
   ],
   "source": [
    "test_tidy['len'] = test_tidy['premise'].apply(len_text)\n",
    "test_tidy.head(2)"
   ]
  },
  {
   "cell_type": "code",
   "execution_count": 51,
   "metadata": {
    "colab": {
     "base_uri": "https://localhost:8080/",
     "height": 111
    },
    "id": "mEKbXuD3Lwts",
    "outputId": "6bf9489e-9734-428e-ef80-17cf2628185d"
   },
   "outputs": [
    {
     "data": {
      "text/html": [
       "<div>\n",
       "<style scoped>\n",
       "    .dataframe tbody tr th:only-of-type {\n",
       "        vertical-align: middle;\n",
       "    }\n",
       "\n",
       "    .dataframe tbody tr th {\n",
       "        vertical-align: top;\n",
       "    }\n",
       "\n",
       "    .dataframe thead th {\n",
       "        text-align: right;\n",
       "    }\n",
       "</style>\n",
       "<table border=\"1\" class=\"dataframe\">\n",
       "  <thead>\n",
       "    <tr style=\"text-align: right;\">\n",
       "      <th></th>\n",
       "      <th>premise</th>\n",
       "      <th>hypothesis</th>\n",
       "      <th>target</th>\n",
       "      <th>len</th>\n",
       "    </tr>\n",
       "  </thead>\n",
       "  <tbody>\n",
       "    <tr>\n",
       "      <td>0</td>\n",
       "      <td>Two women are embracing while holding to go pa...</td>\n",
       "      <td>The sisters are hugging goodbye while holding ...</td>\n",
       "      <td>2neutral</td>\n",
       "      <td>1.0</td>\n",
       "    </tr>\n",
       "    <tr>\n",
       "      <td>1</td>\n",
       "      <td>Two women are embracing while holding to go pa...</td>\n",
       "      <td>Two woman are holding packages.</td>\n",
       "      <td>0entailment</td>\n",
       "      <td>1.0</td>\n",
       "    </tr>\n",
       "  </tbody>\n",
       "</table>\n",
       "</div>"
      ],
      "text/plain": [
       "                                             premise  \\\n",
       "0  Two women are embracing while holding to go pa...   \n",
       "1  Two women are embracing while holding to go pa...   \n",
       "\n",
       "                                          hypothesis       target  len  \n",
       "0  The sisters are hugging goodbye while holding ...     2neutral  1.0  \n",
       "1                    Two woman are holding packages.  0entailment  1.0  "
      ]
     },
     "execution_count": 51,
     "metadata": {},
     "output_type": "execute_result"
    }
   ],
   "source": [
    "val_tidy['len'] = val_tidy['premise'].apply(len_text)\n",
    "val_tidy.head(2)"
   ]
  },
  {
   "cell_type": "code",
   "execution_count": null,
   "metadata": {
    "id": "bV3F5WH3Lwwh"
   },
   "outputs": [],
   "source": []
  },
  {
   "cell_type": "code",
   "execution_count": null,
   "metadata": {
    "id": "ILomFEcqLw55"
   },
   "outputs": [],
   "source": []
  },
  {
   "cell_type": "code",
   "execution_count": 54,
   "metadata": {
    "id": "7SuhLwB-t9Py"
   },
   "outputs": [],
   "source": [
    "\n",
    "X_train = train_tidy[['premise','hypothesis', 'len']]\n",
    "y_train =train_tidy['target']\n",
    "encoder = LabelEncoder()\n",
    "y_train = encoder.fit_transform(y_train)\n",
    "\n",
    "\n",
    "X_test = test_tidy[['premise','hypothesis', 'len']]\n",
    "y_test = test_tidy['target']\n",
    "encoder_test = LabelEncoder()\n",
    "y_test = encoder_test.fit_transform(y_test)\n",
    "inverted_test = encoder_test.inverse_transform(y_test)  \n",
    "\n",
    "\n",
    "\n",
    "X_val = val_tidy[['premise','hypothesis', 'len']]\n",
    "y_val = val_tidy['target']\n",
    "encoder_test = LabelEncoder()\n",
    "y_val = encoder_test.fit_transform(y_val)\n",
    "\n",
    "\n",
    "\n"
   ]
  },
  {
   "cell_type": "code",
   "execution_count": 55,
   "metadata": {
    "colab": {
     "base_uri": "https://localhost:8080/"
    },
    "id": "ydE4PZXWt9Sw",
    "outputId": "b96631b5-ef8a-4c9c-c172-58bc4e7f9f1b"
   },
   "outputs": [
    {
     "data": {
      "text/plain": [
       "array(['2neutral', '0entailment', '1contradiction', ..., '1contradiction',\n",
       "       '0entailment', '2neutral'], dtype=object)"
      ]
     },
     "execution_count": 55,
     "metadata": {},
     "output_type": "execute_result"
    }
   ],
   "source": [
    "inverted_test"
   ]
  },
  {
   "cell_type": "code",
   "execution_count": 56,
   "metadata": {},
   "outputs": [
    {
     "data": {
      "text/plain": [
       "array([2, 0, 1, ..., 1, 0, 2])"
      ]
     },
     "execution_count": 56,
     "metadata": {},
     "output_type": "execute_result"
    }
   ],
   "source": [
    "y_test"
   ]
  },
  {
   "cell_type": "code",
   "execution_count": 57,
   "metadata": {
    "colab": {
     "base_uri": "https://localhost:8080/",
     "height": 419
    },
    "id": "wmpUES1Mt9Vq",
    "outputId": "c33372f2-5022-4df4-9a7b-53b9f41be429"
   },
   "outputs": [
    {
     "data": {
      "text/html": [
       "<div>\n",
       "<style scoped>\n",
       "    .dataframe tbody tr th:only-of-type {\n",
       "        vertical-align: middle;\n",
       "    }\n",
       "\n",
       "    .dataframe tbody tr th {\n",
       "        vertical-align: top;\n",
       "    }\n",
       "\n",
       "    .dataframe thead th {\n",
       "        text-align: right;\n",
       "    }\n",
       "</style>\n",
       "<table border=\"1\" class=\"dataframe\">\n",
       "  <thead>\n",
       "    <tr style=\"text-align: right;\">\n",
       "      <th></th>\n",
       "      <th>premise</th>\n",
       "      <th>hypothesis</th>\n",
       "      <th>len</th>\n",
       "    </tr>\n",
       "  </thead>\n",
       "  <tbody>\n",
       "    <tr>\n",
       "      <td>0</td>\n",
       "      <td>A person on a horse jumps over a broken down a...</td>\n",
       "      <td>A person is training his horse for a competition.</td>\n",
       "      <td>0.818182</td>\n",
       "    </tr>\n",
       "    <tr>\n",
       "      <td>1</td>\n",
       "      <td>A person on a horse jumps over a broken down a...</td>\n",
       "      <td>A person is at a diner, ordering an omelette.</td>\n",
       "      <td>0.818182</td>\n",
       "    </tr>\n",
       "    <tr>\n",
       "      <td>2</td>\n",
       "      <td>A person on a horse jumps over a broken down a...</td>\n",
       "      <td>A person is outdoors, on a horse.</td>\n",
       "      <td>0.818182</td>\n",
       "    </tr>\n",
       "    <tr>\n",
       "      <td>3</td>\n",
       "      <td>Children smiling and waving at camera</td>\n",
       "      <td>They are smiling at their parents</td>\n",
       "      <td>1.000000</td>\n",
       "    </tr>\n",
       "    <tr>\n",
       "      <td>4</td>\n",
       "      <td>Children smiling and waving at camera</td>\n",
       "      <td>There are children present</td>\n",
       "      <td>1.000000</td>\n",
       "    </tr>\n",
       "    <tr>\n",
       "      <td>...</td>\n",
       "      <td>...</td>\n",
       "      <td>...</td>\n",
       "      <td>...</td>\n",
       "    </tr>\n",
       "    <tr>\n",
       "      <td>349995</td>\n",
       "      <td>A man in a suit sits alone at a table within a...</td>\n",
       "      <td>A man is eating alone at a restaurant.</td>\n",
       "      <td>0.769231</td>\n",
       "    </tr>\n",
       "    <tr>\n",
       "      <td>349996</td>\n",
       "      <td>A man in a suit sits alone at a table within a...</td>\n",
       "      <td>The man sits at a table.</td>\n",
       "      <td>0.769231</td>\n",
       "    </tr>\n",
       "    <tr>\n",
       "      <td>349997</td>\n",
       "      <td>A man in a suit sits alone at a table within a...</td>\n",
       "      <td>A man sits alone on the grass.</td>\n",
       "      <td>0.769231</td>\n",
       "    </tr>\n",
       "    <tr>\n",
       "      <td>349998</td>\n",
       "      <td>Two couples stop to take a photo.</td>\n",
       "      <td>Two couples on vacation take a photo by a scen...</td>\n",
       "      <td>1.000000</td>\n",
       "    </tr>\n",
       "    <tr>\n",
       "      <td>349999</td>\n",
       "      <td>Two couples stop to take a photo.</td>\n",
       "      <td>One man breaks a camera on the sidewalk</td>\n",
       "      <td>1.000000</td>\n",
       "    </tr>\n",
       "  </tbody>\n",
       "</table>\n",
       "<p>349548 rows × 3 columns</p>\n",
       "</div>"
      ],
      "text/plain": [
       "                                                  premise  \\\n",
       "0       A person on a horse jumps over a broken down a...   \n",
       "1       A person on a horse jumps over a broken down a...   \n",
       "2       A person on a horse jumps over a broken down a...   \n",
       "3                   Children smiling and waving at camera   \n",
       "4                   Children smiling and waving at camera   \n",
       "...                                                   ...   \n",
       "349995  A man in a suit sits alone at a table within a...   \n",
       "349996  A man in a suit sits alone at a table within a...   \n",
       "349997  A man in a suit sits alone at a table within a...   \n",
       "349998                  Two couples stop to take a photo.   \n",
       "349999                  Two couples stop to take a photo.   \n",
       "\n",
       "                                               hypothesis       len  \n",
       "0       A person is training his horse for a competition.  0.818182  \n",
       "1           A person is at a diner, ordering an omelette.  0.818182  \n",
       "2                       A person is outdoors, on a horse.  0.818182  \n",
       "3                       They are smiling at their parents  1.000000  \n",
       "4                              There are children present  1.000000  \n",
       "...                                                   ...       ...  \n",
       "349995             A man is eating alone at a restaurant.  0.769231  \n",
       "349996                           The man sits at a table.  0.769231  \n",
       "349997                     A man sits alone on the grass.  0.769231  \n",
       "349998  Two couples on vacation take a photo by a scen...  1.000000  \n",
       "349999            One man breaks a camera on the sidewalk  1.000000  \n",
       "\n",
       "[349548 rows x 3 columns]"
      ]
     },
     "execution_count": 57,
     "metadata": {},
     "output_type": "execute_result"
    }
   ],
   "source": [
    "X_train"
   ]
  },
  {
   "cell_type": "code",
   "execution_count": 58,
   "metadata": {
    "colab": {
     "base_uri": "https://localhost:8080/"
    },
    "id": "TXoRDOcst9ZP",
    "outputId": "524315ae-3f5b-46c6-c533-a2c586b09f27"
   },
   "outputs": [
    {
     "data": {
      "text/plain": [
       "array([2, 1, 0, ..., 1, 2, 1])"
      ]
     },
     "execution_count": 58,
     "metadata": {},
     "output_type": "execute_result"
    }
   ],
   "source": [
    "y_train"
   ]
  },
  {
   "cell_type": "code",
   "execution_count": 59,
   "metadata": {
    "colab": {
     "base_uri": "https://localhost:8080/",
     "height": 419
    },
    "id": "NMfOX_DSt9cC",
    "outputId": "e80d74ab-aa72-4ec7-c599-2604aa83c566"
   },
   "outputs": [
    {
     "data": {
      "text/html": [
       "<div>\n",
       "<style scoped>\n",
       "    .dataframe tbody tr th:only-of-type {\n",
       "        vertical-align: middle;\n",
       "    }\n",
       "\n",
       "    .dataframe tbody tr th {\n",
       "        vertical-align: top;\n",
       "    }\n",
       "\n",
       "    .dataframe thead th {\n",
       "        text-align: right;\n",
       "    }\n",
       "</style>\n",
       "<table border=\"1\" class=\"dataframe\">\n",
       "  <thead>\n",
       "    <tr style=\"text-align: right;\">\n",
       "      <th></th>\n",
       "      <th>premise</th>\n",
       "      <th>hypothesis</th>\n",
       "      <th>len</th>\n",
       "    </tr>\n",
       "  </thead>\n",
       "  <tbody>\n",
       "    <tr>\n",
       "      <td>0</td>\n",
       "      <td>Two women are embracing while holding to go pa...</td>\n",
       "      <td>The sisters are hugging goodbye while holding ...</td>\n",
       "      <td>1.000000</td>\n",
       "    </tr>\n",
       "    <tr>\n",
       "      <td>1</td>\n",
       "      <td>Two women are embracing while holding to go pa...</td>\n",
       "      <td>Two woman are holding packages.</td>\n",
       "      <td>1.000000</td>\n",
       "    </tr>\n",
       "    <tr>\n",
       "      <td>2</td>\n",
       "      <td>Two women are embracing while holding to go pa...</td>\n",
       "      <td>The men are fighting outside a deli.</td>\n",
       "      <td>1.000000</td>\n",
       "    </tr>\n",
       "    <tr>\n",
       "      <td>3</td>\n",
       "      <td>Two young children in blue jerseys, one with t...</td>\n",
       "      <td>Two kids in numbered jerseys wash their hands.</td>\n",
       "      <td>0.687500</td>\n",
       "    </tr>\n",
       "    <tr>\n",
       "      <td>4</td>\n",
       "      <td>Two young children in blue jerseys, one with t...</td>\n",
       "      <td>Two kids at a ballgame wash their hands.</td>\n",
       "      <td>0.687500</td>\n",
       "    </tr>\n",
       "    <tr>\n",
       "      <td>...</td>\n",
       "      <td>...</td>\n",
       "      <td>...</td>\n",
       "      <td>...</td>\n",
       "    </tr>\n",
       "    <tr>\n",
       "      <td>9994</td>\n",
       "      <td>A small girl wearing a pink jacket is riding o...</td>\n",
       "      <td>The carousel is moving.</td>\n",
       "      <td>0.833333</td>\n",
       "    </tr>\n",
       "    <tr>\n",
       "      <td>9996</td>\n",
       "      <td>A small girl wearing a pink jacket is riding o...</td>\n",
       "      <td>The girl is moving at the speed of light.</td>\n",
       "      <td>0.833333</td>\n",
       "    </tr>\n",
       "    <tr>\n",
       "      <td>9997</td>\n",
       "      <td>A young girl with blue and pink ribbons in her...</td>\n",
       "      <td>People in a water fountain</td>\n",
       "      <td>0.741935</td>\n",
       "    </tr>\n",
       "    <tr>\n",
       "      <td>9998</td>\n",
       "      <td>A young girl with blue and pink ribbons in her...</td>\n",
       "      <td>A young girl knits a sweater</td>\n",
       "      <td>0.741935</td>\n",
       "    </tr>\n",
       "    <tr>\n",
       "      <td>9999</td>\n",
       "      <td>A young girl with blue and pink ribbons in her...</td>\n",
       "      <td>A young mother tries to grab her topless child...</td>\n",
       "      <td>0.741935</td>\n",
       "    </tr>\n",
       "  </tbody>\n",
       "</table>\n",
       "<p>9842 rows × 3 columns</p>\n",
       "</div>"
      ],
      "text/plain": [
       "                                                premise  \\\n",
       "0     Two women are embracing while holding to go pa...   \n",
       "1     Two women are embracing while holding to go pa...   \n",
       "2     Two women are embracing while holding to go pa...   \n",
       "3     Two young children in blue jerseys, one with t...   \n",
       "4     Two young children in blue jerseys, one with t...   \n",
       "...                                                 ...   \n",
       "9994  A small girl wearing a pink jacket is riding o...   \n",
       "9996  A small girl wearing a pink jacket is riding o...   \n",
       "9997  A young girl with blue and pink ribbons in her...   \n",
       "9998  A young girl with blue and pink ribbons in her...   \n",
       "9999  A young girl with blue and pink ribbons in her...   \n",
       "\n",
       "                                             hypothesis       len  \n",
       "0     The sisters are hugging goodbye while holding ...  1.000000  \n",
       "1                       Two woman are holding packages.  1.000000  \n",
       "2                  The men are fighting outside a deli.  1.000000  \n",
       "3        Two kids in numbered jerseys wash their hands.  0.687500  \n",
       "4              Two kids at a ballgame wash their hands.  0.687500  \n",
       "...                                                 ...       ...  \n",
       "9994                            The carousel is moving.  0.833333  \n",
       "9996          The girl is moving at the speed of light.  0.833333  \n",
       "9997                         People in a water fountain  0.741935  \n",
       "9998                       A young girl knits a sweater  0.741935  \n",
       "9999  A young mother tries to grab her topless child...  0.741935  \n",
       "\n",
       "[9842 rows x 3 columns]"
      ]
     },
     "execution_count": 59,
     "metadata": {},
     "output_type": "execute_result"
    }
   ],
   "source": [
    "X_val"
   ]
  },
  {
   "cell_type": "code",
   "execution_count": 30,
   "metadata": {
    "colab": {
     "base_uri": "https://localhost:8080/"
    },
    "id": "1csYw4dAt9e-",
    "outputId": "c43cb1c5-b63f-4b12-cc38-e989c44136c4"
   },
   "outputs": [
    {
     "data": {
      "text/plain": [
       "array([2, 0, 1, ..., 0, 1, 2])"
      ]
     },
     "execution_count": 30,
     "metadata": {},
     "output_type": "execute_result"
    }
   ],
   "source": [
    "y_val"
   ]
  },
  {
   "cell_type": "code",
   "execution_count": 65,
   "metadata": {
    "colab": {
     "base_uri": "https://localhost:8080/"
    },
    "id": "b5PZ-sol0gNw",
    "outputId": "a0da1b0a-9de0-4ba7-9204-e2202fad5b6e"
   },
   "outputs": [
    {
     "name": "stdout",
     "output_type": "stream",
     "text": [
      "Wall time: 3min 27s\n"
     ]
    },
    {
     "data": {
      "text/plain": [
       "Pipeline(steps=[('union',\n",
       "                 FeatureUnion(transformer_list=[('premise',\n",
       "                                                 Pipeline(steps=[('selector',\n",
       "                                                                  ItemSelector(key='premise')),\n",
       "                                                                 ('tfidf',\n",
       "                                                                  TfidfVectorizer(max_df=0.2,\n",
       "                                                                                  min_df=3,\n",
       "                                                                                  ngram_range=(1,\n",
       "                                                                                               10),\n",
       "                                                                                  preprocessor=<function clean_txt at 0x00000180E806D798>,\n",
       "                                                                                  smooth_idf=1,\n",
       "                                                                                  strip_accents='unicode',\n",
       "                                                                                  sublinear_tf=1,\n",
       "                                                                                  token_pattern='\\\\w{1,}',\n",
       "                                                                                  use_idf=1))])),\n",
       "                                                ('hypothesis',\n",
       "                                                 Pipe...\n",
       "                                                                                  ngram_range=(1,\n",
       "                                                                                               10),\n",
       "                                                                                  preprocessor=<function clean_txt at 0x00000180E806D798>,\n",
       "                                                                                  smooth_idf=1,\n",
       "                                                                                  strip_accents='unicode',\n",
       "                                                                                  sublinear_tf=1,\n",
       "                                                                                  token_pattern='\\\\w{1,}',\n",
       "                                                                                  use_idf=1))])),\n",
       "                                                ('metadata',\n",
       "                                                 Pipeline(steps=[('selector',\n",
       "                                                                  ItemSelector(key=['len'])),\n",
       "                                                                 ('metadata',\n",
       "                                                                  Textmetadata()),\n",
       "                                                                 ('vect',\n",
       "                                                                  DictVectorizer())]))],\n",
       "                              transformer_weights={'hypothesis': 0.5,\n",
       "                                                   'metadata': 0.0,\n",
       "                                                   'premise': 0.5}))])"
      ]
     },
     "execution_count": 65,
     "metadata": {},
     "output_type": "execute_result"
    }
   ],
   "source": [
    "%%time\n",
    "pipeline.fit(X_train)"
   ]
  },
  {
   "cell_type": "code",
   "execution_count": 66,
   "metadata": {
    "colab": {
     "base_uri": "https://localhost:8080/"
    },
    "id": "8jepUpgiuvzF",
    "outputId": "1192b8f8-d1d3-409b-d35a-acabf3fb9a3e"
   },
   "outputs": [
    {
     "name": "stdout",
     "output_type": "stream",
     "text": [
      "Checking that the number of features in train and test correspond: (349548, 4545260) - (9824, 4545260)\n",
      "Wall time: 4min 26s\n"
     ]
    },
    {
     "data": {
      "text/plain": [
       "['SVM_0_0_alldata.pipeline']"
      ]
     },
     "execution_count": 66,
     "metadata": {},
     "output_type": "execute_result"
    }
   ],
   "source": [
    "%%time\n",
    "train_vec = pipeline.transform(X_train)\n",
    "test_vec = pipeline.transform(X_test) \n",
    "val_vec = pipeline.transform(X_val) \n",
    "\n",
    "print(\"Checking that the number of features in train and test correspond: %s - %s\" % (train_vec.shape, test_vec.shape))\n",
    "\n",
    "joblib.dump(pipeline, 'SVM_0_0_alldata.pipeline')"
   ]
  },
  {
   "cell_type": "code",
   "execution_count": 67,
   "metadata": {
    "id": "ESWNQC5JuwSx"
   },
   "outputs": [],
   "source": [
    "clf_sv = LinearSVC(C=1, class_weight='balanced', multi_class='ovr', random_state=40, max_iter=10000,dual = True) #Support Vector machines\n"
   ]
  },
  {
   "cell_type": "code",
   "execution_count": 68,
   "metadata": {
    "colab": {
     "base_uri": "https://localhost:8080/"
    },
    "id": "VoSlrqg6uwWD",
    "outputId": "221e22e5-40fc-47ce-d05f-014483eead32"
   },
   "outputs": [
    {
     "name": "stdout",
     "output_type": "stream",
     "text": [
      "\u001b[34m\n",
      " Scores for: LinearSVC(C=1, class_weight='balanced', max_iter=10000, random_state=40)\u001b[0m\n",
      "[0.66249464 0.66737234 0.66678587 0.66520763 0.66656654]\n",
      "Training Accuracy Mean score: 0.666 (+/-0.002)\n",
      "Wall time: 2min 23s\n"
     ]
    }
   ],
   "source": [
    "%%time\n",
    "from sklearn.model_selection import cross_val_score\n",
    "\n",
    "clfs = [clf_sv]\n",
    "cv = 5\n",
    "for clf in clfs:\n",
    "    scores = cross_val_score(clf,train_vec, y_train, cv=cv, scoring=\"accuracy\" )\n",
    "    print(colored('\\n Scores for: %s' % (clf),'blue')) \n",
    "    print (scores)\n",
    "    print ((\"Training Accuracy Mean score: {0:.3f} (+/-{1:.3f})\").format(\n",
    "        np.mean(scores), np.std(scores)))"
   ]
  },
  {
   "cell_type": "code",
   "execution_count": 73,
   "metadata": {
    "colab": {
     "base_uri": "https://localhost:8080/"
    },
    "id": "Z4Qy8J5kuwZz",
    "outputId": "c6cf1675-e76d-46cc-a068-3dfd55efa5fe"
   },
   "outputs": [
    {
     "name": "stdout",
     "output_type": "stream",
     "text": [
      "Wall time: 36.4 s\n"
     ]
    }
   ],
   "source": [
    "%%time\n",
    "from sklearn.metrics import classification_report\n",
    "clf_sv.fit(train_vec, y_train)\n",
    "y_pred = clf_sv.predict(test_vec)\n",
    "list_result =[]\n",
    "classes = ['entailment','contradiction','neutral']\n",
    "list_result.append((\"SVC\",accuracy_score(y_test, y_pred)))\n",
    "\n"
   ]
  },
  {
   "cell_type": "code",
   "execution_count": 75,
   "metadata": {},
   "outputs": [
    {
     "name": "stdout",
     "output_type": "stream",
     "text": [
      "               precision    recall  f1-score   support\n",
      "\n",
      "   entailment       0.70      0.67      0.68      3368\n",
      "contradiction       0.67      0.66      0.66      3237\n",
      "      neutral       0.65      0.70      0.67      3219\n",
      "\n",
      "     accuracy                           0.67      9824\n",
      "    macro avg       0.67      0.67      0.67      9824\n",
      " weighted avg       0.67      0.67      0.67      9824\n",
      "\n"
     ]
    }
   ],
   "source": [
    "print(classification_report(y_test, y_pred,target_names =classes))"
   ]
  },
  {
   "cell_type": "code",
   "execution_count": 155,
   "metadata": {
    "colab": {
     "base_uri": "https://localhost:8080/"
    },
    "id": "tJt8GhaG0vL3",
    "outputId": "38dd20b5-dea9-4677-9133-0b513623410f"
   },
   "outputs": [
    {
     "data": {
      "text/plain": [
       "9824"
      ]
     },
     "execution_count": 155,
     "metadata": {},
     "output_type": "execute_result"
    }
   ],
   "source": [
    "# for debugging\n",
    "len(y_test)\n",
    "len(y_pred)\n",
    "test_vec.shape[0]"
   ]
  },
  {
   "cell_type": "code",
   "execution_count": 156,
   "metadata": {
    "colab": {
     "base_uri": "https://localhost:8080/"
    },
    "id": "mZqYcndW0yb2",
    "outputId": "3d863b5a-d8cc-433c-90a1-2ff03cb30afa"
   },
   "outputs": [
    {
     "data": {
      "text/plain": [
       "[('SVC', 0.6728420195439739)]"
      ]
     },
     "execution_count": 156,
     "metadata": {},
     "output_type": "execute_result"
    }
   ],
   "source": [
    "list_result"
   ]
  },
  {
   "cell_type": "code",
   "execution_count": null,
   "metadata": {},
   "outputs": [],
   "source": []
  },
  {
   "cell_type": "markdown",
   "metadata": {
    "id": "E8eB3AxfMCGo"
   },
   "source": [
    "## Tuning with val set \n"
   ]
  },
  {
   "cell_type": "markdown",
   "metadata": {},
   "source": [
    "- Four trials with various values of 'C' has been tried out and the value of C providing the best results can be seen in best_estimator_\n",
    "- All results saved as a list"
   ]
  },
  {
   "cell_type": "markdown",
   "metadata": {},
   "source": [
    "#  **First trial** **"
   ]
  },
  {
   "cell_type": "code",
   "execution_count": null,
   "metadata": {},
   "outputs": [],
   "source": []
  },
  {
   "cell_type": "code",
   "execution_count": 253,
   "metadata": {
    "colab": {
     "base_uri": "https://localhost:8080/"
    },
    "id": "0AUmxbsRAFSI",
    "outputId": "1026c080-ede6-417c-8359-932df1a4048b"
   },
   "outputs": [
    {
     "name": "stdout",
     "output_type": "stream",
     "text": [
      "Wall time: 57.1 s\n"
     ]
    },
    {
     "data": {
      "text/plain": [
       "GridSearchCV(cv=5, estimator=LinearSVC(),\n",
       "             param_grid={'C': [0.01, 0.1, 10, 100]})"
      ]
     },
     "execution_count": 253,
     "metadata": {},
     "output_type": "execute_result"
    }
   ],
   "source": [
    "%%time\n",
    "\n",
    "\n",
    "# tune SVC  \n",
    "\n",
    "from sklearn.model_selection import GridSearchCV\n",
    "\n",
    "# max_iter=1000 in LinearSVC()\n",
    "\n",
    "param_grid = {'C': [0.01,0.1,10,100]}\n",
    "\n",
    "#0.001, 0.10, 0.1, 10, 25, 50, 100, 1000 - other values\n",
    "\n",
    "clf_gs_C = GridSearchCV(LinearSVC(dual = True),param_grid, cv = 5 ) # cv ,default is 5 \n",
    "\n",
    "#tuning with Valset\n",
    "clf_gs_C.fit(val_vec, y_val)\n",
    "\n"
   ]
  },
  {
   "cell_type": "code",
   "execution_count": 254,
   "metadata": {
    "colab": {
     "base_uri": "https://localhost:8080/"
    },
    "id": "2_nazJygaGa6",
    "outputId": "79a2fe2e-906f-49ab-e173-885a4e6571d6"
   },
   "outputs": [
    {
     "name": "stdout",
     "output_type": "stream",
     "text": [
      "LinearSVC(C=10)\n"
     ]
    }
   ],
   "source": [
    "print(clf_gs_C.best_estimator_)"
   ]
  },
  {
   "cell_type": "code",
   "execution_count": 255,
   "metadata": {
    "colab": {
     "base_uri": "https://localhost:8080/"
    },
    "id": "3gwfGjotaM1g",
    "outputId": "5e9b24e0-80f4-4181-e1b1-afb98ce0ce7e"
   },
   "outputs": [
    {
     "name": "stdout",
     "output_type": "stream",
     "text": [
      "Best score for tuning training data: 0.5743778051670817\n"
     ]
    }
   ],
   "source": [
    "print('Best score for tuning training data:', clf_gs_C.best_score_)"
   ]
  },
  {
   "cell_type": "code",
   "execution_count": 256,
   "metadata": {
    "colab": {
     "base_uri": "https://localhost:8080/"
    },
    "id": "zXF_V1exaWYu",
    "outputId": "43e44f42-0f5b-472b-fa84-db6758117ee4"
   },
   "outputs": [
    {
     "name": "stdout",
     "output_type": "stream",
     "text": [
      "Best `C`: 10\n"
     ]
    }
   ],
   "source": [
    "print('Best `C`:',clf_gs_C.best_estimator_.C)"
   ]
  },
  {
   "cell_type": "code",
   "execution_count": 257,
   "metadata": {
    "id": "7yB82RaOZWl8"
   },
   "outputs": [],
   "source": [
    "#cv_results_\n",
    "\n",
    "Tuning_C_Results = pd.DataFrame(clf_gs_C.cv_results_)"
   ]
  },
  {
   "cell_type": "code",
   "execution_count": 258,
   "metadata": {
    "colab": {
     "base_uri": "https://localhost:8080/",
     "height": 173
    },
    "id": "TfEKyy9WlrIc",
    "outputId": "368d9904-362a-4990-bdf0-894c0650045a"
   },
   "outputs": [
    {
     "data": {
      "text/html": [
       "<div>\n",
       "<style scoped>\n",
       "    .dataframe tbody tr th:only-of-type {\n",
       "        vertical-align: middle;\n",
       "    }\n",
       "\n",
       "    .dataframe tbody tr th {\n",
       "        vertical-align: top;\n",
       "    }\n",
       "\n",
       "    .dataframe thead th {\n",
       "        text-align: right;\n",
       "    }\n",
       "</style>\n",
       "<table border=\"1\" class=\"dataframe\">\n",
       "  <thead>\n",
       "    <tr style=\"text-align: right;\">\n",
       "      <th></th>\n",
       "      <th>mean_fit_time</th>\n",
       "      <th>std_fit_time</th>\n",
       "      <th>mean_score_time</th>\n",
       "      <th>std_score_time</th>\n",
       "      <th>param_C</th>\n",
       "      <th>params</th>\n",
       "      <th>split0_test_score</th>\n",
       "      <th>split1_test_score</th>\n",
       "      <th>split2_test_score</th>\n",
       "      <th>split3_test_score</th>\n",
       "      <th>split4_test_score</th>\n",
       "      <th>mean_test_score</th>\n",
       "      <th>std_test_score</th>\n",
       "      <th>rank_test_score</th>\n",
       "    </tr>\n",
       "  </thead>\n",
       "  <tbody>\n",
       "    <tr>\n",
       "      <td>0</td>\n",
       "      <td>0.179348</td>\n",
       "      <td>0.007154</td>\n",
       "      <td>0.001996</td>\n",
       "      <td>0.000003</td>\n",
       "      <td>0.01</td>\n",
       "      <td>{'C': 0.01}</td>\n",
       "      <td>0.516506</td>\n",
       "      <td>0.538852</td>\n",
       "      <td>0.535061</td>\n",
       "      <td>0.551829</td>\n",
       "      <td>0.526423</td>\n",
       "      <td>0.533734</td>\n",
       "      <td>0.011880</td>\n",
       "      <td>4</td>\n",
       "    </tr>\n",
       "    <tr>\n",
       "      <td>1</td>\n",
       "      <td>0.225231</td>\n",
       "      <td>0.010097</td>\n",
       "      <td>0.001799</td>\n",
       "      <td>0.000400</td>\n",
       "      <td>0.1</td>\n",
       "      <td>{'C': 0.1}</td>\n",
       "      <td>0.555612</td>\n",
       "      <td>0.563230</td>\n",
       "      <td>0.570630</td>\n",
       "      <td>0.582317</td>\n",
       "      <td>0.553354</td>\n",
       "      <td>0.565029</td>\n",
       "      <td>0.010569</td>\n",
       "      <td>3</td>\n",
       "    </tr>\n",
       "    <tr>\n",
       "      <td>2</td>\n",
       "      <td>2.240325</td>\n",
       "      <td>0.040149</td>\n",
       "      <td>0.001598</td>\n",
       "      <td>0.000489</td>\n",
       "      <td>10</td>\n",
       "      <td>{'C': 10}</td>\n",
       "      <td>0.572372</td>\n",
       "      <td>0.550025</td>\n",
       "      <td>0.581809</td>\n",
       "      <td>0.592988</td>\n",
       "      <td>0.574695</td>\n",
       "      <td>0.574378</td>\n",
       "      <td>0.014133</td>\n",
       "      <td>1</td>\n",
       "    </tr>\n",
       "    <tr>\n",
       "      <td>3</td>\n",
       "      <td>8.117646</td>\n",
       "      <td>0.219361</td>\n",
       "      <td>0.002003</td>\n",
       "      <td>0.000017</td>\n",
       "      <td>100</td>\n",
       "      <td>{'C': 100}</td>\n",
       "      <td>0.565769</td>\n",
       "      <td>0.544439</td>\n",
       "      <td>0.573171</td>\n",
       "      <td>0.585366</td>\n",
       "      <td>0.567073</td>\n",
       "      <td>0.567164</td>\n",
       "      <td>0.013310</td>\n",
       "      <td>2</td>\n",
       "    </tr>\n",
       "  </tbody>\n",
       "</table>\n",
       "</div>"
      ],
      "text/plain": [
       "   mean_fit_time  std_fit_time  mean_score_time  std_score_time param_C  \\\n",
       "0       0.179348      0.007154         0.001996        0.000003    0.01   \n",
       "1       0.225231      0.010097         0.001799        0.000400     0.1   \n",
       "2       2.240325      0.040149         0.001598        0.000489      10   \n",
       "3       8.117646      0.219361         0.002003        0.000017     100   \n",
       "\n",
       "        params  split0_test_score  split1_test_score  split2_test_score  \\\n",
       "0  {'C': 0.01}           0.516506           0.538852           0.535061   \n",
       "1   {'C': 0.1}           0.555612           0.563230           0.570630   \n",
       "2    {'C': 10}           0.572372           0.550025           0.581809   \n",
       "3   {'C': 100}           0.565769           0.544439           0.573171   \n",
       "\n",
       "   split3_test_score  split4_test_score  mean_test_score  std_test_score  \\\n",
       "0           0.551829           0.526423         0.533734        0.011880   \n",
       "1           0.582317           0.553354         0.565029        0.010569   \n",
       "2           0.592988           0.574695         0.574378        0.014133   \n",
       "3           0.585366           0.567073         0.567164        0.013310   \n",
       "\n",
       "   rank_test_score  \n",
       "0                4  \n",
       "1                3  \n",
       "2                1  \n",
       "3                2  "
      ]
     },
     "execution_count": 258,
     "metadata": {},
     "output_type": "execute_result"
    }
   ],
   "source": [
    "Tuning_C_Results"
   ]
  },
  {
   "cell_type": "code",
   "execution_count": null,
   "metadata": {},
   "outputs": [],
   "source": []
  },
  {
   "cell_type": "markdown",
   "metadata": {
    "id": "UWq4-KBCv42G"
   },
   "source": [
    "#  **Second trial** **"
   ]
  },
  {
   "cell_type": "code",
   "execution_count": 182,
   "metadata": {
    "id": "AvMOz-4el3ln"
   },
   "outputs": [],
   "source": [
    "#Looking at the CV results  best value is between C= 0.1 , try the search with C= 0.18,0.1,1\n"
   ]
  },
  {
   "cell_type": "code",
   "execution_count": 183,
   "metadata": {
    "colab": {
     "base_uri": "https://localhost:8080/"
    },
    "id": "-EbSwMchnAMJ",
    "outputId": "aa343637-13bb-443b-cd0b-aad810fcb204"
   },
   "outputs": [
    {
     "data": {
      "text/plain": [
       "GridSearchCV(cv=5, estimator=LinearSVC(),\n",
       "             param_grid={'C': [0.08, 0.1, 1, 2, 5]})"
      ]
     },
     "execution_count": 183,
     "metadata": {},
     "output_type": "execute_result"
    }
   ],
   "source": [
    "\n",
    "param_grid1 = {'C': [0.08,0.1,1,2,5]}\n",
    "\n",
    "\n",
    "clf_gs_C1 = GridSearchCV(LinearSVC(),param_grid1, cv = 5) # cv ,default is 5 \n",
    "#start = time()\n",
    "\n",
    "clf_gs_C1.fit(val_vec, y_val)\n",
    "\n"
   ]
  },
  {
   "cell_type": "code",
   "execution_count": 184,
   "metadata": {
    "colab": {
     "base_uri": "https://localhost:8080/"
    },
    "id": "yYlcYlyTpJ8N",
    "outputId": "c5ef6358-7051-49e8-c838-f83f7cebeb74"
   },
   "outputs": [
    {
     "name": "stdout",
     "output_type": "stream",
     "text": [
      "LinearSVC(C=1)\n"
     ]
    }
   ],
   "source": [
    "print(clf_gs_C1.best_estimator_)"
   ]
  },
  {
   "cell_type": "code",
   "execution_count": 185,
   "metadata": {
    "colab": {
     "base_uri": "https://localhost:8080/"
    },
    "id": "l9nsMTOdpK-W",
    "outputId": "474a8bcd-f627-4819-ca97-66abb816b6a2"
   },
   "outputs": [
    {
     "name": "stdout",
     "output_type": "stream",
     "text": [
      "Best score for tuning training data: 0.581792839830379\n"
     ]
    }
   ],
   "source": [
    "print('Best score for tuning training data:', clf_gs_C1.best_score_)"
   ]
  },
  {
   "cell_type": "code",
   "execution_count": 186,
   "metadata": {
    "colab": {
     "base_uri": "https://localhost:8080/"
    },
    "id": "GVCEmFLLpLPy",
    "outputId": "cecf1f70-f70a-4b29-bdac-8129815f985c"
   },
   "outputs": [
    {
     "name": "stdout",
     "output_type": "stream",
     "text": [
      "Best `C`: 1\n"
     ]
    }
   ],
   "source": [
    "print('Best `C`:',clf_gs_C1.best_estimator_.C)"
   ]
  },
  {
   "cell_type": "code",
   "execution_count": 187,
   "metadata": {
    "id": "4tCbH8eTph_O"
   },
   "outputs": [],
   "source": [
    "Tuning_C1_Results = pd.DataFrame(clf_gs_C1.cv_results_)"
   ]
  },
  {
   "cell_type": "code",
   "execution_count": 188,
   "metadata": {
    "colab": {
     "base_uri": "https://localhost:8080/",
     "height": 204
    },
    "id": "xaraApSWpVGX",
    "outputId": "3216b8dd-452d-428e-9bdb-f52cc3478eee"
   },
   "outputs": [
    {
     "data": {
      "text/html": [
       "<div>\n",
       "<style scoped>\n",
       "    .dataframe tbody tr th:only-of-type {\n",
       "        vertical-align: middle;\n",
       "    }\n",
       "\n",
       "    .dataframe tbody tr th {\n",
       "        vertical-align: top;\n",
       "    }\n",
       "\n",
       "    .dataframe thead th {\n",
       "        text-align: right;\n",
       "    }\n",
       "</style>\n",
       "<table border=\"1\" class=\"dataframe\">\n",
       "  <thead>\n",
       "    <tr style=\"text-align: right;\">\n",
       "      <th></th>\n",
       "      <th>mean_fit_time</th>\n",
       "      <th>std_fit_time</th>\n",
       "      <th>mean_score_time</th>\n",
       "      <th>std_score_time</th>\n",
       "      <th>param_C</th>\n",
       "      <th>params</th>\n",
       "      <th>split0_test_score</th>\n",
       "      <th>split1_test_score</th>\n",
       "      <th>split2_test_score</th>\n",
       "      <th>split3_test_score</th>\n",
       "      <th>split4_test_score</th>\n",
       "      <th>mean_test_score</th>\n",
       "      <th>std_test_score</th>\n",
       "      <th>rank_test_score</th>\n",
       "    </tr>\n",
       "  </thead>\n",
       "  <tbody>\n",
       "    <tr>\n",
       "      <td>0</td>\n",
       "      <td>0.236255</td>\n",
       "      <td>0.033154</td>\n",
       "      <td>0.001786</td>\n",
       "      <td>0.000396</td>\n",
       "      <td>0.08</td>\n",
       "      <td>{'C': 0.08}</td>\n",
       "      <td>0.551549</td>\n",
       "      <td>0.564754</td>\n",
       "      <td>0.565549</td>\n",
       "      <td>0.579776</td>\n",
       "      <td>0.552337</td>\n",
       "      <td>0.562793</td>\n",
       "      <td>0.010350</td>\n",
       "      <td>5</td>\n",
       "    </tr>\n",
       "    <tr>\n",
       "      <td>1</td>\n",
       "      <td>0.222245</td>\n",
       "      <td>0.016196</td>\n",
       "      <td>0.001994</td>\n",
       "      <td>0.000001</td>\n",
       "      <td>0.1</td>\n",
       "      <td>{'C': 0.1}</td>\n",
       "      <td>0.555612</td>\n",
       "      <td>0.563230</td>\n",
       "      <td>0.570630</td>\n",
       "      <td>0.582317</td>\n",
       "      <td>0.553354</td>\n",
       "      <td>0.565029</td>\n",
       "      <td>0.010569</td>\n",
       "      <td>4</td>\n",
       "    </tr>\n",
       "    <tr>\n",
       "      <td>2</td>\n",
       "      <td>0.418992</td>\n",
       "      <td>0.017206</td>\n",
       "      <td>0.001995</td>\n",
       "      <td>0.000630</td>\n",
       "      <td>1</td>\n",
       "      <td>{'C': 1}</td>\n",
       "      <td>0.583545</td>\n",
       "      <td>0.574911</td>\n",
       "      <td>0.579268</td>\n",
       "      <td>0.596545</td>\n",
       "      <td>0.574695</td>\n",
       "      <td>0.581793</td>\n",
       "      <td>0.008060</td>\n",
       "      <td>1</td>\n",
       "    </tr>\n",
       "    <tr>\n",
       "      <td>3</td>\n",
       "      <td>0.617054</td>\n",
       "      <td>0.015675</td>\n",
       "      <td>0.001397</td>\n",
       "      <td>0.000489</td>\n",
       "      <td>2</td>\n",
       "      <td>{'C': 2}</td>\n",
       "      <td>0.582021</td>\n",
       "      <td>0.569832</td>\n",
       "      <td>0.583333</td>\n",
       "      <td>0.595528</td>\n",
       "      <td>0.577744</td>\n",
       "      <td>0.581692</td>\n",
       "      <td>0.008372</td>\n",
       "      <td>2</td>\n",
       "    </tr>\n",
       "    <tr>\n",
       "      <td>4</td>\n",
       "      <td>1.336438</td>\n",
       "      <td>0.113729</td>\n",
       "      <td>0.001995</td>\n",
       "      <td>0.000630</td>\n",
       "      <td>5</td>\n",
       "      <td>{'C': 5}</td>\n",
       "      <td>0.576943</td>\n",
       "      <td>0.557643</td>\n",
       "      <td>0.584858</td>\n",
       "      <td>0.594512</td>\n",
       "      <td>0.578252</td>\n",
       "      <td>0.578442</td>\n",
       "      <td>0.012118</td>\n",
       "      <td>3</td>\n",
       "    </tr>\n",
       "  </tbody>\n",
       "</table>\n",
       "</div>"
      ],
      "text/plain": [
       "   mean_fit_time  std_fit_time  mean_score_time  std_score_time param_C  \\\n",
       "0       0.236255      0.033154         0.001786        0.000396    0.08   \n",
       "1       0.222245      0.016196         0.001994        0.000001     0.1   \n",
       "2       0.418992      0.017206         0.001995        0.000630       1   \n",
       "3       0.617054      0.015675         0.001397        0.000489       2   \n",
       "4       1.336438      0.113729         0.001995        0.000630       5   \n",
       "\n",
       "        params  split0_test_score  split1_test_score  split2_test_score  \\\n",
       "0  {'C': 0.08}           0.551549           0.564754           0.565549   \n",
       "1   {'C': 0.1}           0.555612           0.563230           0.570630   \n",
       "2     {'C': 1}           0.583545           0.574911           0.579268   \n",
       "3     {'C': 2}           0.582021           0.569832           0.583333   \n",
       "4     {'C': 5}           0.576943           0.557643           0.584858   \n",
       "\n",
       "   split3_test_score  split4_test_score  mean_test_score  std_test_score  \\\n",
       "0           0.579776           0.552337         0.562793        0.010350   \n",
       "1           0.582317           0.553354         0.565029        0.010569   \n",
       "2           0.596545           0.574695         0.581793        0.008060   \n",
       "3           0.595528           0.577744         0.581692        0.008372   \n",
       "4           0.594512           0.578252         0.578442        0.012118   \n",
       "\n",
       "   rank_test_score  \n",
       "0                5  \n",
       "1                4  \n",
       "2                1  \n",
       "3                2  \n",
       "4                3  "
      ]
     },
     "execution_count": 188,
     "metadata": {},
     "output_type": "execute_result"
    }
   ],
   "source": [
    "Tuning_C1_Results"
   ]
  },
  {
   "cell_type": "markdown",
   "metadata": {
    "id": "p-lU1XT-viw_"
   },
   "source": [
    "#  **Third trial ****"
   ]
  },
  {
   "cell_type": "code",
   "execution_count": 189,
   "metadata": {
    "colab": {
     "base_uri": "https://localhost:8080/",
     "height": 231
    },
    "id": "qzQCsHEIvouP",
    "outputId": "0c930483-3c4e-42b0-9717-f8f1175da033"
   },
   "outputs": [
    {
     "data": {
      "text/plain": [
       "GridSearchCV(cv=5, estimator=LinearSVC(), param_grid={'C': [0.2, 0.5, 1.5]})"
      ]
     },
     "execution_count": 189,
     "metadata": {},
     "output_type": "execute_result"
    }
   ],
   "source": [
    "\n",
    "param_grid2 = {'C': [0.2,0.5,1.5]}\n",
    "\n",
    "\n",
    "clf_gs_C2 = GridSearchCV(LinearSVC(),param_grid2, cv = 5) # cv ,default is 5 \n",
    "#start = time()\n",
    "\n",
    "clf_gs_C2.fit(val_vec, y_val)"
   ]
  },
  {
   "cell_type": "code",
   "execution_count": 190,
   "metadata": {
    "id": "nfsF2G8QwSpc"
   },
   "outputs": [],
   "source": [
    "Tuning_C2_Results = pd.DataFrame(clf_gs_C2.cv_results_)"
   ]
  },
  {
   "cell_type": "code",
   "execution_count": 191,
   "metadata": {
    "id": "2asO4u_awZhj"
   },
   "outputs": [
    {
     "data": {
      "text/html": [
       "<div>\n",
       "<style scoped>\n",
       "    .dataframe tbody tr th:only-of-type {\n",
       "        vertical-align: middle;\n",
       "    }\n",
       "\n",
       "    .dataframe tbody tr th {\n",
       "        vertical-align: top;\n",
       "    }\n",
       "\n",
       "    .dataframe thead th {\n",
       "        text-align: right;\n",
       "    }\n",
       "</style>\n",
       "<table border=\"1\" class=\"dataframe\">\n",
       "  <thead>\n",
       "    <tr style=\"text-align: right;\">\n",
       "      <th></th>\n",
       "      <th>mean_fit_time</th>\n",
       "      <th>std_fit_time</th>\n",
       "      <th>mean_score_time</th>\n",
       "      <th>std_score_time</th>\n",
       "      <th>param_C</th>\n",
       "      <th>params</th>\n",
       "      <th>split0_test_score</th>\n",
       "      <th>split1_test_score</th>\n",
       "      <th>split2_test_score</th>\n",
       "      <th>split3_test_score</th>\n",
       "      <th>split4_test_score</th>\n",
       "      <th>mean_test_score</th>\n",
       "      <th>std_test_score</th>\n",
       "      <th>rank_test_score</th>\n",
       "    </tr>\n",
       "  </thead>\n",
       "  <tbody>\n",
       "    <tr>\n",
       "      <td>0</td>\n",
       "      <td>0.258767</td>\n",
       "      <td>0.006259</td>\n",
       "      <td>0.002193</td>\n",
       "      <td>0.000399</td>\n",
       "      <td>0.2</td>\n",
       "      <td>{'C': 0.2}</td>\n",
       "      <td>0.565262</td>\n",
       "      <td>0.561706</td>\n",
       "      <td>0.575711</td>\n",
       "      <td>0.585366</td>\n",
       "      <td>0.567073</td>\n",
       "      <td>0.571024</td>\n",
       "      <td>0.008524</td>\n",
       "      <td>3</td>\n",
       "    </tr>\n",
       "    <tr>\n",
       "      <td>1</td>\n",
       "      <td>0.332917</td>\n",
       "      <td>0.017141</td>\n",
       "      <td>0.001796</td>\n",
       "      <td>0.000399</td>\n",
       "      <td>0.5</td>\n",
       "      <td>{'C': 0.5}</td>\n",
       "      <td>0.569325</td>\n",
       "      <td>0.570848</td>\n",
       "      <td>0.572154</td>\n",
       "      <td>0.599593</td>\n",
       "      <td>0.569106</td>\n",
       "      <td>0.576205</td>\n",
       "      <td>0.011746</td>\n",
       "      <td>2</td>\n",
       "    </tr>\n",
       "    <tr>\n",
       "      <td>2</td>\n",
       "      <td>0.576405</td>\n",
       "      <td>0.018930</td>\n",
       "      <td>0.001997</td>\n",
       "      <td>0.000004</td>\n",
       "      <td>1.5</td>\n",
       "      <td>{'C': 1.5}</td>\n",
       "      <td>0.581513</td>\n",
       "      <td>0.569325</td>\n",
       "      <td>0.582825</td>\n",
       "      <td>0.596545</td>\n",
       "      <td>0.576728</td>\n",
       "      <td>0.581387</td>\n",
       "      <td>0.008934</td>\n",
       "      <td>1</td>\n",
       "    </tr>\n",
       "  </tbody>\n",
       "</table>\n",
       "</div>"
      ],
      "text/plain": [
       "   mean_fit_time  std_fit_time  mean_score_time  std_score_time param_C  \\\n",
       "0       0.258767      0.006259         0.002193        0.000399     0.2   \n",
       "1       0.332917      0.017141         0.001796        0.000399     0.5   \n",
       "2       0.576405      0.018930         0.001997        0.000004     1.5   \n",
       "\n",
       "       params  split0_test_score  split1_test_score  split2_test_score  \\\n",
       "0  {'C': 0.2}           0.565262           0.561706           0.575711   \n",
       "1  {'C': 0.5}           0.569325           0.570848           0.572154   \n",
       "2  {'C': 1.5}           0.581513           0.569325           0.582825   \n",
       "\n",
       "   split3_test_score  split4_test_score  mean_test_score  std_test_score  \\\n",
       "0           0.585366           0.567073         0.571024        0.008524   \n",
       "1           0.599593           0.569106         0.576205        0.011746   \n",
       "2           0.596545           0.576728         0.581387        0.008934   \n",
       "\n",
       "   rank_test_score  \n",
       "0                3  \n",
       "1                2  \n",
       "2                1  "
      ]
     },
     "execution_count": 191,
     "metadata": {},
     "output_type": "execute_result"
    }
   ],
   "source": [
    "Tuning_C2_Results "
   ]
  },
  {
   "cell_type": "markdown",
   "metadata": {
    "id": "_kKFHJEzyU7c"
   },
   "source": [
    "#  **Fourth trial ****"
   ]
  },
  {
   "cell_type": "code",
   "execution_count": 192,
   "metadata": {
    "id": "zeEFsr28xx-K"
   },
   "outputs": [
    {
     "data": {
      "text/plain": [
       "GridSearchCV(cv=5, estimator=LinearSVC(),\n",
       "             param_grid={'C': [0.3, 0.4, 0.6, 0.8]})"
      ]
     },
     "execution_count": 192,
     "metadata": {},
     "output_type": "execute_result"
    }
   ],
   "source": [
    "\n",
    "param_grid3 = {'C': [0.3,0.4,0.6,0.8]}\n",
    "\n",
    "\n",
    "clf_gs_C3 = GridSearchCV(LinearSVC(),param_grid3, cv = 5) # cv ,default is 5 \n",
    "\n",
    "\n",
    "clf_gs_C3.fit(val_vec, y_val)"
   ]
  },
  {
   "cell_type": "code",
   "execution_count": 193,
   "metadata": {
    "id": "uKqHlko81Avr"
   },
   "outputs": [],
   "source": [
    "Tuning_C3_Results = pd.DataFrame(clf_gs_C3.cv_results_)"
   ]
  },
  {
   "cell_type": "code",
   "execution_count": 194,
   "metadata": {
    "id": "LsHO-6-j1DJ0"
   },
   "outputs": [
    {
     "data": {
      "text/html": [
       "<div>\n",
       "<style scoped>\n",
       "    .dataframe tbody tr th:only-of-type {\n",
       "        vertical-align: middle;\n",
       "    }\n",
       "\n",
       "    .dataframe tbody tr th {\n",
       "        vertical-align: top;\n",
       "    }\n",
       "\n",
       "    .dataframe thead th {\n",
       "        text-align: right;\n",
       "    }\n",
       "</style>\n",
       "<table border=\"1\" class=\"dataframe\">\n",
       "  <thead>\n",
       "    <tr style=\"text-align: right;\">\n",
       "      <th></th>\n",
       "      <th>mean_fit_time</th>\n",
       "      <th>std_fit_time</th>\n",
       "      <th>mean_score_time</th>\n",
       "      <th>std_score_time</th>\n",
       "      <th>param_C</th>\n",
       "      <th>params</th>\n",
       "      <th>split0_test_score</th>\n",
       "      <th>split1_test_score</th>\n",
       "      <th>split2_test_score</th>\n",
       "      <th>split3_test_score</th>\n",
       "      <th>split4_test_score</th>\n",
       "      <th>mean_test_score</th>\n",
       "      <th>std_test_score</th>\n",
       "      <th>rank_test_score</th>\n",
       "    </tr>\n",
       "  </thead>\n",
       "  <tbody>\n",
       "    <tr>\n",
       "      <td>0</td>\n",
       "      <td>0.283705</td>\n",
       "      <td>0.013917</td>\n",
       "      <td>0.001996</td>\n",
       "      <td>0.000004</td>\n",
       "      <td>0.3</td>\n",
       "      <td>{'C': 0.3}</td>\n",
       "      <td>0.568309</td>\n",
       "      <td>0.569325</td>\n",
       "      <td>0.577236</td>\n",
       "      <td>0.591463</td>\n",
       "      <td>0.574695</td>\n",
       "      <td>0.576206</td>\n",
       "      <td>0.008317</td>\n",
       "      <td>3</td>\n",
       "    </tr>\n",
       "    <tr>\n",
       "      <td>1</td>\n",
       "      <td>0.339319</td>\n",
       "      <td>0.025659</td>\n",
       "      <td>0.001763</td>\n",
       "      <td>0.000388</td>\n",
       "      <td>0.4</td>\n",
       "      <td>{'C': 0.4}</td>\n",
       "      <td>0.564754</td>\n",
       "      <td>0.567801</td>\n",
       "      <td>0.574187</td>\n",
       "      <td>0.593496</td>\n",
       "      <td>0.571138</td>\n",
       "      <td>0.574275</td>\n",
       "      <td>0.010118</td>\n",
       "      <td>4</td>\n",
       "    </tr>\n",
       "    <tr>\n",
       "      <td>2</td>\n",
       "      <td>0.358108</td>\n",
       "      <td>0.012307</td>\n",
       "      <td>0.002195</td>\n",
       "      <td>0.000399</td>\n",
       "      <td>0.6</td>\n",
       "      <td>{'C': 0.6}</td>\n",
       "      <td>0.572372</td>\n",
       "      <td>0.568309</td>\n",
       "      <td>0.572663</td>\n",
       "      <td>0.598069</td>\n",
       "      <td>0.572663</td>\n",
       "      <td>0.576815</td>\n",
       "      <td>0.010755</td>\n",
       "      <td>2</td>\n",
       "    </tr>\n",
       "    <tr>\n",
       "      <td>3</td>\n",
       "      <td>0.412189</td>\n",
       "      <td>0.041144</td>\n",
       "      <td>0.001990</td>\n",
       "      <td>0.000013</td>\n",
       "      <td>0.8</td>\n",
       "      <td>{'C': 0.8}</td>\n",
       "      <td>0.578466</td>\n",
       "      <td>0.572880</td>\n",
       "      <td>0.578252</td>\n",
       "      <td>0.595528</td>\n",
       "      <td>0.575203</td>\n",
       "      <td>0.580066</td>\n",
       "      <td>0.008003</td>\n",
       "      <td>1</td>\n",
       "    </tr>\n",
       "  </tbody>\n",
       "</table>\n",
       "</div>"
      ],
      "text/plain": [
       "   mean_fit_time  std_fit_time  mean_score_time  std_score_time param_C  \\\n",
       "0       0.283705      0.013917         0.001996        0.000004     0.3   \n",
       "1       0.339319      0.025659         0.001763        0.000388     0.4   \n",
       "2       0.358108      0.012307         0.002195        0.000399     0.6   \n",
       "3       0.412189      0.041144         0.001990        0.000013     0.8   \n",
       "\n",
       "       params  split0_test_score  split1_test_score  split2_test_score  \\\n",
       "0  {'C': 0.3}           0.568309           0.569325           0.577236   \n",
       "1  {'C': 0.4}           0.564754           0.567801           0.574187   \n",
       "2  {'C': 0.6}           0.572372           0.568309           0.572663   \n",
       "3  {'C': 0.8}           0.578466           0.572880           0.578252   \n",
       "\n",
       "   split3_test_score  split4_test_score  mean_test_score  std_test_score  \\\n",
       "0           0.591463           0.574695         0.576206        0.008317   \n",
       "1           0.593496           0.571138         0.574275        0.010118   \n",
       "2           0.598069           0.572663         0.576815        0.010755   \n",
       "3           0.595528           0.575203         0.580066        0.008003   \n",
       "\n",
       "   rank_test_score  \n",
       "0                3  \n",
       "1                4  \n",
       "2                2  \n",
       "3                1  "
      ]
     },
     "execution_count": 194,
     "metadata": {},
     "output_type": "execute_result"
    }
   ],
   "source": [
    "Tuning_C3_Results"
   ]
  },
  {
   "cell_type": "code",
   "execution_count": 195,
   "metadata": {
    "id": "A-zaDFV15gLM"
   },
   "outputs": [
    {
     "data": {
      "text/plain": [
       "sklearn.svm._classes.LinearSVC"
      ]
     },
     "execution_count": 195,
     "metadata": {},
     "output_type": "execute_result"
    }
   ],
   "source": [
    "type(clf_gs_C3.best_estimator_)"
   ]
  },
  {
   "cell_type": "code",
   "execution_count": 196,
   "metadata": {
    "id": "jK-QKe0n5nDk"
   },
   "outputs": [
    {
     "name": "stdout",
     "output_type": "stream",
     "text": [
      "LinearSVC(C=0.8)\n"
     ]
    }
   ],
   "source": [
    "print(clf_gs_C3.best_estimator_)"
   ]
  },
  {
   "cell_type": "markdown",
   "metadata": {},
   "source": [
    "# Assign the best classifier for use"
   ]
  },
  {
   "cell_type": "code",
   "execution_count": 277,
   "metadata": {},
   "outputs": [
    {
     "name": "stdout",
     "output_type": "stream",
     "text": [
      "\u001b[34m\n",
      " Scores for: LinearSVC(C=1)\u001b[0m\n",
      "[0.58354495 0.57491112 0.57926829 0.59654472 0.57469512]\n",
      "ValidationAccuracy Mean score: 0.582 (+/-0.008)\n"
     ]
    }
   ],
   "source": [
    "bestclf = clf_gs_C1.best_estimator_\n",
    "cv = 5\n",
    "\n",
    "scores = cross_val_score(bestclf,val_vec, y_val, cv=cv, scoring=\"accuracy\" )\n",
    "print(colored('\\n Scores for: %s' % (bestclf),'blue')) \n",
    "print (scores)\n",
    "print ((\"ValidationAccuracy Mean score: {0:.3f} (+/-{1:.3f})\").format(\n",
    "        np.mean(scores), np.std(scores)))"
   ]
  },
  {
   "cell_type": "code",
   "execution_count": 278,
   "metadata": {},
   "outputs": [],
   "source": [
    "#save model\n",
    "\n",
    "\n",
    "save_SVMbestclf = open('LinearSVC_valbestclf.pkl','wb')\n",
    "pickle.dump(bestclf,save_SVMbestclf)\n",
    "save_SVMbestclf.close()"
   ]
  },
  {
   "cell_type": "markdown",
   "metadata": {},
   "source": [
    "## Section for checking custom sentences for classification\n",
    "\n"
   ]
  },
  {
   "cell_type": "code",
   "execution_count": 279,
   "metadata": {},
   "outputs": [],
   "source": [
    "def check_similarity(sentence1, sentence2):\n",
    "    data_input = {'premise':[sentence1], 'hypothesis':[sentence2]}\n",
    "    df_input = pd.DataFrame(data_input, columns = ['premise','hypothesis'])\n",
    "    df_input['len'] = df_input['premise'].apply(len_text)\n",
    "    input_vec = pipeline.transform(df_input)\n",
    "    \n",
    "    # Load pre-trained SVM \n",
    "    #LinearSVC_valbestclf.pkl\n",
    "    \n",
    "    \n",
    "    load_SVM_clf = pickle.load(open('LinearSVC_valbestclf.pkl','rb'))\n",
    "    pred = load_SVM_clf.predict(input_vec)\n",
    "    \n",
    "    target_map = {0:'entailment',1: 'contradiction',2:'neutral'}\n",
    "    return target_map[pred[0]]  "
   ]
  },
  {
   "cell_type": "code",
   "execution_count": 280,
   "metadata": {},
   "outputs": [
    {
     "data": {
      "text/plain": [
       "'contradiction'"
      ]
     },
     "execution_count": 280,
     "metadata": {},
     "output_type": "execute_result"
    }
   ],
   "source": [
    "sentence1 = \"Two women are observing something together.\"\n",
    "sentence2 = \"Two women are standing with their eyes closed.\"\n",
    "a = check_similarity(sentence1, sentence2) # expected-contradiction\n",
    "a"
   ]
  },
  {
   "cell_type": "code",
   "execution_count": 281,
   "metadata": {},
   "outputs": [
    {
     "data": {
      "text/plain": [
       "'entailment'"
      ]
     },
     "execution_count": 281,
     "metadata": {},
     "output_type": "execute_result"
    }
   ],
   "source": [
    "sentence1 = \"A soccer game with multiple males playing\"\n",
    "sentence2 = \"Some men are playing a sport\"\n",
    "c = check_similarity(sentence1, sentence2) # expected-entailment \n",
    "c"
   ]
  },
  {
   "cell_type": "code",
   "execution_count": 267,
   "metadata": {},
   "outputs": [
    {
     "data": {
      "text/plain": [
       "'contradiction'"
      ]
     },
     "execution_count": 267,
     "metadata": {},
     "output_type": "execute_result"
    }
   ],
   "source": [
    "sentence1 = \"The Court of Appeal correctly followed the policy approach  \"\n",
    "sentence2 = \"The Court of Appeal erred in its application of guidelines.\"\n",
    "i= check_similarity(sentence1, sentence2) # expected-contradiction\n",
    "i"
   ]
  },
  {
   "cell_type": "code",
   "execution_count": 268,
   "metadata": {},
   "outputs": [
    {
     "data": {
      "text/plain": [
       "'entailment'"
      ]
     },
     "execution_count": 268,
     "metadata": {},
     "output_type": "execute_result"
    }
   ],
   "source": [
    "sentence1 = \"A smiling costumed woman is holding an umbrella\"\n",
    "sentence2 = \"A happy woman in a fairy costume holds an umbrella\"\n",
    "b = check_similarity(sentence1, sentence2) # entailment \n",
    "b\n",
    "    "
   ]
  },
  {
   "cell_type": "code",
   "execution_count": 269,
   "metadata": {},
   "outputs": [
    {
     "data": {
      "text/plain": [
       "'neutral'"
      ]
     },
     "execution_count": 269,
     "metadata": {},
     "output_type": "execute_result"
    }
   ],
   "source": [
    "sentence1 = \"Title to land does not have to be used immediately by new owner and cannot be reverted.  \"\n",
    "sentence2 = \"Title to land can be reverted to the original owner.  .\"\n",
    "h= check_similarity(sentence1, sentence2)   # contradiction\n",
    "h"
   ]
  },
  {
   "cell_type": "code",
   "execution_count": 270,
   "metadata": {},
   "outputs": [
    {
     "data": {
      "text/plain": [
       "'contradiction'"
      ]
     },
     "execution_count": 270,
     "metadata": {},
     "output_type": "execute_result"
    }
   ],
   "source": [
    " \n",
    "sentence1 = \"The board, having considered the evidence, found it necessary that the petitioner should be confined. \"\n",
    "sentence2 = \"No adequate reasons for not allowing petitioner´s release on license from custody. .\"\n",
    "g= check_similarity(sentence1, sentence2)   # entailment\n",
    "g"
   ]
  },
  {
   "cell_type": "code",
   "execution_count": 271,
   "metadata": {},
   "outputs": [
    {
     "data": {
      "text/plain": [
       "'contradiction'"
      ]
     },
     "execution_count": 271,
     "metadata": {},
     "output_type": "execute_result"
    }
   ],
   "source": [
    "sentence1 = \"The judge rightly observed the issues raised by the appellant`s claim. \"\n",
    "sentence2 = \"No error of law in the legal decision .\"\n",
    "g= check_similarity(sentence1, sentence2)   # entailment\n",
    "g"
   ]
  },
  {
   "cell_type": "code",
   "execution_count": 272,
   "metadata": {},
   "outputs": [
    {
     "data": {
      "text/plain": [
       "'contradiction'"
      ]
     },
     "execution_count": 272,
     "metadata": {},
     "output_type": "execute_result"
    }
   ],
   "source": [
    "sentence1 = \"Two women are embracing while holding to go packages.\"\n",
    "sentence2 = \"The men are fighting outside a deli.\"\n",
    "f= check_similarity(sentence1, sentence2)   # contradiction\n",
    "f"
   ]
  },
  {
   "cell_type": "code",
   "execution_count": 273,
   "metadata": {},
   "outputs": [
    {
     "data": {
      "text/plain": [
       "'entailment'"
      ]
     },
     "execution_count": 273,
     "metadata": {},
     "output_type": "execute_result"
    }
   ],
   "source": [
    "sentence1 = \"Two women are embracing while holding to go packages.\"\n",
    "sentence2 = \"Two woman are holding packages.\" # entailment\n",
    "e= check_similarity(sentence1, sentence2)\n",
    "e"
   ]
  },
  {
   "cell_type": "markdown",
   "metadata": {},
   "source": [
    "## Prediction on Test set "
   ]
  },
  {
   "cell_type": "code",
   "execution_count": 78,
   "metadata": {},
   "outputs": [
    {
     "name": "stdout",
     "output_type": "stream",
     "text": [
      "[[2056  643  669]\n",
      " [ 734 1799  704]\n",
      " [ 672  616 1931]]\n",
      "              precision    recall  f1-score   support\n",
      "\n",
      "           0       0.59      0.61      0.60      3368\n",
      "           1       0.59      0.56      0.57      3237\n",
      "           2       0.58      0.60      0.59      3219\n",
      "\n",
      "    accuracy                           0.59      9824\n",
      "   macro avg       0.59      0.59      0.59      9824\n",
      "weighted avg       0.59      0.59      0.59      9824\n",
      "\n"
     ]
    }
   ],
   "source": [
    "#with bestestimator\n",
    "\n",
    "load_SVM_clf = pickle.load(open('LinearSVC_valbestclf.pkl','rb'))\n",
    "pred = load_SVM_clf.predict(test_vec)\n",
    "\n",
    "print(confusion_matrix(y_test,pred))\n",
    "print(classification_report(y_test,pred))\n"
   ]
  },
  {
   "cell_type": "code",
   "execution_count": 79,
   "metadata": {},
   "outputs": [
    {
     "name": "stdout",
     "output_type": "stream",
     "text": [
      "               precision    recall  f1-score   support\n",
      "\n",
      "   entailment       0.59      0.61      0.60      3368\n",
      "contradiction       0.59      0.56      0.57      3237\n",
      "      neutral       0.58      0.60      0.59      3219\n",
      "\n",
      "     accuracy                           0.59      9824\n",
      "    macro avg       0.59      0.59      0.59      9824\n",
      " weighted avg       0.59      0.59      0.59      9824\n",
      "\n"
     ]
    },
    {
     "data": {
      "image/png": "[encoded data removed]",
      "text/plain": [
       "<Figure size 432x288 with 2 Axes>"
      ]
     },
     "metadata": {
      "needs_background": "light"
     },
     "output_type": "display_data"
    }
   ],
   "source": [
    "visualize_confusion_matrix(y_test, pred)\n",
    "\n"
   ]
  },
  {
   "cell_type": "code",
   "execution_count": null,
   "metadata": {},
   "outputs": [],
   "source": []
  }
 ],
 "metadata": {
  "colab": {
   "name": "SVM_LinearSVC_0.0_alldata_Tuning_colab.ipynb",
   "provenance": []
  },
  "kernelspec": {
   "display_name": "Python 3 (ipykernel)",
   "language": "python",
   "name": "python3"
  },
  "language_info": {
   "codemirror_mode": {
    "name": "ipython",
    "version": 3
   },
   "file_extension": ".py",
   "mimetype": "text/x-python",
   "name": "python",
   "nbconvert_exporter": "python",
   "pygments_lexer": "ipython3",
   "version": "3.10.4"
  }
 },
 "nbformat": 4,
 "nbformat_minor": 1
}
